{
  "nbformat": 4,
  "nbformat_minor": 0,
  "metadata": {
    "colab": {
      "provenance": [],
      "gpuType": "T4"
    },
    "kernelspec": {
      "name": "python3",
      "display_name": "Python 3"
    },
    "language_info": {
      "name": "python"
    },
    "accelerator": "GPU"
  },
  "cells": [
    {
      "cell_type": "code",
      "execution_count": 1,
      "metadata": {
        "colab": {
          "base_uri": "https://localhost:8080/"
        },
        "id": "4VL_EaV_4K5k",
        "outputId": "eb9017df-54a2-456b-87f3-7a16296065e4"
      },
      "outputs": [
        {
          "output_type": "stream",
          "name": "stdout",
          "text": [
            "Requirement already satisfied: datasets in /usr/local/lib/python3.11/dist-packages (3.5.0)\n",
            "Requirement already satisfied: filelock in /usr/local/lib/python3.11/dist-packages (from datasets) (3.18.0)\n",
            "Requirement already satisfied: numpy>=1.17 in /usr/local/lib/python3.11/dist-packages (from datasets) (2.0.2)\n",
            "Requirement already satisfied: pyarrow>=15.0.0 in /usr/local/lib/python3.11/dist-packages (from datasets) (18.1.0)\n",
            "Requirement already satisfied: dill<0.3.9,>=0.3.0 in /usr/local/lib/python3.11/dist-packages (from datasets) (0.3.8)\n",
            "Requirement already satisfied: pandas in /usr/local/lib/python3.11/dist-packages (from datasets) (2.2.2)\n",
            "Requirement already satisfied: requests>=2.32.2 in /usr/local/lib/python3.11/dist-packages (from datasets) (2.32.3)\n",
            "Requirement already satisfied: tqdm>=4.66.3 in /usr/local/lib/python3.11/dist-packages (from datasets) (4.67.1)\n",
            "Requirement already satisfied: xxhash in /usr/local/lib/python3.11/dist-packages (from datasets) (3.5.0)\n",
            "Requirement already satisfied: multiprocess<0.70.17 in /usr/local/lib/python3.11/dist-packages (from datasets) (0.70.16)\n",
            "Requirement already satisfied: fsspec<=2024.12.0,>=2023.1.0 in /usr/local/lib/python3.11/dist-packages (from fsspec[http]<=2024.12.0,>=2023.1.0->datasets) (2024.12.0)\n",
            "Requirement already satisfied: aiohttp in /usr/local/lib/python3.11/dist-packages (from datasets) (3.11.14)\n",
            "Requirement already satisfied: huggingface-hub>=0.24.0 in /usr/local/lib/python3.11/dist-packages (from datasets) (0.29.3)\n",
            "Requirement already satisfied: packaging in /usr/local/lib/python3.11/dist-packages (from datasets) (24.2)\n",
            "Requirement already satisfied: pyyaml>=5.1 in /usr/local/lib/python3.11/dist-packages (from datasets) (6.0.2)\n",
            "Requirement already satisfied: aiohappyeyeballs>=2.3.0 in /usr/local/lib/python3.11/dist-packages (from aiohttp->datasets) (2.6.1)\n",
            "Requirement already satisfied: aiosignal>=1.1.2 in /usr/local/lib/python3.11/dist-packages (from aiohttp->datasets) (1.3.2)\n",
            "Requirement already satisfied: attrs>=17.3.0 in /usr/local/lib/python3.11/dist-packages (from aiohttp->datasets) (25.3.0)\n",
            "Requirement already satisfied: frozenlist>=1.1.1 in /usr/local/lib/python3.11/dist-packages (from aiohttp->datasets) (1.5.0)\n",
            "Requirement already satisfied: multidict<7.0,>=4.5 in /usr/local/lib/python3.11/dist-packages (from aiohttp->datasets) (6.2.0)\n",
            "Requirement already satisfied: propcache>=0.2.0 in /usr/local/lib/python3.11/dist-packages (from aiohttp->datasets) (0.3.1)\n",
            "Requirement already satisfied: yarl<2.0,>=1.17.0 in /usr/local/lib/python3.11/dist-packages (from aiohttp->datasets) (1.18.3)\n",
            "Requirement already satisfied: typing-extensions>=3.7.4.3 in /usr/local/lib/python3.11/dist-packages (from huggingface-hub>=0.24.0->datasets) (4.13.0)\n",
            "Requirement already satisfied: charset-normalizer<4,>=2 in /usr/local/lib/python3.11/dist-packages (from requests>=2.32.2->datasets) (3.4.1)\n",
            "Requirement already satisfied: idna<4,>=2.5 in /usr/local/lib/python3.11/dist-packages (from requests>=2.32.2->datasets) (3.10)\n",
            "Requirement already satisfied: urllib3<3,>=1.21.1 in /usr/local/lib/python3.11/dist-packages (from requests>=2.32.2->datasets) (2.3.0)\n",
            "Requirement already satisfied: certifi>=2017.4.17 in /usr/local/lib/python3.11/dist-packages (from requests>=2.32.2->datasets) (2025.1.31)\n",
            "Requirement already satisfied: python-dateutil>=2.8.2 in /usr/local/lib/python3.11/dist-packages (from pandas->datasets) (2.8.2)\n",
            "Requirement already satisfied: pytz>=2020.1 in /usr/local/lib/python3.11/dist-packages (from pandas->datasets) (2025.2)\n",
            "Requirement already satisfied: tzdata>=2022.7 in /usr/local/lib/python3.11/dist-packages (from pandas->datasets) (2025.2)\n",
            "Requirement already satisfied: six>=1.5 in /usr/local/lib/python3.11/dist-packages (from python-dateutil>=2.8.2->pandas->datasets) (1.17.0)\n"
          ]
        }
      ],
      "source": [
        "!pip install datasets"
      ]
    },
    {
      "cell_type": "code",
      "source": [
        "from datasets import load_dataset\n",
        "dataset = load_dataset(\"community-datasets/offenseval_dravidian\", \"kannada\")\n",
        "\n",
        "print(dataset)"
      ],
      "metadata": {
        "colab": {
          "base_uri": "https://localhost:8080/"
        },
        "id": "XGeK2XNi4klI",
        "outputId": "5676b56a-57d0-4141-d02f-f997ce6c26e8"
      },
      "execution_count": 2,
      "outputs": [
        {
          "output_type": "stream",
          "name": "stderr",
          "text": [
            "/usr/local/lib/python3.11/dist-packages/huggingface_hub/utils/_auth.py:94: UserWarning: \n",
            "The secret `HF_TOKEN` does not exist in your Colab secrets.\n",
            "To authenticate with the Hugging Face Hub, create a token in your settings tab (https://huggingface.co/settings/tokens), set it as secret in your Google Colab and restart your session.\n",
            "You will be able to reuse this secret in all of your notebooks.\n",
            "Please note that authentication is recommended but still optional to access public models or datasets.\n",
            "  warnings.warn(\n"
          ]
        },
        {
          "output_type": "stream",
          "name": "stdout",
          "text": [
            "DatasetDict({\n",
            "    train: Dataset({\n",
            "        features: ['text', 'label'],\n",
            "        num_rows: 6217\n",
            "    })\n",
            "    validation: Dataset({\n",
            "        features: ['text', 'label'],\n",
            "        num_rows: 777\n",
            "    })\n",
            "})\n"
          ]
        }
      ]
    },
    {
      "cell_type": "code",
      "source": [
        "from datasets import load_dataset\n",
        "import re\n",
        "from sklearn.model_selection import train_test_split\n",
        "\n",
        "# Load the dataset\n",
        "dataset = load_dataset(\"community-datasets/offenseval_dravidian\", \"kannada\")\n",
        "\n",
        "# Convert the dataset to a list of dictionaries so train_test_split can be applied\n",
        "train_data = dataset['train']\n",
        "\n",
        "# Convert the dataset to a list of dicts (this step should be done carefully)\n",
        "train_data_list = [{'text': item['text'], 'label': item['label']} for item in train_data]\n",
        "\n",
        "# Split the train data into 90% for training and 10% for testing\n",
        "train_data_split, test_data_split = train_test_split(train_data_list, test_size=0.1, random_state=42)\n",
        "\n",
        "# Clean function to preserve emojis and emoticons\n",
        "def clean_text(text):\n",
        "    # Remove unwanted characters but keep emojis and emoticons\n",
        "    text = re.sub(r'http\\S+|www\\S+|https\\S+', '', text)  # Remove URLs\n",
        "    # Keep only letters, numbers, whitespaces, and emojis\n",
        "    text = re.sub(r'[^a-zA-Z0-9\\s\\U0001F600-\\U0001F64F\\U0001F300-\\U0001F5FF\\U0001F680-\\U0001F6FF\\U0001F700-\\U0001F77F\\U0001F780-\\U0001F7FF\\U0001F800-\\U0001F8FF\\U0001F900-\\U0001F9FF\\U0001FA00-\\U0001FA6F\\U0001FA70-\\U0001FAFF\\U00002702-\\U000027B0\\U000024C2-\\U0001F251]', '', text)\n",
        "    text = text.strip()\n",
        "    return text\n",
        "\n",
        "# Apply the cleaning function to the train, test, and validation datasets\n",
        "train_data_split = [{'text': clean_text(item['text']), 'label': item['label']} for item in train_data_split]\n",
        "test_data_split = [{'text': clean_text(item['text']), 'label': item['label']} for item in test_data_split]\n",
        "dataset['validation'] = [{'text': clean_text(item['text']), 'label': item['label']} for item in dataset['validation']]\n",
        "\n",
        "# Check the cleaned data\n",
        "print(train_data_split[1])\n",
        "print(test_data_split[0])\n",
        "print(dataset['validation'][0])"
      ],
      "metadata": {
        "colab": {
          "base_uri": "https://localhost:8080/"
        },
        "id": "Mb_Hv3Yj4vhs",
        "outputId": "2ba709e9-e869-4c7e-ee5c-ef17669ac7b1"
      },
      "execution_count": 3,
      "outputs": [
        {
          "output_type": "stream",
          "name": "stdout",
          "text": [
            "{'text': 'Haha  nija', 'label': 0}\n",
            "{'text': '', 'label': 0}\n",
            "{'text': '100 days pakka', 'label': 0}\n"
          ]
        }
      ]
    },
    {
      "cell_type": "code",
      "source": [
        "import pandas as pd\n",
        "import re\n",
        "from sklearn.model_selection import train_test_split\n",
        "from datasets import load_dataset\n",
        "\n",
        "# Load the dataset\n",
        "dataset = load_dataset(\"community-datasets/offenseval_dravidian\",\"kannada\")\n",
        "\n",
        "# Extract train data\n",
        "train_data = dataset['train']\n",
        "\n",
        "# Convert to a list of dictionaries for train_test_split\n",
        "train_data_list = [{'text': item['text'], 'label': item['label']} for item in train_data]\n",
        "\n",
        "# Split train data into 90% train and 10% test\n",
        "train_data_split, test_data_split = train_test_split(train_data_list, test_size=0.1, random_state=42)\n",
        "\n",
        "# Convert lists of dictionaries to pandas DataFrames\n",
        "df_train = pd.DataFrame(train_data_split)\n",
        "df_test = pd.DataFrame(test_data_split)\n",
        "df_val = pd.DataFrame([{'text': item['text'], 'label': item['label']} for item in dataset['validation']])\n",
        "\n",
        "# Ensure the DataFrames contain the required columns\n",
        "required_columns = ['text', 'label']\n",
        "for df_name, df in zip(['df_train', 'df_test', 'df_val'], [df_train, df_test, df_val]):\n",
        "    if not all(col in df.columns for col in required_columns):\n",
        "        raise KeyError(f\"{df_name} must contain the columns {required_columns}.\")\n",
        "\n",
        "# Function to extract emojis from the text\n",
        "def extract_emojis(text):\n",
        "    emoji_pattern = re.compile(\n",
        "        r'[\\U0001F600-\\U0001F64F'  # emoticons\n",
        "        r'\\U0001F300-\\U0001F5FF'  # symbols & pictographs\n",
        "        r'\\U0001F680-\\U0001F6FF'  # transport & map symbols\n",
        "        r'\\U0001F700-\\U0001F77F'  # alchemical symbols\n",
        "        r'\\U0001F780-\\U0001F7FF'  # Geometric Shapes Extended\n",
        "        r'\\U0001F800-\\U0001F8FF'  # Supplemental Arrows-C\n",
        "        r'\\U0001F900-\\U0001F9FF'  # Supplemental Symbols and Pictographs\n",
        "        r'\\U0001FA00-\\U0001FA6F'  # Chess Symbols\n",
        "        r'\\U0001FA70-\\U0001FAFF'  # Symbols and Pictographs Extended-A\n",
        "        r'\\U00002702-\\U000027B0'  # Dingbats\n",
        "        r'\\U000024C2-\\U0001F251'  # Enclosed characters\n",
        "        r']+', flags=re.UNICODE)\n",
        "    emojis = emoji_pattern.findall(text)\n",
        "    return ''.join(emojis)\n",
        "\n",
        "# Function to separate emojis and clean text\n",
        "def separate_emojis(text):\n",
        "    emojis = extract_emojis(text)\n",
        "    # Remove emojis and keep only cleaned text\n",
        "    text_without_emojis = re.sub(r'[^\\w\\s,\\.!?]', '', text)\n",
        "    return text_without_emojis.strip(), emojis\n",
        "\n",
        "# Apply the cleaning and emoji extraction function\n",
        "df_train['cleaned_text'], df_train['emojis'] = zip(*df_train['text'].map(separate_emojis))\n",
        "df_test['cleaned_text'], df_test['emojis'] = zip(*df_test['text'].map(separate_emojis))\n",
        "df_val['cleaned_text'], df_val['emojis'] = zip(*df_val['text'].map(separate_emojis))\n",
        "\n",
        "# Create separate DataFrames for cleaned text and emojis with labels\n",
        "df_cleaned_text_train = df_train[['cleaned_text', 'label']].copy()\n",
        "df_emojis_train = df_train[['emojis', 'label']].copy()\n",
        "\n",
        "df_cleaned_text_test = df_test[['cleaned_text', 'label']].copy()\n",
        "df_emojis_test = df_test[['emojis', 'label']].copy()\n",
        "\n",
        "df_cleaned_text_val = df_val[['cleaned_text', 'label']].copy()\n",
        "df_emojis_val = df_val[['emojis', 'label']].copy()\n",
        "\n",
        "# Display sample data\n",
        "print(\"Cleaned Text Train Data:\")\n",
        "print(df_cleaned_text_train.head())\n",
        "\n",
        "print(\"\\nEmojis Train Data:\")\n",
        "print(df_emojis_train.head())\n",
        "\n",
        "print(\"\\nCleaned Text Test Data:\")\n",
        "print(df_cleaned_text_test.head())\n",
        "\n",
        "print(\"\\nEmojis Test Data:\")\n",
        "print(df_emojis_test.head())\n",
        "\n",
        "print(\"\\nCleaned Text Validation Data:\")\n",
        "print(df_cleaned_text_val.head())\n",
        "\n",
        "print(\"\\nEmojis Validation Data:\")\n",
        "print(df_emojis_val.head())"
      ],
      "metadata": {
        "colab": {
          "base_uri": "https://localhost:8080/"
        },
        "id": "OTPYR45e48xb",
        "outputId": "cc679dfa-90c6-411b-e8b4-9397342f661c"
      },
      "execution_count": 4,
      "outputs": [
        {
          "output_type": "stream",
          "name": "stdout",
          "text": [
            "Cleaned Text Train Data:\n",
            "                       cleaned_text  label\n",
            "0                          Hands up      0\n",
            "1                        Haha  nija      0\n",
            "2                     1 in trending      5\n",
            "3   Movie hindi me kb tk aa ne ka h      5\n",
            "4  Edu charitre srustisuva avatraaa      0\n",
            "\n",
            "Emojis Train Data:\n",
            "  emojis  label\n",
            "0             0\n",
            "1             0\n",
            "2             5\n",
            "3             5\n",
            "4             0\n",
            "\n",
            "Cleaned Text Test Data:\n",
            "                                        cleaned_text  label\n",
            "0  ವವ ಸಪರ ಅನಲಸಸನಮಮ ದಶ ಓಳಳದ...ಮತ ಜಸತ  ಕಲಸ ಕಮಮ........      0\n",
            "1  Yalla kannadigarugu ansthithu bere bashe movie...      0\n",
            "2                   Sir make vidieo on drone prathap      5\n",
            "3                          Vivek G side ge hogro nim      3\n",
            "4   ಈ ಯಗದ ಶಕರ ನಗ ಗರ ನನ  all the best from DBOSS fans      0\n",
            "\n",
            "Emojis Test Data:\n",
            "  emojis  label\n",
            "0             0\n",
            "1             0\n",
            "2             5\n",
            "3             3\n",
            "4             0\n",
            "\n",
            "Cleaned Text Validation Data:\n",
            "                                        cleaned_text  label\n",
            "0                                     100 days pakka      0\n",
            "1                                          Super sir      5\n",
            "2                                           Hands up      5\n",
            "3  Sari nivu video na roast madi adre madvaga pub...      0\n",
            "4                       Krishana  shapa tatteleebeku      0\n",
            "\n",
            "Emojis Validation Data:\n",
            "  emojis  label\n",
            "0             0\n",
            "1             5\n",
            "2             5\n",
            "3             0\n",
            "4             0\n"
          ]
        }
      ]
    },
    {
      "cell_type": "code",
      "source": [
        "from transformers import AutoTokenizer, AutoModel\n",
        "import torch\n",
        "\n",
        "# Load a pre-trained model and tokenizer\n",
        "model_name = \"bert-base-uncased\"  # Replace with a model fine-tuned for emojis if needed\n",
        "tokenizer = AutoTokenizer.from_pretrained(model_name)\n",
        "model = AutoModel.from_pretrained(model_name)\n",
        "\n",
        "# Function to get embeddings for emojis\n",
        "def get_emoji_embedding(emojis, tokenizer, model):\n",
        "    if not emojis:  # No emojis provided\n",
        "        return torch.zeros(768)  # Assuming the model outputs 768-dimensional embeddings\n",
        "    inputs = tokenizer(emojis, return_tensors=\"pt\", truncation=True, max_length=10)\n",
        "    outputs = model(**inputs)\n",
        "    # Use the mean of the last hidden state as the embedding\n",
        "    embeddings = outputs.last_hidden_state.mean(dim=1).squeeze()\n",
        "    return embeddings.detach().numpy()\n",
        "\n",
        "# Apply to your DataFrame\n",
        "df_emojis_train['emoji_embeddings'] = df_emojis_train['emojis'].map(\n",
        "    lambda x: get_emoji_embedding(x, tokenizer, model)\n",
        ")\n",
        "\n",
        "# Display sample embeddings\n",
        "print(df_emojis_train[['emojis', 'emoji_embeddings']].head(15))"
      ],
      "metadata": {
        "colab": {
          "base_uri": "https://localhost:8080/"
        },
        "id": "Z6cwJf6p5OuM",
        "outputId": "04537425-4284-4090-f2c4-84e7979818f3"
      },
      "execution_count": 5,
      "outputs": [
        {
          "output_type": "stream",
          "name": "stdout",
          "text": [
            "   emojis                                   emoji_embeddings\n",
            "0          [tensor(0.), tensor(0.), tensor(0.), tensor(0....\n",
            "1          [tensor(0.), tensor(0.), tensor(0.), tensor(0....\n",
            "2          [tensor(0.), tensor(0.), tensor(0.), tensor(0....\n",
            "3          [tensor(0.), tensor(0.), tensor(0.), tensor(0....\n",
            "4          [tensor(0.), tensor(0.), tensor(0.), tensor(0....\n",
            "5          [tensor(0.), tensor(0.), tensor(0.), tensor(0....\n",
            "6          [tensor(0.), tensor(0.), tensor(0.), tensor(0....\n",
            "7          [tensor(0.), tensor(0.), tensor(0.), tensor(0....\n",
            "8          [tensor(0.), tensor(0.), tensor(0.), tensor(0....\n",
            "9          [tensor(0.), tensor(0.), tensor(0.), tensor(0....\n",
            "10         [tensor(0.), tensor(0.), tensor(0.), tensor(0....\n",
            "11         [tensor(0.), tensor(0.), tensor(0.), tensor(0....\n",
            "12         [tensor(0.), tensor(0.), tensor(0.), tensor(0....\n",
            "13         [tensor(0.), tensor(0.), tensor(0.), tensor(0....\n",
            "14         [tensor(0.), tensor(0.), tensor(0.), tensor(0....\n"
          ]
        }
      ]
    },
    {
      "cell_type": "code",
      "source": [
        "import matplotlib.pyplot as plt\n",
        "import pandas as pd\n",
        "\n",
        "# Plotting the distribution of labels in Train, Test, and Validation datasets\n",
        "fig = plt.figure(figsize=(18, 4))\n",
        "titles = ['Train set', 'Test set', 'Val set']\n",
        "\n",
        "for i, dataf in enumerate([df_train, df_test, df_val]):\n",
        "    ax = fig.add_subplot(1, 3, i+1)\n",
        "    Y, labels = pd.factorize(dataf['label'])  # Ensure 'label' column is used\n",
        "    ax.bar(labels, height=pd.Series(Y).value_counts())  # Bar plot for label count\n",
        "    ax.set_xticks(ticks=range(len(labels)))  # Position the x-ticks\n",
        "    ax.set_xticklabels(labels, fontsize=10)  # Set x-tick labels with font size\n",
        "    ax.set_xlabel('Label')  # X-axis label\n",
        "    ax.set_ylabel('Number of examples')  # Y-axis label\n",
        "    ax.set_title(titles[i])  # Title for each plot\n",
        "\n",
        "# Show the plots\n",
        "plt.tight_layout()\n",
        "plt.show()\n",
        "\n"
      ],
      "metadata": {
        "colab": {
          "base_uri": "https://localhost:8080/",
          "height": 162
        },
        "id": "pjcXq3Dv5Whd",
        "outputId": "e8e532a9-c736-442b-810b-6e7b7a45e546"
      },
      "execution_count": 6,
      "outputs": [
        {
          "output_type": "display_data",
          "data": {
            "text/plain": [
              "<Figure size 1800x400 with 3 Axes>"
            ],
            "image/png": "[encoded data removed]"
          },
          "metadata": {}
        }
      ]
    },
    {
      "cell_type": "code",
      "source": [
        "\n",
        "# Number of samples in Train, Test, and Validation datasets\n",
        "train_samples = len(df_train)\n",
        "test_samples = len(df_test)\n",
        "val_samples = len(df_val)\n",
        "\n",
        "# Printing the number of samples\n",
        "print(f\"Number of samples in Train set: {train_samples}\")\n",
        "print(f\"Number of samples in Test set: {test_samples}\")\n",
        "print(f\"Number of samples in Validation set: {val_samples}\")"
      ],
      "metadata": {
        "colab": {
          "base_uri": "https://localhost:8080/"
        },
        "id": "W5Sopwf75oaX",
        "outputId": "0109bedc-1b70-4d5b-bb4d-46442920cb50"
      },
      "execution_count": 7,
      "outputs": [
        {
          "output_type": "stream",
          "name": "stdout",
          "text": [
            "Number of samples in Train set: 5595\n",
            "Number of samples in Test set: 622\n",
            "Number of samples in Validation set: 777\n"
          ]
        }
      ]
    },
    {
      "cell_type": "code",
      "source": [
        "from transformers import AutoModel, AutoTokenizer\n",
        "import pandas as pd\n",
        "from tqdm import tqdm\n",
        "\n",
        "# Load the pre-trained MuRIL model and tokenizer\n",
        "PRE_TRAINED_MODEL_NAME = 'google/muril-base-cased'\n",
        "muril_model = AutoModel.from_pretrained(PRE_TRAINED_MODEL_NAME)\n",
        "tokenizer = AutoTokenizer.from_pretrained(PRE_TRAINED_MODEL_NAME)\n",
        "\n",
        "sample_txt = df_train.iloc[0]['cleaned_text']  # Taking the first sample from the dataset\n",
        "\n",
        "# Tokenization\n",
        "tokens = tokenizer.tokenize(sample_txt)\n",
        "token_ids = tokenizer.convert_tokens_to_ids(tokens)\n",
        "\n",
        "print(f'Sentence: {sample_txt}')\n",
        "print(f'Tokens: {tokens}')\n",
        "print(f'Token IDs: {token_ids}')\n",
        "\n",
        "# Special tokens\n",
        "print(tokenizer.sep_token, tokenizer.sep_token_id)\n",
        "print(tokenizer.cls_token, tokenizer.cls_token_id)\n",
        "print(tokenizer.pad_token, tokenizer.pad_token_id)\n",
        "print(tokenizer.unk_token, tokenizer.unk_token_id)\n",
        "\n",
        "# Encoding the sample text\n",
        "encoding = tokenizer(\n",
        "    sample_txt,\n",
        "    max_length=32,\n",
        "    padding='max_length',  # Updated to avoid deprecated argument\n",
        "    truncation=True,\n",
        "    return_tensors='pt'\n",
        ")\n",
        "\n",
        "# Print encoding details\n",
        "print(len(encoding['input_ids'][0]))\n",
        "print(encoding['input_ids'])\n",
        "print(len(encoding['token_type_ids'][0]))\n",
        "print(encoding['token_type_ids'])\n",
        "print(len(encoding['attention_mask'][0]))\n",
        "print(encoding['attention_mask'])\n",
        "\n",
        "# Convert token IDs back to tokens\n",
        "print(tokenizer.convert_ids_to_tokens(encoding['input_ids'][0]))\n",
        "\n",
        "# Assuming df_train exists from previous dataset processing\n",
        "# Ensure 'text' column is used consistently\n",
        "if 'text' in df_train.columns:\n",
        "    column_name = 'text'\n",
        "else:\n",
        "    column_name = 'cleaned_text'\n",
        "\n",
        "# Compute token lengths\n",
        "token_lens = []\n",
        "for txt in tqdm(df_train[column_name]):\n",
        "    tokens = tokenizer.encode(txt, max_length=512, truncation=True)\n",
        "    token_lens.append(len(tokens))\n"
      ],
      "metadata": {
        "colab": {
          "base_uri": "https://localhost:8080/"
        },
        "id": "pognQfRy5q28",
        "outputId": "e1ab2497-84d6-40e5-ba91-eade5a81c118"
      },
      "execution_count": 8,
      "outputs": [
        {
          "output_type": "stream",
          "name": "stdout",
          "text": [
            "Sentence: Hands up\n",
            "Tokens: ['Hands', 'up']\n",
            "Token IDs: [121982, 1533]\n",
            "[SEP] 105\n",
            "[CLS] 104\n",
            "[PAD] 0\n",
            "[UNK] 100\n",
            "32\n",
            "tensor([[   104, 121982,   1533,    105,      0,      0,      0,      0,      0,\n",
            "              0,      0,      0,      0,      0,      0,      0,      0,      0,\n",
            "              0,      0,      0,      0,      0,      0,      0,      0,      0,\n",
            "              0,      0,      0,      0,      0]])\n",
            "32\n",
            "tensor([[0, 0, 0, 0, 0, 0, 0, 0, 0, 0, 0, 0, 0, 0, 0, 0, 0, 0, 0, 0, 0, 0, 0, 0,\n",
            "         0, 0, 0, 0, 0, 0, 0, 0]])\n",
            "32\n",
            "tensor([[1, 1, 1, 1, 0, 0, 0, 0, 0, 0, 0, 0, 0, 0, 0, 0, 0, 0, 0, 0, 0, 0, 0, 0,\n",
            "         0, 0, 0, 0, 0, 0, 0, 0]])\n",
            "['[CLS]', 'Hands', 'up', '[SEP]', '[PAD]', '[PAD]', '[PAD]', '[PAD]', '[PAD]', '[PAD]', '[PAD]', '[PAD]', '[PAD]', '[PAD]', '[PAD]', '[PAD]', '[PAD]', '[PAD]', '[PAD]', '[PAD]', '[PAD]', '[PAD]', '[PAD]', '[PAD]', '[PAD]', '[PAD]', '[PAD]', '[PAD]', '[PAD]', '[PAD]', '[PAD]', '[PAD]']\n"
          ]
        },
        {
          "output_type": "stream",
          "name": "stderr",
          "text": [
            "100%|██████████| 5595/5595 [00:00<00:00, 11516.65it/s]\n"
          ]
        }
      ]
    },
    {
      "cell_type": "code",
      "source": [
        "MAX_LEN = 160\n",
        "from torch.utils.data import Dataset\n",
        "import torch\n",
        "class GPReviewDataset(Dataset):\n",
        "    def __init__(self, texts, targets, tokenizer, max_len):\n",
        "        self.texts = texts  # Ensure this references 'cleaned_text'\n",
        "        self.targets = targets\n",
        "        self.tokenizer = tokenizer\n",
        "        self.max_len = max_len\n",
        "\n",
        "    def __len__(self):\n",
        "        return len(self.texts)\n",
        "\n",
        "    def __getitem__(self, item):\n",
        "        text = str(self.texts[item])  # Ensure it pulls from 'cleaned_text'\n",
        "        target = self.targets[item]\n",
        "\n",
        "        encoding = self.tokenizer(\n",
        "            text,\n",
        "            add_special_tokens=True,\n",
        "            max_length=self.max_len,\n",
        "            padding='max_length',\n",
        "            truncation=True,\n",
        "            return_tensors='pt'\n",
        "        )\n",
        "\n",
        "        return {\n",
        "            'tweet_text': text,\n",
        "            'input_ids': encoding['input_ids'].squeeze(0),\n",
        "            'attention_mask': encoding['attention_mask'].squeeze(0),\n",
        "            'token_type_ids': encoding['token_type_ids'].squeeze(0),\n",
        "            'targets': torch.tensor(target, dtype=torch.long)\n",
        "        }\n"
      ],
      "metadata": {
        "id": "aRO-CnbZ5zI9"
      },
      "execution_count": 9,
      "outputs": []
    },
    {
      "cell_type": "code",
      "source": [
        "from torch.utils.data import Dataset, DataLoader\n",
        "import torch\n",
        "\n",
        "def create_data_loader(df, tokenizer, max_len, batch_size):\n",
        "    ds = GPReviewDataset(\n",
        "        texts=df.cleaned_text.to_numpy(),  # Updated from 'tuned_tweet' to 'cleaned_text'\n",
        "        targets=df.label.to_numpy(),\n",
        "        tokenizer=tokenizer,\n",
        "        max_len=max_len\n",
        "    )\n",
        "\n",
        "    return DataLoader(\n",
        "        ds,\n",
        "        batch_size=batch_size,\n",
        "        num_workers=2\n",
        "    )\n"
      ],
      "metadata": {
        "id": "Z9Im9KLF54CI"
      },
      "execution_count": 10,
      "outputs": []
    },
    {
      "cell_type": "code",
      "source": [
        "BATCH_SIZE = 16\n",
        "\n",
        "train_data_loader = create_data_loader(df_train, tokenizer, MAX_LEN, BATCH_SIZE)\n",
        "val_data_loader = create_data_loader(df_val, tokenizer, MAX_LEN, BATCH_SIZE)\n",
        "test_data_loader = create_data_loader(df_test, tokenizer, MAX_LEN, BATCH_SIZE)\n"
      ],
      "metadata": {
        "id": "XbJ1SWMY575j"
      },
      "execution_count": 11,
      "outputs": []
    },
    {
      "cell_type": "code",
      "source": [
        "data = next(iter(train_data_loader))\n",
        "data.keys()\n"
      ],
      "metadata": {
        "colab": {
          "base_uri": "https://localhost:8080/"
        },
        "id": "oJZMdFbf5_H0",
        "outputId": "1a31fa80-87ab-4276-ea88-e9b12eb40fef"
      },
      "execution_count": 12,
      "outputs": [
        {
          "output_type": "execute_result",
          "data": {
            "text/plain": [
              "dict_keys(['tweet_text', 'input_ids', 'attention_mask', 'token_type_ids', 'targets'])"
            ]
          },
          "metadata": {},
          "execution_count": 12
        }
      ]
    },
    {
      "cell_type": "code",
      "source": [
        "x = muril_model(\n",
        "  input_ids=encoding['input_ids'],\n",
        "  attention_mask=encoding['attention_mask'],\n",
        "  token_type_ids=encoding['token_type_ids']\n",
        ")"
      ],
      "metadata": {
        "id": "AWcUOa6B6HsE"
      },
      "execution_count": 13,
      "outputs": []
    },
    {
      "cell_type": "code",
      "source": [
        "import torch\n",
        "import torch.nn as nn\n",
        "class SentimentClassifier(nn.Module):\n",
        "    def __init__(self, n_classes, base):\n",
        "        super(SentimentClassifier, self).__init__()\n",
        "        self.muril = base\n",
        "        self.drop1 = nn.Dropout(p=0.3)\n",
        "        self.out1 = nn.Linear(base.config.hidden_size, 64)\n",
        "        self.relu = nn.ReLU()\n",
        "        self.drop2 = nn.Dropout(p=0.1)\n",
        "        self.out = nn.Linear(64, n_classes)\n",
        "\n",
        "    def forward(self, input_ids, attention_mask, token_type_ids):\n",
        "        x = self.muril(\n",
        "            input_ids=input_ids,\n",
        "            attention_mask=attention_mask,\n",
        "            token_type_ids=token_type_ids\n",
        "        )\n",
        "        pooled_output = x.pooler_output  # Updated access method\n",
        "        output = self.drop1(pooled_output)\n",
        "        output = self.relu(self.out1(output))\n",
        "        output = self.drop2(output)\n",
        "        return self.out(output)\n"
      ],
      "metadata": {
        "id": "ofSwKSKj6Ljy"
      },
      "execution_count": 14,
      "outputs": []
    },
    {
      "cell_type": "code",
      "source": [
        "import torch\n",
        "import torch.nn as nn\n",
        "\n",
        "class_names = ['0', '1', '2', '3', '4', '5']\n",
        "device = torch.device(\"cuda\" if torch.cuda.is_available() else \"cpu\")\n",
        "\n",
        "model = SentimentClassifier(len(class_names), muril_model)\n",
        "model = model.to(device)"
      ],
      "metadata": {
        "id": "Za7JXfY_6Oj1"
      },
      "execution_count": 15,
      "outputs": []
    },
    {
      "cell_type": "code",
      "source": [
        "input_ids = data['input_ids'].to(device)\n",
        "attention_mask = data['attention_mask'].to(device)\n",
        "token_type_ids = data['token_type_ids'].to(device)\n",
        "\n",
        "print(input_ids.shape) # batch size x seq length\n",
        "print(attention_mask.shape) # batch size x seq length\n",
        "print(token_type_ids.shape) # batch size x seq_length\n"
      ],
      "metadata": {
        "colab": {
          "base_uri": "https://localhost:8080/"
        },
        "id": "IFevTa-y6TcS",
        "outputId": "af51771e-ced3-4f62-b59b-b75d749bc064"
      },
      "execution_count": 16,
      "outputs": [
        {
          "output_type": "stream",
          "name": "stdout",
          "text": [
            "torch.Size([16, 160])\n",
            "torch.Size([16, 160])\n",
            "torch.Size([16, 160])\n"
          ]
        }
      ]
    },
    {
      "cell_type": "code",
      "source": [
        "model(input_ids, attention_mask, token_type_ids)"
      ],
      "metadata": {
        "colab": {
          "base_uri": "https://localhost:8080/"
        },
        "id": "b5NuR5bd6ZLa",
        "outputId": "26b84690-dcb1-41c4-e492-98a722528ce3"
      },
      "execution_count": 17,
      "outputs": [
        {
          "output_type": "execute_result",
          "data": {
            "text/plain": [
              "tensor([[-0.0965, -0.0582,  0.0004, -0.0445,  0.1261,  0.1067],\n",
              "        [-0.0873, -0.0533,  0.0018, -0.0411,  0.1217,  0.1022],\n",
              "        [-0.0904, -0.0591,  0.0027, -0.0407,  0.1254,  0.1092],\n",
              "        [-0.0939, -0.0569,  0.0013, -0.0412,  0.1268,  0.1050],\n",
              "        [-0.0911, -0.0556,  0.0027, -0.0404,  0.1259,  0.1055],\n",
              "        [-0.0903, -0.0559,  0.0020, -0.0391,  0.1260,  0.1001],\n",
              "        [-0.0906, -0.0522, -0.0039, -0.0338,  0.1228,  0.0994],\n",
              "        [-0.0904, -0.0607,  0.0007, -0.0440,  0.1194,  0.1077],\n",
              "        [-0.0937, -0.0570,  0.0007, -0.0425,  0.1214,  0.1052],\n",
              "        [-0.0921, -0.0565,  0.0028, -0.0405,  0.1271,  0.1047],\n",
              "        [-0.0926, -0.0571,  0.0034, -0.0413,  0.1244,  0.1013],\n",
              "        [-0.0853, -0.0610, -0.0061, -0.0371,  0.1132,  0.0963],\n",
              "        [-0.0898, -0.0544,  0.0005, -0.0382,  0.1244,  0.1017],\n",
              "        [-0.0940, -0.0533,  0.0035, -0.0407,  0.1261,  0.1056],\n",
              "        [-0.0964, -0.0529,  0.0030, -0.0404,  0.1277,  0.1051],\n",
              "        [-0.0896, -0.0543,  0.0033, -0.0376,  0.1231,  0.1039]],\n",
              "       device='cuda:0', grad_fn=<AddmmBackward0>)"
            ]
          },
          "metadata": {},
          "execution_count": 17
        }
      ]
    },
    {
      "cell_type": "code",
      "source": [
        "import torch.nn.functional as F\n",
        "F.softmax(model(input_ids, attention_mask, token_type_ids), dim=1)"
      ],
      "metadata": {
        "colab": {
          "base_uri": "https://localhost:8080/"
        },
        "id": "TxgNSPPp6epN",
        "outputId": "cebf23d4-227c-48ea-9d0c-9f2ed37f83bd"
      },
      "execution_count": 18,
      "outputs": [
        {
          "output_type": "execute_result",
          "data": {
            "text/plain": [
              "tensor([[0.1501, 0.1563, 0.1653, 0.1583, 0.1874, 0.1826],\n",
              "        [0.1505, 0.1556, 0.1651, 0.1586, 0.1870, 0.1833],\n",
              "        [0.1500, 0.1563, 0.1655, 0.1580, 0.1871, 0.1831],\n",
              "        [0.1521, 0.1555, 0.1647, 0.1589, 0.1857, 0.1831],\n",
              "        [0.1501, 0.1557, 0.1653, 0.1582, 0.1875, 0.1832],\n",
              "        [0.1504, 0.1564, 0.1648, 0.1592, 0.1860, 0.1832],\n",
              "        [0.1512, 0.1563, 0.1648, 0.1592, 0.1868, 0.1816],\n",
              "        [0.1508, 0.1559, 0.1651, 0.1587, 0.1866, 0.1830],\n",
              "        [0.1510, 0.1555, 0.1657, 0.1582, 0.1871, 0.1826],\n",
              "        [0.1505, 0.1562, 0.1659, 0.1583, 0.1863, 0.1827],\n",
              "        [0.1503, 0.1561, 0.1645, 0.1591, 0.1874, 0.1825],\n",
              "        [0.1512, 0.1561, 0.1647, 0.1592, 0.1858, 0.1830],\n",
              "        [0.1501, 0.1564, 0.1649, 0.1579, 0.1872, 0.1836],\n",
              "        [0.1516, 0.1555, 0.1649, 0.1589, 0.1852, 0.1838],\n",
              "        [0.1507, 0.1562, 0.1646, 0.1584, 0.1871, 0.1830],\n",
              "        [0.1506, 0.1551, 0.1651, 0.1585, 0.1867, 0.1839]], device='cuda:0',\n",
              "       grad_fn=<SoftmaxBackward0>)"
            ]
          },
          "metadata": {},
          "execution_count": 18
        }
      ]
    },
    {
      "cell_type": "code",
      "source": [
        "!pip install --upgrade transformers"
      ],
      "metadata": {
        "colab": {
          "base_uri": "https://localhost:8080/"
        },
        "id": "OJY0Kp7i6kkd",
        "outputId": "b4863d7f-900e-4930-facd-625802fcc1cb"
      },
      "execution_count": 19,
      "outputs": [
        {
          "output_type": "stream",
          "name": "stdout",
          "text": [
            "Requirement already satisfied: transformers in /usr/local/lib/python3.11/dist-packages (4.50.3)\n",
            "Requirement already satisfied: filelock in /usr/local/lib/python3.11/dist-packages (from transformers) (3.18.0)\n",
            "Requirement already satisfied: huggingface-hub<1.0,>=0.26.0 in /usr/local/lib/python3.11/dist-packages (from transformers) (0.29.3)\n",
            "Requirement already satisfied: numpy>=1.17 in /usr/local/lib/python3.11/dist-packages (from transformers) (2.0.2)\n",
            "Requirement already satisfied: packaging>=20.0 in /usr/local/lib/python3.11/dist-packages (from transformers) (24.2)\n",
            "Requirement already satisfied: pyyaml>=5.1 in /usr/local/lib/python3.11/dist-packages (from transformers) (6.0.2)\n",
            "Requirement already satisfied: regex!=2019.12.17 in /usr/local/lib/python3.11/dist-packages (from transformers) (2024.11.6)\n",
            "Requirement already satisfied: requests in /usr/local/lib/python3.11/dist-packages (from transformers) (2.32.3)\n",
            "Requirement already satisfied: tokenizers<0.22,>=0.21 in /usr/local/lib/python3.11/dist-packages (from transformers) (0.21.1)\n",
            "Requirement already satisfied: safetensors>=0.4.3 in /usr/local/lib/python3.11/dist-packages (from transformers) (0.5.3)\n",
            "Requirement already satisfied: tqdm>=4.27 in /usr/local/lib/python3.11/dist-packages (from transformers) (4.67.1)\n",
            "Requirement already satisfied: fsspec>=2023.5.0 in /usr/local/lib/python3.11/dist-packages (from huggingface-hub<1.0,>=0.26.0->transformers) (2024.12.0)\n",
            "Requirement already satisfied: typing-extensions>=3.7.4.3 in /usr/local/lib/python3.11/dist-packages (from huggingface-hub<1.0,>=0.26.0->transformers) (4.13.0)\n",
            "Requirement already satisfied: charset-normalizer<4,>=2 in /usr/local/lib/python3.11/dist-packages (from requests->transformers) (3.4.1)\n",
            "Requirement already satisfied: idna<4,>=2.5 in /usr/local/lib/python3.11/dist-packages (from requests->transformers) (3.10)\n",
            "Requirement already satisfied: urllib3<3,>=1.21.1 in /usr/local/lib/python3.11/dist-packages (from requests->transformers) (2.3.0)\n",
            "Requirement already satisfied: certifi>=2017.4.17 in /usr/local/lib/python3.11/dist-packages (from requests->transformers) (2025.1.31)\n"
          ]
        }
      ]
    },
    {
      "cell_type": "code",
      "source": [
        "import torch\n",
        "import torch.nn as nn\n",
        "from torch.optim import AdamW\n",
        "from transformers import  get_linear_schedule_with_warmup\n",
        "\n",
        "EPOCHS = 5\n",
        "device = torch.device(\"cuda\" if torch.cuda.is_available() else \"cpu\")\n",
        "\n",
        "optimizer = AdamW(model.parameters(), lr=1e-5)\n",
        "total_steps = len(train_data_loader) * EPOCHS\n",
        "\n",
        "scheduler = get_linear_schedule_with_warmup(\n",
        "    optimizer,\n",
        "    num_warmup_steps=0,\n",
        "    num_training_steps=total_steps\n",
        ")\n",
        "\n",
        "loss_fn = nn.CrossEntropyLoss().to(device)"
      ],
      "metadata": {
        "id": "aK5z-tW56q5g"
      },
      "execution_count": 20,
      "outputs": []
    },
    {
      "cell_type": "code",
      "source": [
        "import torch\n",
        "import torch.nn as nn\n",
        "import numpy as np\n",
        "from tqdm import tqdm\n",
        "\n",
        "def train_epoch(model, data_loader, loss_fn, optimizer, device, scheduler, n_examples):\n",
        "    model.train()\n",
        "\n",
        "    losses = []\n",
        "    correct_predictions = 0\n",
        "\n",
        "    for d in tqdm(data_loader):\n",
        "        input_ids = d[\"input_ids\"].to(device)\n",
        "        attention_mask = d[\"attention_mask\"].to(device)\n",
        "        token_type_ids = d['token_type_ids'].to(device)  # Updated from 'type_ids'\n",
        "        targets = d[\"targets\"].to(device).long()\n",
        "        outputs = model(\n",
        "            input_ids=input_ids,\n",
        "            attention_mask=attention_mask,\n",
        "            token_type_ids=token_type_ids\n",
        "        )\n",
        "\n",
        "        _, preds = torch.max(outputs, dim=1)\n",
        "\n",
        "        loss = loss_fn(outputs, targets)\n",
        "\n",
        "        correct_predictions += torch.sum(preds == targets)\n",
        "        losses.append(loss.item())\n",
        "\n",
        "        loss.backward()\n",
        "        nn.utils.clip_grad_norm_(model.parameters(), max_norm=1.0)\n",
        "        optimizer.step()\n",
        "        scheduler.step()\n",
        "        optimizer.zero_grad()\n",
        "\n",
        "    return correct_predictions.double() / n_examples, np.mean(losses)"
      ],
      "metadata": {
        "id": "85k85pKO6xPq"
      },
      "execution_count": 21,
      "outputs": []
    },
    {
      "cell_type": "code",
      "source": [
        "def eval_model(model, data_loader, loss_fn, device, n_examples):\n",
        "    model.eval()\n",
        "\n",
        "    losses = []\n",
        "    correct_predictions = 0\n",
        "\n",
        "    with torch.no_grad():\n",
        "        for d in data_loader:\n",
        "            input_ids = d[\"input_ids\"].to(device)\n",
        "            attention_mask = d[\"attention_mask\"].to(device)\n",
        "            token_type_ids = d[\"token_type_ids\"].to(device)  # Correct key name\n",
        "            targets = d[\"targets\"].to(device).long()  # Ensure targets are integers\n",
        "\n",
        "            outputs = model(\n",
        "                input_ids=input_ids,\n",
        "                attention_mask=attention_mask,\n",
        "                token_type_ids=token_type_ids\n",
        "            )\n",
        "\n",
        "            _, preds = torch.max(outputs, dim=1)\n",
        "            loss = loss_fn(outputs, targets)\n",
        "\n",
        "            correct_predictions += torch.sum(preds == targets)\n",
        "            losses.append(loss.item())\n",
        "\n",
        "    return correct_predictions.double() / n_examples, np.mean(losses)"
      ],
      "metadata": {
        "id": "VuuISpgF615E"
      },
      "execution_count": 22,
      "outputs": []
    },
    {
      "cell_type": "code",
      "source": [
        "import torch\n",
        "import torch.nn as nn\n",
        "import numpy as np\n",
        "import seaborn as sns\n",
        "import matplotlib.pyplot as plt\n",
        "from tqdm import tqdm\n",
        "from sklearn.metrics import precision_score, recall_score, f1_score, confusion_matrix\n",
        "\n",
        "# Training Parameters\n",
        "EPOCHS = 5\n",
        "device = torch.device(\"cuda\" if torch.cuda.is_available() else \"cpu\")\n",
        "\n",
        "# Optimizer and Scheduler\n",
        "optimizer = AdamW(model.parameters(), lr=1e-5)\n",
        "total_steps = len(train_data_loader) * EPOCHS\n",
        "scheduler = get_linear_schedule_with_warmup(\n",
        "    optimizer, num_warmup_steps=0, num_training_steps=total_steps\n",
        ")\n",
        "\n",
        "# Loss Function\n",
        "loss_fn = nn.CrossEntropyLoss().to(device)\n",
        "\n",
        "# Function to Plot Confusion Matrix (Called Once After Training)\n",
        "def plot_confusion_matrix(y_true, y_pred, class_labels):\n",
        "    cm = confusion_matrix(y_true, y_pred)\n",
        "\n",
        "    plt.figure(figsize=(8, 6))\n",
        "    sns.heatmap(cm, annot=True, fmt=\"d\", cmap=\"Blues\", xticklabels=class_labels, yticklabels=class_labels)\n",
        "    plt.xlabel(\"Predicted\")\n",
        "    plt.ylabel(\"Actual\")\n",
        "    plt.title(\"Confusion Matrix\")\n",
        "    plt.show()\n",
        "\n",
        "# Training Function\n",
        "def train_epoch(model, data_loader, loss_fn, optimizer, device, scheduler, n_examples):\n",
        "    model.train()\n",
        "\n",
        "    losses = []\n",
        "    correct_predictions = 0\n",
        "    all_preds = []\n",
        "    all_targets = []\n",
        "\n",
        "    for d in tqdm(data_loader):\n",
        "        input_ids = d[\"input_ids\"].to(device)\n",
        "        attention_mask = d[\"attention_mask\"].to(device)\n",
        "        token_type_ids = d[\"token_type_ids\"].to(device)\n",
        "        targets = d[\"targets\"].to(device).long()\n",
        "\n",
        "        outputs = model(\n",
        "            input_ids=input_ids,\n",
        "            attention_mask=attention_mask,\n",
        "            token_type_ids=token_type_ids\n",
        "        )\n",
        "\n",
        "        _, preds = torch.max(outputs, dim=1)\n",
        "        loss = loss_fn(outputs, targets)\n",
        "\n",
        "        correct_predictions += torch.sum(preds == targets)\n",
        "        losses.append(loss.item())\n",
        "\n",
        "        all_preds.extend(preds.cpu().numpy())\n",
        "        all_targets.extend(targets.cpu().numpy())\n",
        "\n",
        "        loss.backward()\n",
        "        nn.utils.clip_grad_norm_(model.parameters(), max_norm=1.0)\n",
        "        optimizer.step()\n",
        "        scheduler.step()\n",
        "        optimizer.zero_grad()\n",
        "\n",
        "    accuracy = correct_predictions.double() / n_examples\n",
        "    precision = precision_score(all_targets, all_preds, average='weighted')\n",
        "    recall = recall_score(all_targets, all_preds, average='weighted')\n",
        "    f1 = f1_score(all_targets, all_preds, average='weighted')\n",
        "\n",
        "    return accuracy, np.mean(losses), precision, recall, f1\n",
        "\n",
        "# Evaluation Function (Does NOT Plot Confusion Matrix)\n",
        "def eval_model(model, data_loader, loss_fn, device, n_examples):\n",
        "    model.eval()\n",
        "\n",
        "    losses = []\n",
        "    correct_predictions = 0\n",
        "    all_preds = []\n",
        "    all_targets = []\n",
        "\n",
        "    with torch.no_grad():\n",
        "        for d in data_loader:\n",
        "            input_ids = d[\"input_ids\"].to(device)\n",
        "            attention_mask = d[\"attention_mask\"].to(device)\n",
        "            token_type_ids = d[\"token_type_ids\"].to(device)\n",
        "            targets = d[\"targets\"].to(device).long()\n",
        "\n",
        "            outputs = model(\n",
        "                input_ids=input_ids,\n",
        "                attention_mask=attention_mask,\n",
        "                token_type_ids=token_type_ids\n",
        "            )\n",
        "\n",
        "            _, preds = torch.max(outputs, dim=1)\n",
        "            loss = loss_fn(outputs, targets)\n",
        "\n",
        "            correct_predictions += torch.sum(preds == targets)\n",
        "            losses.append(loss.item())\n",
        "\n",
        "            all_preds.extend(preds.cpu().numpy())\n",
        "            all_targets.extend(targets.cpu().numpy())\n",
        "\n",
        "    accuracy = correct_predictions.double() / n_examples\n",
        "    precision = precision_score(all_targets, all_preds, average='weighted')\n",
        "    recall = recall_score(all_targets, all_preds, average='weighted')\n",
        "    f1 = f1_score(all_targets, all_preds, average='weighted')\n",
        "\n",
        "    return accuracy, np.mean(losses), precision, recall, f1, all_targets, all_preds  # Return true & predicted labels for final confusion matrix\n",
        "\n",
        "# Training Loop\n",
        "from collections import defaultdict\n",
        "\n",
        "history = defaultdict(list)\n",
        "best_accuracy = 0\n",
        "\n",
        "# Class Labels (Update as needed)\n",
        "class_labels = [\"Class 0\", \"Class 1\"]  # Modify based on actual class names\n",
        "\n",
        "# Variables to Store Predictions for Final Confusion Matrix\n",
        "final_targets = []\n",
        "final_preds = []\n",
        "\n",
        "for epoch in range(EPOCHS):\n",
        "    print(f'Epoch {epoch + 1}/{EPOCHS}')\n",
        "    print('-' * 10)\n",
        "\n",
        "    train_acc, train_loss, train_precision, train_recall, train_f1 = train_epoch(\n",
        "        model,\n",
        "        train_data_loader,\n",
        "        loss_fn,\n",
        "        optimizer,\n",
        "        device,\n",
        "        scheduler,\n",
        "        len(df_train)\n",
        "    )\n",
        "\n",
        "    print(f'\\n--> Train loss {train_loss:.4f} | Accuracy {train_acc:.4f} | Precision {train_precision:.4f} | Recall {train_recall:.4f} | F1 {train_f1:.4f}')\n",
        "\n",
        "    val_acc, val_loss, val_precision, val_recall, val_f1, val_targets, val_preds = eval_model(\n",
        "        model,\n",
        "        val_data_loader,\n",
        "        loss_fn,\n",
        "        device,\n",
        "        len(df_val)\n",
        "    )\n",
        "\n",
        "    print(f'--> Val   loss {val_loss:.4f} | Accuracy {val_acc:.4f} | Precision {val_precision:.4f} | Recall {val_recall:.4f} | F1 {val_f1:.4f}')\n",
        "    print()\n",
        "\n",
        "    history['train_acc'].append(train_acc.cpu().numpy())\n",
        "    history['train_loss'].append(train_loss)\n",
        "    history['train_precision'].append(train_precision)\n",
        "    history['train_recall'].append(train_recall)\n",
        "    history['train_f1'].append(train_f1)\n",
        "\n",
        "    history['val_acc'].append(val_acc.cpu().numpy())\n",
        "    history['val_loss'].append(val_loss)\n",
        "    history['val_precision'].append(val_precision)\n",
        "    history['val_recall'].append(val_recall)\n",
        "    history['val_f1'].append(val_f1)\n",
        "\n",
        "    if val_acc > best_accuracy:\n",
        "        torch.save(model.state_dict(), 'muril_model_state.bin')\n",
        "        best_accuracy = val_acc\n",
        "\n",
        "    # Store Final Predictions for Confusion Matrix\n",
        "    final_targets = val_targets\n",
        "    final_preds = val_preds\n",
        "\n",
        "# **After All Epochs, Show Confusion Matrix**\n",
        "print(\"\\nFinal Confusion Matrix:\")\n",
        "plot_confusion_matrix(final_targets, final_preds, class_labels)"
      ],
      "metadata": {
        "colab": {
          "base_uri": "https://localhost:8080/",
          "height": 1000
        },
        "id": "wD8Egbus65s8",
        "outputId": "b59c24d3-cba3-4db2-e84b-310e865e78f7"
      },
      "execution_count": 23,
      "outputs": [
        {
          "output_type": "stream",
          "name": "stdout",
          "text": [
            "Epoch 1/5\n",
            "----------\n"
          ]
        },
        {
          "output_type": "stream",
          "name": "stderr",
          "text": [
            "100%|██████████| 350/350 [02:37<00:00,  2.23it/s]\n",
            "/usr/local/lib/python3.11/dist-packages/sklearn/metrics/_classification.py:1565: UndefinedMetricWarning: Precision is ill-defined and being set to 0.0 in labels with no predicted samples. Use `zero_division` parameter to control this behavior.\n",
            "  _warn_prf(average, modifier, f\"{metric.capitalize()} is\", len(result))\n"
          ]
        },
        {
          "output_type": "stream",
          "name": "stdout",
          "text": [
            "\n",
            "--> Train loss 1.7485 | Accuracy 0.2806 | Precision 0.4664 | Recall 0.2806 | F1 0.2881\n"
          ]
        },
        {
          "output_type": "stream",
          "name": "stderr",
          "text": [
            "/usr/local/lib/python3.11/dist-packages/sklearn/metrics/_classification.py:1565: UndefinedMetricWarning: Precision is ill-defined and being set to 0.0 in labels with no predicted samples. Use `zero_division` parameter to control this behavior.\n",
            "  _warn_prf(average, modifier, f\"{metric.capitalize()} is\", len(result))\n"
          ]
        },
        {
          "output_type": "stream",
          "name": "stdout",
          "text": [
            "--> Val   loss 1.6327 | Accuracy 0.6551 | Precision 0.5474 | Recall 0.6551 | F1 0.5723\n",
            "\n",
            "Epoch 2/5\n",
            "----------\n"
          ]
        },
        {
          "output_type": "stream",
          "name": "stderr",
          "text": [
            "100%|██████████| 350/350 [02:42<00:00,  2.15it/s]\n",
            "/usr/local/lib/python3.11/dist-packages/sklearn/metrics/_classification.py:1565: UndefinedMetricWarning: Precision is ill-defined and being set to 0.0 in labels with no predicted samples. Use `zero_division` parameter to control this behavior.\n",
            "  _warn_prf(average, modifier, f\"{metric.capitalize()} is\", len(result))\n"
          ]
        },
        {
          "output_type": "stream",
          "name": "stdout",
          "text": [
            "\n",
            "--> Train loss 1.4599 | Accuracy 0.5886 | Precision 0.5083 | Recall 0.5886 | F1 0.4638\n"
          ]
        },
        {
          "output_type": "stream",
          "name": "stderr",
          "text": [
            "/usr/local/lib/python3.11/dist-packages/sklearn/metrics/_classification.py:1565: UndefinedMetricWarning: Precision is ill-defined and being set to 0.0 in labels with no predicted samples. Use `zero_division` parameter to control this behavior.\n",
            "  _warn_prf(average, modifier, f\"{metric.capitalize()} is\", len(result))\n"
          ]
        },
        {
          "output_type": "stream",
          "name": "stdout",
          "text": [
            "--> Val   loss 1.3421 | Accuracy 0.5483 | Precision 0.3006 | Recall 0.5483 | F1 0.3883\n",
            "\n",
            "Epoch 3/5\n",
            "----------\n"
          ]
        },
        {
          "output_type": "stream",
          "name": "stderr",
          "text": [
            "100%|██████████| 350/350 [02:42<00:00,  2.15it/s]\n",
            "/usr/local/lib/python3.11/dist-packages/sklearn/metrics/_classification.py:1565: UndefinedMetricWarning: Precision is ill-defined and being set to 0.0 in labels with no predicted samples. Use `zero_division` parameter to control this behavior.\n",
            "  _warn_prf(average, modifier, f\"{metric.capitalize()} is\", len(result))\n"
          ]
        },
        {
          "output_type": "stream",
          "name": "stdout",
          "text": [
            "\n",
            "--> Train loss 1.2386 | Accuracy 0.5943 | Precision 0.5427 | Recall 0.5943 | F1 0.4670\n"
          ]
        },
        {
          "output_type": "stream",
          "name": "stderr",
          "text": [
            "/usr/local/lib/python3.11/dist-packages/sklearn/metrics/_classification.py:1565: UndefinedMetricWarning: Precision is ill-defined and being set to 0.0 in labels with no predicted samples. Use `zero_division` parameter to control this behavior.\n",
            "  _warn_prf(average, modifier, f\"{metric.capitalize()} is\", len(result))\n"
          ]
        },
        {
          "output_type": "stream",
          "name": "stdout",
          "text": [
            "--> Val   loss 1.2283 | Accuracy 0.6152 | Precision 0.5283 | Recall 0.6152 | F1 0.5198\n",
            "\n",
            "Epoch 4/5\n",
            "----------\n"
          ]
        },
        {
          "output_type": "stream",
          "name": "stderr",
          "text": [
            "100%|██████████| 350/350 [02:42<00:00,  2.15it/s]\n",
            "/usr/local/lib/python3.11/dist-packages/sklearn/metrics/_classification.py:1565: UndefinedMetricWarning: Precision is ill-defined and being set to 0.0 in labels with no predicted samples. Use `zero_division` parameter to control this behavior.\n",
            "  _warn_prf(average, modifier, f\"{metric.capitalize()} is\", len(result))\n"
          ]
        },
        {
          "output_type": "stream",
          "name": "stdout",
          "text": [
            "\n",
            "--> Train loss 1.1491 | Accuracy 0.6667 | Precision 0.5710 | Recall 0.6667 | F1 0.5842\n"
          ]
        },
        {
          "output_type": "stream",
          "name": "stderr",
          "text": [
            "/usr/local/lib/python3.11/dist-packages/sklearn/metrics/_classification.py:1565: UndefinedMetricWarning: Precision is ill-defined and being set to 0.0 in labels with no predicted samples. Use `zero_division` parameter to control this behavior.\n",
            "  _warn_prf(average, modifier, f\"{metric.capitalize()} is\", len(result))\n"
          ]
        },
        {
          "output_type": "stream",
          "name": "stdout",
          "text": [
            "--> Val   loss 1.1855 | Accuracy 0.6718 | Precision 0.5481 | Recall 0.6718 | F1 0.5907\n",
            "\n",
            "Epoch 5/5\n",
            "----------\n"
          ]
        },
        {
          "output_type": "stream",
          "name": "stderr",
          "text": [
            "100%|██████████| 350/350 [02:42<00:00,  2.16it/s]\n",
            "/usr/local/lib/python3.11/dist-packages/sklearn/metrics/_classification.py:1565: UndefinedMetricWarning: Precision is ill-defined and being set to 0.0 in labels with no predicted samples. Use `zero_division` parameter to control this behavior.\n",
            "  _warn_prf(average, modifier, f\"{metric.capitalize()} is\", len(result))\n"
          ]
        },
        {
          "output_type": "stream",
          "name": "stdout",
          "text": [
            "\n",
            "--> Train loss 1.1085 | Accuracy 0.7097 | Precision 0.5973 | Recall 0.7097 | F1 0.6338\n"
          ]
        },
        {
          "output_type": "stream",
          "name": "stderr",
          "text": [
            "/usr/local/lib/python3.11/dist-packages/sklearn/metrics/_classification.py:1565: UndefinedMetricWarning: Precision is ill-defined and being set to 0.0 in labels with no predicted samples. Use `zero_division` parameter to control this behavior.\n",
            "  _warn_prf(average, modifier, f\"{metric.capitalize()} is\", len(result))\n"
          ]
        },
        {
          "output_type": "stream",
          "name": "stdout",
          "text": [
            "--> Val   loss 1.1724 | Accuracy 0.6821 | Precision 0.5520 | Recall 0.6821 | F1 0.6019\n",
            "\n",
            "\n",
            "Final Confusion Matrix:\n"
          ]
        },
        {
          "output_type": "display_data",
          "data": {
            "text/plain": [
              "<Figure size 800x600 with 2 Axes>"
            ],
            "image/png": "[encoded data removed]"
          },
          "metadata": {}
        }
      ]
    }
  ]
}