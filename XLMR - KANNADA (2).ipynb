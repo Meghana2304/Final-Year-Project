{
  "metadata": {
    "kernelspec": {
      "name": "python3",
      "display_name": "Python 3",
      "language": "python"
    },
    "language_info": {
      "name": "python",
      "version": "3.10.12",
      "mimetype": "text/x-python",
      "codemirror_mode": {
        "name": "ipython",
        "version": 3
      },
      "pygments_lexer": "ipython3",
      "nbconvert_exporter": "python",
      "file_extension": ".py"
    },
    "colab": {
      "provenance": [],
      "gpuType": "T4"
    },
    "accelerator": "GPU",
    "widgets": {
      "application/vnd.jupyter.widget-state+json": {
        "5f672f9b443942bf8d7f34bbe055757e": {
          "model_module": "@jupyter-widgets/controls",
          "model_name": "HBoxModel",
          "model_module_version": "1.5.0",
          "state": {
            "_dom_classes": [],
            "_model_module": "@jupyter-widgets/controls",
            "_model_module_version": "1.5.0",
            "_model_name": "HBoxModel",
            "_view_count": null,
            "_view_module": "@jupyter-widgets/controls",
            "_view_module_version": "1.5.0",
            "_view_name": "HBoxView",
            "box_style": "",
            "children": [
              "IPY_MODEL_44cd3aba08424202991e2a956b26c783",
              "IPY_MODEL_b2577a74cd6747428d156f3f61f690ed",
              "IPY_MODEL_91a0a82df4064223bb692335577c25da"
            ],
            "layout": "IPY_MODEL_98025db564b34ed1a3f8756d7c790602"
          }
        },
        "44cd3aba08424202991e2a956b26c783": {
          "model_module": "@jupyter-widgets/controls",
          "model_name": "HTMLModel",
          "model_module_version": "1.5.0",
          "state": {
            "_dom_classes": [],
            "_model_module": "@jupyter-widgets/controls",
            "_model_module_version": "1.5.0",
            "_model_name": "HTMLModel",
            "_view_count": null,
            "_view_module": "@jupyter-widgets/controls",
            "_view_module_version": "1.5.0",
            "_view_name": "HTMLView",
            "description": "",
            "description_tooltip": null,
            "layout": "IPY_MODEL_01736d736c764513adb83b42b031a466",
            "placeholder": "​",
            "style": "IPY_MODEL_f2b25ef3ecff4c3bb4668974d108787e",
            "value": "train-00000-of-00001.parquet: 100%"
          }
        },
        "b2577a74cd6747428d156f3f61f690ed": {
          "model_module": "@jupyter-widgets/controls",
          "model_name": "FloatProgressModel",
          "model_module_version": "1.5.0",
          "state": {
            "_dom_classes": [],
            "_model_module": "@jupyter-widgets/controls",
            "_model_module_version": "1.5.0",
            "_model_name": "FloatProgressModel",
            "_view_count": null,
            "_view_module": "@jupyter-widgets/controls",
            "_view_module_version": "1.5.0",
            "_view_name": "ProgressView",
            "bar_style": "success",
            "description": "",
            "description_tooltip": null,
            "layout": "IPY_MODEL_641cc68722e547d7a5b5de81f12cf333",
            "max": 323736,
            "min": 0,
            "orientation": "horizontal",
            "style": "IPY_MODEL_6c1d7321a2614edba1815c9cf6798d3e",
            "value": 323736
          }
        },
        "91a0a82df4064223bb692335577c25da": {
          "model_module": "@jupyter-widgets/controls",
          "model_name": "HTMLModel",
          "model_module_version": "1.5.0",
          "state": {
            "_dom_classes": [],
            "_model_module": "@jupyter-widgets/controls",
            "_model_module_version": "1.5.0",
            "_model_name": "HTMLModel",
            "_view_count": null,
            "_view_module": "@jupyter-widgets/controls",
            "_view_module_version": "1.5.0",
            "_view_name": "HTMLView",
            "description": "",
            "description_tooltip": null,
            "layout": "IPY_MODEL_e90dbca89ba542e58b1d5facd47a40bb",
            "placeholder": "​",
            "style": "IPY_MODEL_1c5e347873ed40c98825d6a68827cfc2",
            "value": " 324k/324k [00:00&lt;00:00, 2.74MB/s]"
          }
        },
        "98025db564b34ed1a3f8756d7c790602": {
          "model_module": "@jupyter-widgets/base",
          "model_name": "LayoutModel",
          "model_module_version": "1.2.0",
          "state": {
            "_model_module": "@jupyter-widgets/base",
            "_model_module_version": "1.2.0",
            "_model_name": "LayoutModel",
            "_view_count": null,
            "_view_module": "@jupyter-widgets/base",
            "_view_module_version": "1.2.0",
            "_view_name": "LayoutView",
            "align_content": null,
            "align_items": null,
            "align_self": null,
            "border": null,
            "bottom": null,
            "display": null,
            "flex": null,
            "flex_flow": null,
            "grid_area": null,
            "grid_auto_columns": null,
            "grid_auto_flow": null,
            "grid_auto_rows": null,
            "grid_column": null,
            "grid_gap": null,
            "grid_row": null,
            "grid_template_areas": null,
            "grid_template_columns": null,
            "grid_template_rows": null,
            "height": null,
            "justify_content": null,
            "justify_items": null,
            "left": null,
            "margin": null,
            "max_height": null,
            "max_width": null,
            "min_height": null,
            "min_width": null,
            "object_fit": null,
            "object_position": null,
            "order": null,
            "overflow": null,
            "overflow_x": null,
            "overflow_y": null,
            "padding": null,
            "right": null,
            "top": null,
            "visibility": null,
            "width": null
          }
        },
        "01736d736c764513adb83b42b031a466": {
          "model_module": "@jupyter-widgets/base",
          "model_name": "LayoutModel",
          "model_module_version": "1.2.0",
          "state": {
            "_model_module": "@jupyter-widgets/base",
            "_model_module_version": "1.2.0",
            "_model_name": "LayoutModel",
            "_view_count": null,
            "_view_module": "@jupyter-widgets/base",
            "_view_module_version": "1.2.0",
            "_view_name": "LayoutView",
            "align_content": null,
            "align_items": null,
            "align_self": null,
            "border": null,
            "bottom": null,
            "display": null,
            "flex": null,
            "flex_flow": null,
            "grid_area": null,
            "grid_auto_columns": null,
            "grid_auto_flow": null,
            "grid_auto_rows": null,
            "grid_column": null,
            "grid_gap": null,
            "grid_row": null,
            "grid_template_areas": null,
            "grid_template_columns": null,
            "grid_template_rows": null,
            "height": null,
            "justify_content": null,
            "justify_items": null,
            "left": null,
            "margin": null,
            "max_height": null,
            "max_width": null,
            "min_height": null,
            "min_width": null,
            "object_fit": null,
            "object_position": null,
            "order": null,
            "overflow": null,
            "overflow_x": null,
            "overflow_y": null,
            "padding": null,
            "right": null,
            "top": null,
            "visibility": null,
            "width": null
          }
        },
        "f2b25ef3ecff4c3bb4668974d108787e": {
          "model_module": "@jupyter-widgets/controls",
          "model_name": "DescriptionStyleModel",
          "model_module_version": "1.5.0",
          "state": {
            "_model_module": "@jupyter-widgets/controls",
            "_model_module_version": "1.5.0",
            "_model_name": "DescriptionStyleModel",
            "_view_count": null,
            "_view_module": "@jupyter-widgets/base",
            "_view_module_version": "1.2.0",
            "_view_name": "StyleView",
            "description_width": ""
          }
        },
        "641cc68722e547d7a5b5de81f12cf333": {
          "model_module": "@jupyter-widgets/base",
          "model_name": "LayoutModel",
          "model_module_version": "1.2.0",
          "state": {
            "_model_module": "@jupyter-widgets/base",
            "_model_module_version": "1.2.0",
            "_model_name": "LayoutModel",
            "_view_count": null,
            "_view_module": "@jupyter-widgets/base",
            "_view_module_version": "1.2.0",
            "_view_name": "LayoutView",
            "align_content": null,
            "align_items": null,
            "align_self": null,
            "border": null,
            "bottom": null,
            "display": null,
            "flex": null,
            "flex_flow": null,
            "grid_area": null,
            "grid_auto_columns": null,
            "grid_auto_flow": null,
            "grid_auto_rows": null,
            "grid_column": null,
            "grid_gap": null,
            "grid_row": null,
            "grid_template_areas": null,
            "grid_template_columns": null,
            "grid_template_rows": null,
            "height": null,
            "justify_content": null,
            "justify_items": null,
            "left": null,
            "margin": null,
            "max_height": null,
            "max_width": null,
            "min_height": null,
            "min_width": null,
            "object_fit": null,
            "object_position": null,
            "order": null,
            "overflow": null,
            "overflow_x": null,
            "overflow_y": null,
            "padding": null,
            "right": null,
            "top": null,
            "visibility": null,
            "width": null
          }
        },
        "6c1d7321a2614edba1815c9cf6798d3e": {
          "model_module": "@jupyter-widgets/controls",
          "model_name": "ProgressStyleModel",
          "model_module_version": "1.5.0",
          "state": {
            "_model_module": "@jupyter-widgets/controls",
            "_model_module_version": "1.5.0",
            "_model_name": "ProgressStyleModel",
            "_view_count": null,
            "_view_module": "@jupyter-widgets/base",
            "_view_module_version": "1.2.0",
            "_view_name": "StyleView",
            "bar_color": null,
            "description_width": ""
          }
        },
        "e90dbca89ba542e58b1d5facd47a40bb": {
          "model_module": "@jupyter-widgets/base",
          "model_name": "LayoutModel",
          "model_module_version": "1.2.0",
          "state": {
            "_model_module": "@jupyter-widgets/base",
            "_model_module_version": "1.2.0",
            "_model_name": "LayoutModel",
            "_view_count": null,
            "_view_module": "@jupyter-widgets/base",
            "_view_module_version": "1.2.0",
            "_view_name": "LayoutView",
            "align_content": null,
            "align_items": null,
            "align_self": null,
            "border": null,
            "bottom": null,
            "display": null,
            "flex": null,
            "flex_flow": null,
            "grid_area": null,
            "grid_auto_columns": null,
            "grid_auto_flow": null,
            "grid_auto_rows": null,
            "grid_column": null,
            "grid_gap": null,
            "grid_row": null,
            "grid_template_areas": null,
            "grid_template_columns": null,
            "grid_template_rows": null,
            "height": null,
            "justify_content": null,
            "justify_items": null,
            "left": null,
            "margin": null,
            "max_height": null,
            "max_width": null,
            "min_height": null,
            "min_width": null,
            "object_fit": null,
            "object_position": null,
            "order": null,
            "overflow": null,
            "overflow_x": null,
            "overflow_y": null,
            "padding": null,
            "right": null,
            "top": null,
            "visibility": null,
            "width": null
          }
        },
        "1c5e347873ed40c98825d6a68827cfc2": {
          "model_module": "@jupyter-widgets/controls",
          "model_name": "DescriptionStyleModel",
          "model_module_version": "1.5.0",
          "state": {
            "_model_module": "@jupyter-widgets/controls",
            "_model_module_version": "1.5.0",
            "_model_name": "DescriptionStyleModel",
            "_view_count": null,
            "_view_module": "@jupyter-widgets/base",
            "_view_module_version": "1.2.0",
            "_view_name": "StyleView",
            "description_width": ""
          }
        },
        "ea9057d0ac634bf99745d1775e41833c": {
          "model_module": "@jupyter-widgets/controls",
          "model_name": "HBoxModel",
          "model_module_version": "1.5.0",
          "state": {
            "_dom_classes": [],
            "_model_module": "@jupyter-widgets/controls",
            "_model_module_version": "1.5.0",
            "_model_name": "HBoxModel",
            "_view_count": null,
            "_view_module": "@jupyter-widgets/controls",
            "_view_module_version": "1.5.0",
            "_view_name": "HBoxView",
            "box_style": "",
            "children": [
              "IPY_MODEL_3a37d3210ed74a3da672d67a66848211",
              "IPY_MODEL_fb3c73706f5245998f4496d3d434e92f",
              "IPY_MODEL_03633c7f6f49475fa590b70466ae494a"
            ],
            "layout": "IPY_MODEL_707ffb2ebfa04e889e1b295e0fc6aa59"
          }
        },
        "3a37d3210ed74a3da672d67a66848211": {
          "model_module": "@jupyter-widgets/controls",
          "model_name": "HTMLModel",
          "model_module_version": "1.5.0",
          "state": {
            "_dom_classes": [],
            "_model_module": "@jupyter-widgets/controls",
            "_model_module_version": "1.5.0",
            "_model_name": "HTMLModel",
            "_view_count": null,
            "_view_module": "@jupyter-widgets/controls",
            "_view_module_version": "1.5.0",
            "_view_name": "HTMLView",
            "description": "",
            "description_tooltip": null,
            "layout": "IPY_MODEL_df1d2f37397246b498452e21b6b880f9",
            "placeholder": "​",
            "style": "IPY_MODEL_24b9a74f4f70441086e7172fa6200292",
            "value": "validation-00000-of-00001.parquet: 100%"
          }
        },
        "fb3c73706f5245998f4496d3d434e92f": {
          "model_module": "@jupyter-widgets/controls",
          "model_name": "FloatProgressModel",
          "model_module_version": "1.5.0",
          "state": {
            "_dom_classes": [],
            "_model_module": "@jupyter-widgets/controls",
            "_model_module_version": "1.5.0",
            "_model_name": "FloatProgressModel",
            "_view_count": null,
            "_view_module": "@jupyter-widgets/controls",
            "_view_module_version": "1.5.0",
            "_view_name": "ProgressView",
            "bar_style": "success",
            "description": "",
            "description_tooltip": null,
            "layout": "IPY_MODEL_91519f07b96e4baabf6a7f04d78d5cf6",
            "max": 40374,
            "min": 0,
            "orientation": "horizontal",
            "style": "IPY_MODEL_b23c9e460f86434d90234e3e59b75737",
            "value": 40374
          }
        },
        "03633c7f6f49475fa590b70466ae494a": {
          "model_module": "@jupyter-widgets/controls",
          "model_name": "HTMLModel",
          "model_module_version": "1.5.0",
          "state": {
            "_dom_classes": [],
            "_model_module": "@jupyter-widgets/controls",
            "_model_module_version": "1.5.0",
            "_model_name": "HTMLModel",
            "_view_count": null,
            "_view_module": "@jupyter-widgets/controls",
            "_view_module_version": "1.5.0",
            "_view_name": "HTMLView",
            "description": "",
            "description_tooltip": null,
            "layout": "IPY_MODEL_01e9ac09b0074242b53a47d00489cfd1",
            "placeholder": "​",
            "style": "IPY_MODEL_fd3a218bd14449f7a36386f8b3572b66",
            "value": " 40.4k/40.4k [00:00&lt;00:00, 840kB/s]"
          }
        },
        "707ffb2ebfa04e889e1b295e0fc6aa59": {
          "model_module": "@jupyter-widgets/base",
          "model_name": "LayoutModel",
          "model_module_version": "1.2.0",
          "state": {
            "_model_module": "@jupyter-widgets/base",
            "_model_module_version": "1.2.0",
            "_model_name": "LayoutModel",
            "_view_count": null,
            "_view_module": "@jupyter-widgets/base",
            "_view_module_version": "1.2.0",
            "_view_name": "LayoutView",
            "align_content": null,
            "align_items": null,
            "align_self": null,
            "border": null,
            "bottom": null,
            "display": null,
            "flex": null,
            "flex_flow": null,
            "grid_area": null,
            "grid_auto_columns": null,
            "grid_auto_flow": null,
            "grid_auto_rows": null,
            "grid_column": null,
            "grid_gap": null,
            "grid_row": null,
            "grid_template_areas": null,
            "grid_template_columns": null,
            "grid_template_rows": null,
            "height": null,
            "justify_content": null,
            "justify_items": null,
            "left": null,
            "margin": null,
            "max_height": null,
            "max_width": null,
            "min_height": null,
            "min_width": null,
            "object_fit": null,
            "object_position": null,
            "order": null,
            "overflow": null,
            "overflow_x": null,
            "overflow_y": null,
            "padding": null,
            "right": null,
            "top": null,
            "visibility": null,
            "width": null
          }
        },
        "df1d2f37397246b498452e21b6b880f9": {
          "model_module": "@jupyter-widgets/base",
          "model_name": "LayoutModel",
          "model_module_version": "1.2.0",
          "state": {
            "_model_module": "@jupyter-widgets/base",
            "_model_module_version": "1.2.0",
            "_model_name": "LayoutModel",
            "_view_count": null,
            "_view_module": "@jupyter-widgets/base",
            "_view_module_version": "1.2.0",
            "_view_name": "LayoutView",
            "align_content": null,
            "align_items": null,
            "align_self": null,
            "border": null,
            "bottom": null,
            "display": null,
            "flex": null,
            "flex_flow": null,
            "grid_area": null,
            "grid_auto_columns": null,
            "grid_auto_flow": null,
            "grid_auto_rows": null,
            "grid_column": null,
            "grid_gap": null,
            "grid_row": null,
            "grid_template_areas": null,
            "grid_template_columns": null,
            "grid_template_rows": null,
            "height": null,
            "justify_content": null,
            "justify_items": null,
            "left": null,
            "margin": null,
            "max_height": null,
            "max_width": null,
            "min_height": null,
            "min_width": null,
            "object_fit": null,
            "object_position": null,
            "order": null,
            "overflow": null,
            "overflow_x": null,
            "overflow_y": null,
            "padding": null,
            "right": null,
            "top": null,
            "visibility": null,
            "width": null
          }
        },
        "24b9a74f4f70441086e7172fa6200292": {
          "model_module": "@jupyter-widgets/controls",
          "model_name": "DescriptionStyleModel",
          "model_module_version": "1.5.0",
          "state": {
            "_model_module": "@jupyter-widgets/controls",
            "_model_module_version": "1.5.0",
            "_model_name": "DescriptionStyleModel",
            "_view_count": null,
            "_view_module": "@jupyter-widgets/base",
            "_view_module_version": "1.2.0",
            "_view_name": "StyleView",
            "description_width": ""
          }
        },
        "91519f07b96e4baabf6a7f04d78d5cf6": {
          "model_module": "@jupyter-widgets/base",
          "model_name": "LayoutModel",
          "model_module_version": "1.2.0",
          "state": {
            "_model_module": "@jupyter-widgets/base",
            "_model_module_version": "1.2.0",
            "_model_name": "LayoutModel",
            "_view_count": null,
            "_view_module": "@jupyter-widgets/base",
            "_view_module_version": "1.2.0",
            "_view_name": "LayoutView",
            "align_content": null,
            "align_items": null,
            "align_self": null,
            "border": null,
            "bottom": null,
            "display": null,
            "flex": null,
            "flex_flow": null,
            "grid_area": null,
            "grid_auto_columns": null,
            "grid_auto_flow": null,
            "grid_auto_rows": null,
            "grid_column": null,
            "grid_gap": null,
            "grid_row": null,
            "grid_template_areas": null,
            "grid_template_columns": null,
            "grid_template_rows": null,
            "height": null,
            "justify_content": null,
            "justify_items": null,
            "left": null,
            "margin": null,
            "max_height": null,
            "max_width": null,
            "min_height": null,
            "min_width": null,
            "object_fit": null,
            "object_position": null,
            "order": null,
            "overflow": null,
            "overflow_x": null,
            "overflow_y": null,
            "padding": null,
            "right": null,
            "top": null,
            "visibility": null,
            "width": null
          }
        },
        "b23c9e460f86434d90234e3e59b75737": {
          "model_module": "@jupyter-widgets/controls",
          "model_name": "ProgressStyleModel",
          "model_module_version": "1.5.0",
          "state": {
            "_model_module": "@jupyter-widgets/controls",
            "_model_module_version": "1.5.0",
            "_model_name": "ProgressStyleModel",
            "_view_count": null,
            "_view_module": "@jupyter-widgets/base",
            "_view_module_version": "1.2.0",
            "_view_name": "StyleView",
            "bar_color": null,
            "description_width": ""
          }
        },
        "01e9ac09b0074242b53a47d00489cfd1": {
          "model_module": "@jupyter-widgets/base",
          "model_name": "LayoutModel",
          "model_module_version": "1.2.0",
          "state": {
            "_model_module": "@jupyter-widgets/base",
            "_model_module_version": "1.2.0",
            "_model_name": "LayoutModel",
            "_view_count": null,
            "_view_module": "@jupyter-widgets/base",
            "_view_module_version": "1.2.0",
            "_view_name": "LayoutView",
            "align_content": null,
            "align_items": null,
            "align_self": null,
            "border": null,
            "bottom": null,
            "display": null,
            "flex": null,
            "flex_flow": null,
            "grid_area": null,
            "grid_auto_columns": null,
            "grid_auto_flow": null,
            "grid_auto_rows": null,
            "grid_column": null,
            "grid_gap": null,
            "grid_row": null,
            "grid_template_areas": null,
            "grid_template_columns": null,
            "grid_template_rows": null,
            "height": null,
            "justify_content": null,
            "justify_items": null,
            "left": null,
            "margin": null,
            "max_height": null,
            "max_width": null,
            "min_height": null,
            "min_width": null,
            "object_fit": null,
            "object_position": null,
            "order": null,
            "overflow": null,
            "overflow_x": null,
            "overflow_y": null,
            "padding": null,
            "right": null,
            "top": null,
            "visibility": null,
            "width": null
          }
        },
        "fd3a218bd14449f7a36386f8b3572b66": {
          "model_module": "@jupyter-widgets/controls",
          "model_name": "DescriptionStyleModel",
          "model_module_version": "1.5.0",
          "state": {
            "_model_module": "@jupyter-widgets/controls",
            "_model_module_version": "1.5.0",
            "_model_name": "DescriptionStyleModel",
            "_view_count": null,
            "_view_module": "@jupyter-widgets/base",
            "_view_module_version": "1.2.0",
            "_view_name": "StyleView",
            "description_width": ""
          }
        },
        "41a32c386c8948dd95bde6e904e0efcf": {
          "model_module": "@jupyter-widgets/controls",
          "model_name": "HBoxModel",
          "model_module_version": "1.5.0",
          "state": {
            "_dom_classes": [],
            "_model_module": "@jupyter-widgets/controls",
            "_model_module_version": "1.5.0",
            "_model_name": "HBoxModel",
            "_view_count": null,
            "_view_module": "@jupyter-widgets/controls",
            "_view_module_version": "1.5.0",
            "_view_name": "HBoxView",
            "box_style": "",
            "children": [
              "IPY_MODEL_ac57ec32671f49b5af0e23b970316201",
              "IPY_MODEL_8e52816e46ac41e2bae274a9a064a977",
              "IPY_MODEL_eb1aacd5ca2349f88194f6c5757d4ba3"
            ],
            "layout": "IPY_MODEL_9da0503a8fdc43f0b9288d2a3459e2be"
          }
        },
        "ac57ec32671f49b5af0e23b970316201": {
          "model_module": "@jupyter-widgets/controls",
          "model_name": "HTMLModel",
          "model_module_version": "1.5.0",
          "state": {
            "_dom_classes": [],
            "_model_module": "@jupyter-widgets/controls",
            "_model_module_version": "1.5.0",
            "_model_name": "HTMLModel",
            "_view_count": null,
            "_view_module": "@jupyter-widgets/controls",
            "_view_module_version": "1.5.0",
            "_view_name": "HTMLView",
            "description": "",
            "description_tooltip": null,
            "layout": "IPY_MODEL_a09fc56717224b2fad8081d0c82eb364",
            "placeholder": "​",
            "style": "IPY_MODEL_9e6a23aed9c94b67b7b84e0fa4477b9f",
            "value": "Generating train split: 100%"
          }
        },
        "8e52816e46ac41e2bae274a9a064a977": {
          "model_module": "@jupyter-widgets/controls",
          "model_name": "FloatProgressModel",
          "model_module_version": "1.5.0",
          "state": {
            "_dom_classes": [],
            "_model_module": "@jupyter-widgets/controls",
            "_model_module_version": "1.5.0",
            "_model_name": "FloatProgressModel",
            "_view_count": null,
            "_view_module": "@jupyter-widgets/controls",
            "_view_module_version": "1.5.0",
            "_view_name": "ProgressView",
            "bar_style": "success",
            "description": "",
            "description_tooltip": null,
            "layout": "IPY_MODEL_62deef8d67bf4ef58d5c22649312c1ac",
            "max": 6217,
            "min": 0,
            "orientation": "horizontal",
            "style": "IPY_MODEL_fda687ebda504f4d853633af5f1647d5",
            "value": 6217
          }
        },
        "eb1aacd5ca2349f88194f6c5757d4ba3": {
          "model_module": "@jupyter-widgets/controls",
          "model_name": "HTMLModel",
          "model_module_version": "1.5.0",
          "state": {
            "_dom_classes": [],
            "_model_module": "@jupyter-widgets/controls",
            "_model_module_version": "1.5.0",
            "_model_name": "HTMLModel",
            "_view_count": null,
            "_view_module": "@jupyter-widgets/controls",
            "_view_module_version": "1.5.0",
            "_view_name": "HTMLView",
            "description": "",
            "description_tooltip": null,
            "layout": "IPY_MODEL_267f384509444a54b9400ec643f8d302",
            "placeholder": "​",
            "style": "IPY_MODEL_38842d30a97d40089393c4b8cdbd7d6f",
            "value": " 6217/6217 [00:00&lt;00:00, 89904.18 examples/s]"
          }
        },
        "9da0503a8fdc43f0b9288d2a3459e2be": {
          "model_module": "@jupyter-widgets/base",
          "model_name": "LayoutModel",
          "model_module_version": "1.2.0",
          "state": {
            "_model_module": "@jupyter-widgets/base",
            "_model_module_version": "1.2.0",
            "_model_name": "LayoutModel",
            "_view_count": null,
            "_view_module": "@jupyter-widgets/base",
            "_view_module_version": "1.2.0",
            "_view_name": "LayoutView",
            "align_content": null,
            "align_items": null,
            "align_self": null,
            "border": null,
            "bottom": null,
            "display": null,
            "flex": null,
            "flex_flow": null,
            "grid_area": null,
            "grid_auto_columns": null,
            "grid_auto_flow": null,
            "grid_auto_rows": null,
            "grid_column": null,
            "grid_gap": null,
            "grid_row": null,
            "grid_template_areas": null,
            "grid_template_columns": null,
            "grid_template_rows": null,
            "height": null,
            "justify_content": null,
            "justify_items": null,
            "left": null,
            "margin": null,
            "max_height": null,
            "max_width": null,
            "min_height": null,
            "min_width": null,
            "object_fit": null,
            "object_position": null,
            "order": null,
            "overflow": null,
            "overflow_x": null,
            "overflow_y": null,
            "padding": null,
            "right": null,
            "top": null,
            "visibility": null,
            "width": null
          }
        },
        "a09fc56717224b2fad8081d0c82eb364": {
          "model_module": "@jupyter-widgets/base",
          "model_name": "LayoutModel",
          "model_module_version": "1.2.0",
          "state": {
            "_model_module": "@jupyter-widgets/base",
            "_model_module_version": "1.2.0",
            "_model_name": "LayoutModel",
            "_view_count": null,
            "_view_module": "@jupyter-widgets/base",
            "_view_module_version": "1.2.0",
            "_view_name": "LayoutView",
            "align_content": null,
            "align_items": null,
            "align_self": null,
            "border": null,
            "bottom": null,
            "display": null,
            "flex": null,
            "flex_flow": null,
            "grid_area": null,
            "grid_auto_columns": null,
            "grid_auto_flow": null,
            "grid_auto_rows": null,
            "grid_column": null,
            "grid_gap": null,
            "grid_row": null,
            "grid_template_areas": null,
            "grid_template_columns": null,
            "grid_template_rows": null,
            "height": null,
            "justify_content": null,
            "justify_items": null,
            "left": null,
            "margin": null,
            "max_height": null,
            "max_width": null,
            "min_height": null,
            "min_width": null,
            "object_fit": null,
            "object_position": null,
            "order": null,
            "overflow": null,
            "overflow_x": null,
            "overflow_y": null,
            "padding": null,
            "right": null,
            "top": null,
            "visibility": null,
            "width": null
          }
        },
        "9e6a23aed9c94b67b7b84e0fa4477b9f": {
          "model_module": "@jupyter-widgets/controls",
          "model_name": "DescriptionStyleModel",
          "model_module_version": "1.5.0",
          "state": {
            "_model_module": "@jupyter-widgets/controls",
            "_model_module_version": "1.5.0",
            "_model_name": "DescriptionStyleModel",
            "_view_count": null,
            "_view_module": "@jupyter-widgets/base",
            "_view_module_version": "1.2.0",
            "_view_name": "StyleView",
            "description_width": ""
          }
        },
        "62deef8d67bf4ef58d5c22649312c1ac": {
          "model_module": "@jupyter-widgets/base",
          "model_name": "LayoutModel",
          "model_module_version": "1.2.0",
          "state": {
            "_model_module": "@jupyter-widgets/base",
            "_model_module_version": "1.2.0",
            "_model_name": "LayoutModel",
            "_view_count": null,
            "_view_module": "@jupyter-widgets/base",
            "_view_module_version": "1.2.0",
            "_view_name": "LayoutView",
            "align_content": null,
            "align_items": null,
            "align_self": null,
            "border": null,
            "bottom": null,
            "display": null,
            "flex": null,
            "flex_flow": null,
            "grid_area": null,
            "grid_auto_columns": null,
            "grid_auto_flow": null,
            "grid_auto_rows": null,
            "grid_column": null,
            "grid_gap": null,
            "grid_row": null,
            "grid_template_areas": null,
            "grid_template_columns": null,
            "grid_template_rows": null,
            "height": null,
            "justify_content": null,
            "justify_items": null,
            "left": null,
            "margin": null,
            "max_height": null,
            "max_width": null,
            "min_height": null,
            "min_width": null,
            "object_fit": null,
            "object_position": null,
            "order": null,
            "overflow": null,
            "overflow_x": null,
            "overflow_y": null,
            "padding": null,
            "right": null,
            "top": null,
            "visibility": null,
            "width": null
          }
        },
        "fda687ebda504f4d853633af5f1647d5": {
          "model_module": "@jupyter-widgets/controls",
          "model_name": "ProgressStyleModel",
          "model_module_version": "1.5.0",
          "state": {
            "_model_module": "@jupyter-widgets/controls",
            "_model_module_version": "1.5.0",
            "_model_name": "ProgressStyleModel",
            "_view_count": null,
            "_view_module": "@jupyter-widgets/base",
            "_view_module_version": "1.2.0",
            "_view_name": "StyleView",
            "bar_color": null,
            "description_width": ""
          }
        },
        "267f384509444a54b9400ec643f8d302": {
          "model_module": "@jupyter-widgets/base",
          "model_name": "LayoutModel",
          "model_module_version": "1.2.0",
          "state": {
            "_model_module": "@jupyter-widgets/base",
            "_model_module_version": "1.2.0",
            "_model_name": "LayoutModel",
            "_view_count": null,
            "_view_module": "@jupyter-widgets/base",
            "_view_module_version": "1.2.0",
            "_view_name": "LayoutView",
            "align_content": null,
            "align_items": null,
            "align_self": null,
            "border": null,
            "bottom": null,
            "display": null,
            "flex": null,
            "flex_flow": null,
            "grid_area": null,
            "grid_auto_columns": null,
            "grid_auto_flow": null,
            "grid_auto_rows": null,
            "grid_column": null,
            "grid_gap": null,
            "grid_row": null,
            "grid_template_areas": null,
            "grid_template_columns": null,
            "grid_template_rows": null,
            "height": null,
            "justify_content": null,
            "justify_items": null,
            "left": null,
            "margin": null,
            "max_height": null,
            "max_width": null,
            "min_height": null,
            "min_width": null,
            "object_fit": null,
            "object_position": null,
            "order": null,
            "overflow": null,
            "overflow_x": null,
            "overflow_y": null,
            "padding": null,
            "right": null,
            "top": null,
            "visibility": null,
            "width": null
          }
        },
        "38842d30a97d40089393c4b8cdbd7d6f": {
          "model_module": "@jupyter-widgets/controls",
          "model_name": "DescriptionStyleModel",
          "model_module_version": "1.5.0",
          "state": {
            "_model_module": "@jupyter-widgets/controls",
            "_model_module_version": "1.5.0",
            "_model_name": "DescriptionStyleModel",
            "_view_count": null,
            "_view_module": "@jupyter-widgets/base",
            "_view_module_version": "1.2.0",
            "_view_name": "StyleView",
            "description_width": ""
          }
        },
        "5896658b2e41452a9574ba299b343dd9": {
          "model_module": "@jupyter-widgets/controls",
          "model_name": "HBoxModel",
          "model_module_version": "1.5.0",
          "state": {
            "_dom_classes": [],
            "_model_module": "@jupyter-widgets/controls",
            "_model_module_version": "1.5.0",
            "_model_name": "HBoxModel",
            "_view_count": null,
            "_view_module": "@jupyter-widgets/controls",
            "_view_module_version": "1.5.0",
            "_view_name": "HBoxView",
            "box_style": "",
            "children": [
              "IPY_MODEL_596a2d89d1194e589fe02665ccce4560",
              "IPY_MODEL_64dec768df9843a19632a0edbe1cced3",
              "IPY_MODEL_7c283a9a6cb74dc09fbcae6a8abde005"
            ],
            "layout": "IPY_MODEL_5b8cef7448ed413bb8f463bc023faf62"
          }
        },
        "596a2d89d1194e589fe02665ccce4560": {
          "model_module": "@jupyter-widgets/controls",
          "model_name": "HTMLModel",
          "model_module_version": "1.5.0",
          "state": {
            "_dom_classes": [],
            "_model_module": "@jupyter-widgets/controls",
            "_model_module_version": "1.5.0",
            "_model_name": "HTMLModel",
            "_view_count": null,
            "_view_module": "@jupyter-widgets/controls",
            "_view_module_version": "1.5.0",
            "_view_name": "HTMLView",
            "description": "",
            "description_tooltip": null,
            "layout": "IPY_MODEL_e6bf2330543149b9b833ef6b4d4b1f1d",
            "placeholder": "​",
            "style": "IPY_MODEL_253bd72dfed6439eb6c0fc4e8a919643",
            "value": "Generating validation split: 100%"
          }
        },
        "64dec768df9843a19632a0edbe1cced3": {
          "model_module": "@jupyter-widgets/controls",
          "model_name": "FloatProgressModel",
          "model_module_version": "1.5.0",
          "state": {
            "_dom_classes": [],
            "_model_module": "@jupyter-widgets/controls",
            "_model_module_version": "1.5.0",
            "_model_name": "FloatProgressModel",
            "_view_count": null,
            "_view_module": "@jupyter-widgets/controls",
            "_view_module_version": "1.5.0",
            "_view_name": "ProgressView",
            "bar_style": "success",
            "description": "",
            "description_tooltip": null,
            "layout": "IPY_MODEL_0cc1c1ff22c24f2e9f73526c83b7c6b1",
            "max": 777,
            "min": 0,
            "orientation": "horizontal",
            "style": "IPY_MODEL_09283231a5574c748d6f686a4a655a46",
            "value": 777
          }
        },
        "7c283a9a6cb74dc09fbcae6a8abde005": {
          "model_module": "@jupyter-widgets/controls",
          "model_name": "HTMLModel",
          "model_module_version": "1.5.0",
          "state": {
            "_dom_classes": [],
            "_model_module": "@jupyter-widgets/controls",
            "_model_module_version": "1.5.0",
            "_model_name": "HTMLModel",
            "_view_count": null,
            "_view_module": "@jupyter-widgets/controls",
            "_view_module_version": "1.5.0",
            "_view_name": "HTMLView",
            "description": "",
            "description_tooltip": null,
            "layout": "IPY_MODEL_a6da18cc17754308a9e1beeadefb651e",
            "placeholder": "​",
            "style": "IPY_MODEL_0d99b2ee7dca4540937bf17427a1e0db",
            "value": " 777/777 [00:00&lt;00:00, 20161.18 examples/s]"
          }
        },
        "5b8cef7448ed413bb8f463bc023faf62": {
          "model_module": "@jupyter-widgets/base",
          "model_name": "LayoutModel",
          "model_module_version": "1.2.0",
          "state": {
            "_model_module": "@jupyter-widgets/base",
            "_model_module_version": "1.2.0",
            "_model_name": "LayoutModel",
            "_view_count": null,
            "_view_module": "@jupyter-widgets/base",
            "_view_module_version": "1.2.0",
            "_view_name": "LayoutView",
            "align_content": null,
            "align_items": null,
            "align_self": null,
            "border": null,
            "bottom": null,
            "display": null,
            "flex": null,
            "flex_flow": null,
            "grid_area": null,
            "grid_auto_columns": null,
            "grid_auto_flow": null,
            "grid_auto_rows": null,
            "grid_column": null,
            "grid_gap": null,
            "grid_row": null,
            "grid_template_areas": null,
            "grid_template_columns": null,
            "grid_template_rows": null,
            "height": null,
            "justify_content": null,
            "justify_items": null,
            "left": null,
            "margin": null,
            "max_height": null,
            "max_width": null,
            "min_height": null,
            "min_width": null,
            "object_fit": null,
            "object_position": null,
            "order": null,
            "overflow": null,
            "overflow_x": null,
            "overflow_y": null,
            "padding": null,
            "right": null,
            "top": null,
            "visibility": null,
            "width": null
          }
        },
        "e6bf2330543149b9b833ef6b4d4b1f1d": {
          "model_module": "@jupyter-widgets/base",
          "model_name": "LayoutModel",
          "model_module_version": "1.2.0",
          "state": {
            "_model_module": "@jupyter-widgets/base",
            "_model_module_version": "1.2.0",
            "_model_name": "LayoutModel",
            "_view_count": null,
            "_view_module": "@jupyter-widgets/base",
            "_view_module_version": "1.2.0",
            "_view_name": "LayoutView",
            "align_content": null,
            "align_items": null,
            "align_self": null,
            "border": null,
            "bottom": null,
            "display": null,
            "flex": null,
            "flex_flow": null,
            "grid_area": null,
            "grid_auto_columns": null,
            "grid_auto_flow": null,
            "grid_auto_rows": null,
            "grid_column": null,
            "grid_gap": null,
            "grid_row": null,
            "grid_template_areas": null,
            "grid_template_columns": null,
            "grid_template_rows": null,
            "height": null,
            "justify_content": null,
            "justify_items": null,
            "left": null,
            "margin": null,
            "max_height": null,
            "max_width": null,
            "min_height": null,
            "min_width": null,
            "object_fit": null,
            "object_position": null,
            "order": null,
            "overflow": null,
            "overflow_x": null,
            "overflow_y": null,
            "padding": null,
            "right": null,
            "top": null,
            "visibility": null,
            "width": null
          }
        },
        "253bd72dfed6439eb6c0fc4e8a919643": {
          "model_module": "@jupyter-widgets/controls",
          "model_name": "DescriptionStyleModel",
          "model_module_version": "1.5.0",
          "state": {
            "_model_module": "@jupyter-widgets/controls",
            "_model_module_version": "1.5.0",
            "_model_name": "DescriptionStyleModel",
            "_view_count": null,
            "_view_module": "@jupyter-widgets/base",
            "_view_module_version": "1.2.0",
            "_view_name": "StyleView",
            "description_width": ""
          }
        },
        "0cc1c1ff22c24f2e9f73526c83b7c6b1": {
          "model_module": "@jupyter-widgets/base",
          "model_name": "LayoutModel",
          "model_module_version": "1.2.0",
          "state": {
            "_model_module": "@jupyter-widgets/base",
            "_model_module_version": "1.2.0",
            "_model_name": "LayoutModel",
            "_view_count": null,
            "_view_module": "@jupyter-widgets/base",
            "_view_module_version": "1.2.0",
            "_view_name": "LayoutView",
            "align_content": null,
            "align_items": null,
            "align_self": null,
            "border": null,
            "bottom": null,
            "display": null,
            "flex": null,
            "flex_flow": null,
            "grid_area": null,
            "grid_auto_columns": null,
            "grid_auto_flow": null,
            "grid_auto_rows": null,
            "grid_column": null,
            "grid_gap": null,
            "grid_row": null,
            "grid_template_areas": null,
            "grid_template_columns": null,
            "grid_template_rows": null,
            "height": null,
            "justify_content": null,
            "justify_items": null,
            "left": null,
            "margin": null,
            "max_height": null,
            "max_width": null,
            "min_height": null,
            "min_width": null,
            "object_fit": null,
            "object_position": null,
            "order": null,
            "overflow": null,
            "overflow_x": null,
            "overflow_y": null,
            "padding": null,
            "right": null,
            "top": null,
            "visibility": null,
            "width": null
          }
        },
        "09283231a5574c748d6f686a4a655a46": {
          "model_module": "@jupyter-widgets/controls",
          "model_name": "ProgressStyleModel",
          "model_module_version": "1.5.0",
          "state": {
            "_model_module": "@jupyter-widgets/controls",
            "_model_module_version": "1.5.0",
            "_model_name": "ProgressStyleModel",
            "_view_count": null,
            "_view_module": "@jupyter-widgets/base",
            "_view_module_version": "1.2.0",
            "_view_name": "StyleView",
            "bar_color": null,
            "description_width": ""
          }
        },
        "a6da18cc17754308a9e1beeadefb651e": {
          "model_module": "@jupyter-widgets/base",
          "model_name": "LayoutModel",
          "model_module_version": "1.2.0",
          "state": {
            "_model_module": "@jupyter-widgets/base",
            "_model_module_version": "1.2.0",
            "_model_name": "LayoutModel",
            "_view_count": null,
            "_view_module": "@jupyter-widgets/base",
            "_view_module_version": "1.2.0",
            "_view_name": "LayoutView",
            "align_content": null,
            "align_items": null,
            "align_self": null,
            "border": null,
            "bottom": null,
            "display": null,
            "flex": null,
            "flex_flow": null,
            "grid_area": null,
            "grid_auto_columns": null,
            "grid_auto_flow": null,
            "grid_auto_rows": null,
            "grid_column": null,
            "grid_gap": null,
            "grid_row": null,
            "grid_template_areas": null,
            "grid_template_columns": null,
            "grid_template_rows": null,
            "height": null,
            "justify_content": null,
            "justify_items": null,
            "left": null,
            "margin": null,
            "max_height": null,
            "max_width": null,
            "min_height": null,
            "min_width": null,
            "object_fit": null,
            "object_position": null,
            "order": null,
            "overflow": null,
            "overflow_x": null,
            "overflow_y": null,
            "padding": null,
            "right": null,
            "top": null,
            "visibility": null,
            "width": null
          }
        },
        "0d99b2ee7dca4540937bf17427a1e0db": {
          "model_module": "@jupyter-widgets/controls",
          "model_name": "DescriptionStyleModel",
          "model_module_version": "1.5.0",
          "state": {
            "_model_module": "@jupyter-widgets/controls",
            "_model_module_version": "1.5.0",
            "_model_name": "DescriptionStyleModel",
            "_view_count": null,
            "_view_module": "@jupyter-widgets/base",
            "_view_module_version": "1.2.0",
            "_view_name": "StyleView",
            "description_width": ""
          }
        }
      }
    },
    "kaggle": {
      "accelerator": "nvidiaTeslaT4",
      "dataSources": [],
      "dockerImageVersionId": 30840,
      "isInternetEnabled": true,
      "language": "python",
      "sourceType": "notebook",
      "isGpuEnabled": true
    }
  },
  "nbformat_minor": 0,
  "nbformat": 4,
  "cells": [
    {
      "cell_type": "code",
      "source": [
        "!pip install datasets"
      ],
      "metadata": {
        "colab": {
          "base_uri": "https://localhost:8080/"
        },
        "id": "__tE4n2VEhph",
        "outputId": "ff8e14d3-89db-4267-b882-52ee307d52e5",
        "trusted": true
      },
      "outputs": [
        {
          "output_type": "stream",
          "name": "stdout",
          "text": [
            "Requirement already satisfied: datasets in /usr/local/lib/python3.11/dist-packages (3.5.0)\n",
            "Requirement already satisfied: filelock in /usr/local/lib/python3.11/dist-packages (from datasets) (3.18.0)\n",
            "Requirement already satisfied: numpy>=1.17 in /usr/local/lib/python3.11/dist-packages (from datasets) (2.0.2)\n",
            "Requirement already satisfied: pyarrow>=15.0.0 in /usr/local/lib/python3.11/dist-packages (from datasets) (18.1.0)\n",
            "Requirement already satisfied: dill<0.3.9,>=0.3.0 in /usr/local/lib/python3.11/dist-packages (from datasets) (0.3.8)\n",
            "Requirement already satisfied: pandas in /usr/local/lib/python3.11/dist-packages (from datasets) (2.2.2)\n",
            "Requirement already satisfied: requests>=2.32.2 in /usr/local/lib/python3.11/dist-packages (from datasets) (2.32.3)\n",
            "Requirement already satisfied: tqdm>=4.66.3 in /usr/local/lib/python3.11/dist-packages (from datasets) (4.67.1)\n",
            "Requirement already satisfied: xxhash in /usr/local/lib/python3.11/dist-packages (from datasets) (3.5.0)\n",
            "Requirement already satisfied: multiprocess<0.70.17 in /usr/local/lib/python3.11/dist-packages (from datasets) (0.70.16)\n",
            "Requirement already satisfied: fsspec<=2024.12.0,>=2023.1.0 in /usr/local/lib/python3.11/dist-packages (from fsspec[http]<=2024.12.0,>=2023.1.0->datasets) (2024.12.0)\n",
            "Requirement already satisfied: aiohttp in /usr/local/lib/python3.11/dist-packages (from datasets) (3.11.14)\n",
            "Requirement already satisfied: huggingface-hub>=0.24.0 in /usr/local/lib/python3.11/dist-packages (from datasets) (0.29.3)\n",
            "Requirement already satisfied: packaging in /usr/local/lib/python3.11/dist-packages (from datasets) (24.2)\n",
            "Requirement already satisfied: pyyaml>=5.1 in /usr/local/lib/python3.11/dist-packages (from datasets) (6.0.2)\n",
            "Requirement already satisfied: aiohappyeyeballs>=2.3.0 in /usr/local/lib/python3.11/dist-packages (from aiohttp->datasets) (2.6.1)\n",
            "Requirement already satisfied: aiosignal>=1.1.2 in /usr/local/lib/python3.11/dist-packages (from aiohttp->datasets) (1.3.2)\n",
            "Requirement already satisfied: attrs>=17.3.0 in /usr/local/lib/python3.11/dist-packages (from aiohttp->datasets) (25.3.0)\n",
            "Requirement already satisfied: frozenlist>=1.1.1 in /usr/local/lib/python3.11/dist-packages (from aiohttp->datasets) (1.5.0)\n",
            "Requirement already satisfied: multidict<7.0,>=4.5 in /usr/local/lib/python3.11/dist-packages (from aiohttp->datasets) (6.2.0)\n",
            "Requirement already satisfied: propcache>=0.2.0 in /usr/local/lib/python3.11/dist-packages (from aiohttp->datasets) (0.3.1)\n",
            "Requirement already satisfied: yarl<2.0,>=1.17.0 in /usr/local/lib/python3.11/dist-packages (from aiohttp->datasets) (1.18.3)\n",
            "Requirement already satisfied: typing-extensions>=3.7.4.3 in /usr/local/lib/python3.11/dist-packages (from huggingface-hub>=0.24.0->datasets) (4.13.0)\n",
            "Requirement already satisfied: charset-normalizer<4,>=2 in /usr/local/lib/python3.11/dist-packages (from requests>=2.32.2->datasets) (3.4.1)\n",
            "Requirement already satisfied: idna<4,>=2.5 in /usr/local/lib/python3.11/dist-packages (from requests>=2.32.2->datasets) (3.10)\n",
            "Requirement already satisfied: urllib3<3,>=1.21.1 in /usr/local/lib/python3.11/dist-packages (from requests>=2.32.2->datasets) (2.3.0)\n",
            "Requirement already satisfied: certifi>=2017.4.17 in /usr/local/lib/python3.11/dist-packages (from requests>=2.32.2->datasets) (2025.1.31)\n",
            "Requirement already satisfied: python-dateutil>=2.8.2 in /usr/local/lib/python3.11/dist-packages (from pandas->datasets) (2.8.2)\n",
            "Requirement already satisfied: pytz>=2020.1 in /usr/local/lib/python3.11/dist-packages (from pandas->datasets) (2025.2)\n",
            "Requirement already satisfied: tzdata>=2022.7 in /usr/local/lib/python3.11/dist-packages (from pandas->datasets) (2025.2)\n",
            "Requirement already satisfied: six>=1.5 in /usr/local/lib/python3.11/dist-packages (from python-dateutil>=2.8.2->pandas->datasets) (1.17.0)\n"
          ]
        }
      ],
      "execution_count": null
    },
    {
      "cell_type": "code",
      "source": [
        "pip install pandas"
      ],
      "metadata": {
        "colab": {
          "base_uri": "https://localhost:8080/"
        },
        "id": "J1W5_sJPuPYU",
        "outputId": "e36cc432-695f-4a33-a622-22b9e4a7c4e2",
        "trusted": true
      },
      "outputs": [
        {
          "output_type": "stream",
          "name": "stdout",
          "text": [
            "Requirement already satisfied: pandas in /usr/local/lib/python3.11/dist-packages (2.2.2)\n",
            "Requirement already satisfied: numpy>=1.23.2 in /usr/local/lib/python3.11/dist-packages (from pandas) (2.0.2)\n",
            "Requirement already satisfied: python-dateutil>=2.8.2 in /usr/local/lib/python3.11/dist-packages (from pandas) (2.8.2)\n",
            "Requirement already satisfied: pytz>=2020.1 in /usr/local/lib/python3.11/dist-packages (from pandas) (2025.2)\n",
            "Requirement already satisfied: tzdata>=2022.7 in /usr/local/lib/python3.11/dist-packages (from pandas) (2025.2)\n",
            "Requirement already satisfied: six>=1.5 in /usr/local/lib/python3.11/dist-packages (from python-dateutil>=2.8.2->pandas) (1.17.0)\n"
          ]
        }
      ],
      "execution_count": null
    },
    {
      "cell_type": "code",
      "source": [
        "from datasets import load_dataset\n",
        "dataset = load_dataset(\"community-datasets/offenseval_dravidian\", \"kannada\")\n",
        "\n",
        "print(dataset)"
      ],
      "metadata": {
        "colab": {
          "base_uri": "https://localhost:8080/",
          "height": 499,
          "referenced_widgets": [
            "5f672f9b443942bf8d7f34bbe055757e",
            "44cd3aba08424202991e2a956b26c783",
            "b2577a74cd6747428d156f3f61f690ed",
            "91a0a82df4064223bb692335577c25da",
            "98025db564b34ed1a3f8756d7c790602",
            "01736d736c764513adb83b42b031a466",
            "f2b25ef3ecff4c3bb4668974d108787e",
            "641cc68722e547d7a5b5de81f12cf333",
            "6c1d7321a2614edba1815c9cf6798d3e",
            "e90dbca89ba542e58b1d5facd47a40bb",
            "1c5e347873ed40c98825d6a68827cfc2",
            "ea9057d0ac634bf99745d1775e41833c",
            "3a37d3210ed74a3da672d67a66848211",
            "fb3c73706f5245998f4496d3d434e92f",
            "03633c7f6f49475fa590b70466ae494a",
            "707ffb2ebfa04e889e1b295e0fc6aa59",
            "df1d2f37397246b498452e21b6b880f9",
            "24b9a74f4f70441086e7172fa6200292",
            "91519f07b96e4baabf6a7f04d78d5cf6",
            "b23c9e460f86434d90234e3e59b75737",
            "01e9ac09b0074242b53a47d00489cfd1",
            "fd3a218bd14449f7a36386f8b3572b66",
            "41a32c386c8948dd95bde6e904e0efcf",
            "ac57ec32671f49b5af0e23b970316201",
            "8e52816e46ac41e2bae274a9a064a977",
            "eb1aacd5ca2349f88194f6c5757d4ba3",
            "9da0503a8fdc43f0b9288d2a3459e2be",
            "a09fc56717224b2fad8081d0c82eb364",
            "9e6a23aed9c94b67b7b84e0fa4477b9f",
            "62deef8d67bf4ef58d5c22649312c1ac",
            "fda687ebda504f4d853633af5f1647d5",
            "267f384509444a54b9400ec643f8d302",
            "38842d30a97d40089393c4b8cdbd7d6f",
            "5896658b2e41452a9574ba299b343dd9",
            "596a2d89d1194e589fe02665ccce4560",
            "64dec768df9843a19632a0edbe1cced3",
            "7c283a9a6cb74dc09fbcae6a8abde005",
            "5b8cef7448ed413bb8f463bc023faf62",
            "e6bf2330543149b9b833ef6b4d4b1f1d",
            "253bd72dfed6439eb6c0fc4e8a919643",
            "0cc1c1ff22c24f2e9f73526c83b7c6b1",
            "09283231a5574c748d6f686a4a655a46",
            "a6da18cc17754308a9e1beeadefb651e",
            "0d99b2ee7dca4540937bf17427a1e0db"
          ]
        },
        "id": "MX6RAU53sUlf",
        "outputId": "9d1ccf14-6ab9-447c-d108-2b40e16ff1dc",
        "trusted": true
      },
      "outputs": [
        {
          "output_type": "stream",
          "name": "stderr",
          "text": [
            "/usr/local/lib/python3.11/dist-packages/huggingface_hub/utils/_auth.py:94: UserWarning: \n",
            "The secret `HF_TOKEN` does not exist in your Colab secrets.\n",
            "To authenticate with the Hugging Face Hub, create a token in your settings tab (https://huggingface.co/settings/tokens), set it as secret in your Google Colab and restart your session.\n",
            "You will be able to reuse this secret in all of your notebooks.\n",
            "Please note that authentication is recommended but still optional to access public models or datasets.\n",
            "  warnings.warn(\n"
          ]
        },
        {
          "output_type": "display_data",
          "data": {
            "text/plain": [
              "train-00000-of-00001.parquet:   0%|          | 0.00/324k [00:00<?, ?B/s]"
            ],
            "application/vnd.jupyter.widget-view+json": {
              "version_major": 2,
              "version_minor": 0,
              "model_id": "5f672f9b443942bf8d7f34bbe055757e"
            }
          },
          "metadata": {}
        },
        {
          "output_type": "display_data",
          "data": {
            "text/plain": [
              "validation-00000-of-00001.parquet:   0%|          | 0.00/40.4k [00:00<?, ?B/s]"
            ],
            "application/vnd.jupyter.widget-view+json": {
              "version_major": 2,
              "version_minor": 0,
              "model_id": "ea9057d0ac634bf99745d1775e41833c"
            }
          },
          "metadata": {}
        },
        {
          "output_type": "display_data",
          "data": {
            "text/plain": [
              "Generating train split:   0%|          | 0/6217 [00:00<?, ? examples/s]"
            ],
            "application/vnd.jupyter.widget-view+json": {
              "version_major": 2,
              "version_minor": 0,
              "model_id": "41a32c386c8948dd95bde6e904e0efcf"
            }
          },
          "metadata": {}
        },
        {
          "output_type": "display_data",
          "data": {
            "text/plain": [
              "Generating validation split:   0%|          | 0/777 [00:00<?, ? examples/s]"
            ],
            "application/vnd.jupyter.widget-view+json": {
              "version_major": 2,
              "version_minor": 0,
              "model_id": "5896658b2e41452a9574ba299b343dd9"
            }
          },
          "metadata": {}
        },
        {
          "output_type": "stream",
          "name": "stdout",
          "text": [
            "DatasetDict({\n",
            "    train: Dataset({\n",
            "        features: ['text', 'label'],\n",
            "        num_rows: 6217\n",
            "    })\n",
            "    validation: Dataset({\n",
            "        features: ['text', 'label'],\n",
            "        num_rows: 777\n",
            "    })\n",
            "})\n"
          ]
        }
      ],
      "execution_count": null
    },
    {
      "cell_type": "code",
      "source": [
        "from datasets import load_dataset\n",
        "import re\n",
        "from sklearn.model_selection import train_test_split\n",
        "\n",
        "# Load the dataset\n",
        "dataset = load_dataset(\"community-datasets/offenseval_dravidian\", \"kannada\")\n",
        "\n",
        "# Convert the dataset to a list of dictionaries so train_test_split can be applied\n",
        "train_data = dataset['train']\n",
        "\n",
        "# Convert the dataset to a list of dicts (this step should be done carefully)\n",
        "train_data_list = [{'text': item['text'], 'label': item['label']} for item in train_data]\n",
        "\n",
        "# Split the train data into 90% for training and 10% for testing\n",
        "train_data_split, test_data_split = train_test_split(train_data_list, test_size=0.1, random_state=42)\n",
        "\n",
        "# Clean function to preserve emojis and emoticons\n",
        "def clean_text(text):\n",
        "    # Remove unwanted characters but keep emojis and emoticons\n",
        "    text = re.sub(r'http\\S+|www\\S+|https\\S+', '', text)  # Remove URLs\n",
        "    # Keep only letters, numbers, whitespaces, and emojis\n",
        "    text = re.sub(r'[^a-zA-Z0-9\\s\\U0001F600-\\U0001F64F\\U0001F300-\\U0001F5FF\\U0001F680-\\U0001F6FF\\U0001F700-\\U0001F77F\\U0001F780-\\U0001F7FF\\U0001F800-\\U0001F8FF\\U0001F900-\\U0001F9FF\\U0001FA00-\\U0001FA6F\\U0001FA70-\\U0001FAFF\\U00002702-\\U000027B0\\U000024C2-\\U0001F251]', '', text)\n",
        "    text = text.strip()\n",
        "    return text\n",
        "\n",
        "# Apply the cleaning function to the train, test, and validation datasets\n",
        "train_data_split = [{'text': clean_text(item['text']), 'label': item['label']} for item in train_data_split]\n",
        "test_data_split = [{'text': clean_text(item['text']), 'label': item['label']} for item in test_data_split]\n",
        "dataset['validation'] = [{'text': clean_text(item['text']), 'label': item['label']} for item in dataset['validation']]\n",
        "\n",
        "# Check the cleaned data\n",
        "print(train_data_split[1])\n",
        "print(test_data_split[0])\n",
        "print(dataset['validation'][0])"
      ],
      "metadata": {
        "colab": {
          "base_uri": "https://localhost:8080/"
        },
        "id": "L25cyOVXuSf-",
        "outputId": "a33b38b8-7dad-4fe0-cc1d-cccdeac1ae6e",
        "trusted": true
      },
      "outputs": [
        {
          "output_type": "stream",
          "name": "stdout",
          "text": [
            "{'text': 'Haha  nija', 'label': 0}\n",
            "{'text': '', 'label': 0}\n",
            "{'text': '100 days pakka', 'label': 0}\n"
          ]
        }
      ],
      "execution_count": null
    },
    {
      "cell_type": "code",
      "source": [
        "import pandas as pd\n",
        "import re\n",
        "from sklearn.model_selection import train_test_split\n",
        "from datasets import load_dataset\n",
        "\n",
        "# Load the dataset\n",
        "dataset = load_dataset(\"community-datasets/offenseval_dravidian\", \"kannada\")\n",
        "\n",
        "# Extract train data\n",
        "train_data = dataset['train']\n",
        "\n",
        "# Convert to a list of dictionaries for train_test_split\n",
        "train_data_list = [{'text': item['text'], 'label': item['label']} for item in train_data]\n",
        "\n",
        "# Split train data into 90% train and 10% test\n",
        "train_data_split, test_data_split = train_test_split(train_data_list, test_size=0.1, random_state=42)\n",
        "\n",
        "# Convert lists of dictionaries to pandas DataFrames\n",
        "df_train = pd.DataFrame(train_data_split)\n",
        "df_test = pd.DataFrame(test_data_split)\n",
        "df_val = pd.DataFrame([{'text': item['text'], 'label': item['label']} for item in dataset['validation']])\n",
        "\n",
        "# Ensure the DataFrames contain the required columns\n",
        "required_columns = ['text', 'label']\n",
        "for df_name, df in zip(['df_train', 'df_test', 'df_val'], [df_train, df_test, df_val]):\n",
        "    if not all(col in df.columns for col in required_columns):\n",
        "        raise KeyError(f\"{df_name} must contain the columns {required_columns}.\")\n",
        "\n",
        "# Function to extract emojis from the text\n",
        "def extract_emojis(text):\n",
        "    emoji_pattern = re.compile(\n",
        "        r'[\\U0001F600-\\U0001F64F'  # emoticons\n",
        "        r'\\U0001F300-\\U0001F5FF'  # symbols & pictographs\n",
        "        r'\\U0001F680-\\U0001F6FF'  # transport & map symbols\n",
        "        r'\\U0001F700-\\U0001F77F'  # alchemical symbols\n",
        "        r'\\U0001F780-\\U0001F7FF'  # Geometric Shapes Extended\n",
        "        r'\\U0001F800-\\U0001F8FF'  # Supplemental Arrows-C\n",
        "        r'\\U0001F900-\\U0001F9FF'  # Supplemental Symbols and Pictographs\n",
        "        r'\\U0001FA00-\\U0001FA6F'  # Chess Symbols\n",
        "        r'\\U0001FA70-\\U0001FAFF'  # Symbols and Pictographs Extended-A\n",
        "        r'\\U00002702-\\U000027B0'  # Dingbats\n",
        "        r'\\U000024C2-\\U0001F251'  # Enclosed characters\n",
        "        r']+', flags=re.UNICODE)\n",
        "    emojis = emoji_pattern.findall(text)\n",
        "    return ''.join(emojis)\n",
        "\n",
        "# Function to separate emojis and clean text\n",
        "def separate_emojis(text):\n",
        "    emojis = extract_emojis(text)\n",
        "    # Remove emojis and keep only cleaned text\n",
        "    text_without_emojis = re.sub(r'[^\\w\\s,\\.!?]', '', text)\n",
        "    return text_without_emojis.strip(), emojis\n",
        "\n",
        "# Apply the cleaning and emoji extraction function\n",
        "df_train['cleaned_text'], df_train['emojis'] = zip(*df_train['text'].map(separate_emojis))\n",
        "df_test['cleaned_text'], df_test['emojis'] = zip(*df_test['text'].map(separate_emojis))\n",
        "df_val['cleaned_text'], df_val['emojis'] = zip(*df_val['text'].map(separate_emojis))\n",
        "\n",
        "# Create separate DataFrames for cleaned text and emojis with labels\n",
        "df_cleaned_text_train = df_train[['cleaned_text', 'label']].copy()\n",
        "df_emojis_train = df_train[['emojis', 'label']].copy()\n",
        "\n",
        "df_cleaned_text_test = df_test[['cleaned_text', 'label']].copy()\n",
        "df_emojis_test = df_test[['emojis', 'label']].copy()\n",
        "\n",
        "df_cleaned_text_val = df_val[['cleaned_text', 'label']].copy()\n",
        "df_emojis_val = df_val[['emojis', 'label']].copy()\n",
        "\n",
        "# Display sample data\n",
        "print(\"Cleaned Text Train Data:\")\n",
        "print(df_cleaned_text_train.head())\n",
        "\n",
        "print(\"\\nEmojis Train Data:\")\n",
        "print(df_emojis_train.head())\n",
        "\n",
        "print(\"\\nCleaned Text Test Data:\")\n",
        "print(df_cleaned_text_test.head())\n",
        "\n",
        "print(\"\\nEmojis Test Data:\")\n",
        "print(df_emojis_test.head())\n",
        "\n",
        "print(\"\\nCleaned Text Validation Data:\")\n",
        "print(df_cleaned_text_val.head())\n",
        "\n",
        "print(\"\\nEmojis Validation Data:\")\n",
        "print(df_emojis_val.head())"
      ],
      "metadata": {
        "colab": {
          "base_uri": "https://localhost:8080/"
        },
        "id": "FPJL_RJo3EyS",
        "outputId": "a8e1e510-c2d1-4f8f-a77a-cc534009838c",
        "trusted": true
      },
      "outputs": [
        {
          "output_type": "stream",
          "name": "stdout",
          "text": [
            "Cleaned Text Train Data:\n",
            "                       cleaned_text  label\n",
            "0                          Hands up      0\n",
            "1                        Haha  nija      0\n",
            "2                     1 in trending      5\n",
            "3   Movie hindi me kb tk aa ne ka h      5\n",
            "4  Edu charitre srustisuva avatraaa      0\n",
            "\n",
            "Emojis Train Data:\n",
            "  emojis  label\n",
            "0             0\n",
            "1             0\n",
            "2             5\n",
            "3             5\n",
            "4             0\n",
            "\n",
            "Cleaned Text Test Data:\n",
            "                                        cleaned_text  label\n",
            "0  ವವ ಸಪರ ಅನಲಸಸನಮಮ ದಶ ಓಳಳದ...ಮತ ಜಸತ  ಕಲಸ ಕಮಮ........      0\n",
            "1  Yalla kannadigarugu ansthithu bere bashe movie...      0\n",
            "2                   Sir make vidieo on drone prathap      5\n",
            "3                          Vivek G side ge hogro nim      3\n",
            "4   ಈ ಯಗದ ಶಕರ ನಗ ಗರ ನನ  all the best from DBOSS fans      0\n",
            "\n",
            "Emojis Test Data:\n",
            "  emojis  label\n",
            "0             0\n",
            "1             0\n",
            "2             5\n",
            "3             3\n",
            "4             0\n",
            "\n",
            "Cleaned Text Validation Data:\n",
            "                                        cleaned_text  label\n",
            "0                                     100 days pakka      0\n",
            "1                                          Super sir      5\n",
            "2                                           Hands up      5\n",
            "3  Sari nivu video na roast madi adre madvaga pub...      0\n",
            "4                       Krishana  shapa tatteleebeku      0\n",
            "\n",
            "Emojis Validation Data:\n",
            "  emojis  label\n",
            "0             0\n",
            "1             5\n",
            "2             5\n",
            "3             0\n",
            "4             0\n"
          ]
        }
      ],
      "execution_count": null
    },
    {
      "cell_type": "code",
      "source": [
        "from transformers import AutoTokenizer, AutoModel\n",
        "import torch\n",
        "\n",
        "# Load a pre-trained model and tokenizer\n",
        "model_name = \"bert-base-uncased\"  # Replace with a model fine-tuned for emojis if needed\n",
        "tokenizer = AutoTokenizer.from_pretrained(model_name)\n",
        "model = AutoModel.from_pretrained(model_name)\n",
        "\n",
        "# Function to get embeddings for emojis\n",
        "def get_emoji_embedding(emojis, tokenizer, model):\n",
        "    if not emojis:  # No emojis provided\n",
        "        return torch.zeros(768)  # Assuming the model outputs 768-dimensional embeddings\n",
        "    inputs = tokenizer(emojis, return_tensors=\"pt\", truncation=True, max_length=10)\n",
        "    outputs = model(**inputs)\n",
        "    # Use the mean of the last hidden state as the embedding\n",
        "    embeddings = outputs.last_hidden_state.mean(dim=1).squeeze()\n",
        "    return embeddings.detach().numpy()\n",
        "\n",
        "# Apply to your DataFrame\n",
        "df_emojis_train['emoji_embeddings'] = df_emojis_train['emojis'].map(\n",
        "    lambda x: get_emoji_embedding(x, tokenizer, model)\n",
        ")\n",
        "\n",
        "# Display sample embeddings\n",
        "print(df_emojis_train[['emojis', 'emoji_embeddings']].head(15))"
      ],
      "metadata": {
        "trusted": true,
        "colab": {
          "base_uri": "https://localhost:8080/"
        },
        "id": "vX75WacmKetv",
        "outputId": "7a0cfc65-5bc9-43cc-c1f3-92ed7af8b93b"
      },
      "outputs": [
        {
          "output_type": "stream",
          "name": "stdout",
          "text": [
            "   emojis                                   emoji_embeddings\n",
            "0          [tensor(0.), tensor(0.), tensor(0.), tensor(0....\n",
            "1          [tensor(0.), tensor(0.), tensor(0.), tensor(0....\n",
            "2          [tensor(0.), tensor(0.), tensor(0.), tensor(0....\n",
            "3          [tensor(0.), tensor(0.), tensor(0.), tensor(0....\n",
            "4          [tensor(0.), tensor(0.), tensor(0.), tensor(0....\n",
            "5          [tensor(0.), tensor(0.), tensor(0.), tensor(0....\n",
            "6          [tensor(0.), tensor(0.), tensor(0.), tensor(0....\n",
            "7          [tensor(0.), tensor(0.), tensor(0.), tensor(0....\n",
            "8          [tensor(0.), tensor(0.), tensor(0.), tensor(0....\n",
            "9          [tensor(0.), tensor(0.), tensor(0.), tensor(0....\n",
            "10         [tensor(0.), tensor(0.), tensor(0.), tensor(0....\n",
            "11         [tensor(0.), tensor(0.), tensor(0.), tensor(0....\n",
            "12         [tensor(0.), tensor(0.), tensor(0.), tensor(0....\n",
            "13         [tensor(0.), tensor(0.), tensor(0.), tensor(0....\n",
            "14         [tensor(0.), tensor(0.), tensor(0.), tensor(0....\n"
          ]
        }
      ],
      "execution_count": null
    },
    {
      "cell_type": "code",
      "source": [
        "print(df_emojis_train[['emojis', 'emoji_embeddings']].head(75))"
      ],
      "metadata": {
        "trusted": true,
        "colab": {
          "base_uri": "https://localhost:8080/"
        },
        "id": "tDdJ43StKetv",
        "outputId": "02a3e5eb-177d-4b5d-959d-e0ccb6b66229"
      },
      "outputs": [
        {
          "output_type": "stream",
          "name": "stdout",
          "text": [
            "   emojis                                   emoji_embeddings\n",
            "0          [tensor(0.), tensor(0.), tensor(0.), tensor(0....\n",
            "1          [tensor(0.), tensor(0.), tensor(0.), tensor(0....\n",
            "2          [tensor(0.), tensor(0.), tensor(0.), tensor(0....\n",
            "3          [tensor(0.), tensor(0.), tensor(0.), tensor(0....\n",
            "4          [tensor(0.), tensor(0.), tensor(0.), tensor(0....\n",
            "..    ...                                                ...\n",
            "70         [tensor(0.), tensor(0.), tensor(0.), tensor(0....\n",
            "71         [tensor(0.), tensor(0.), tensor(0.), tensor(0....\n",
            "72         [tensor(0.), tensor(0.), tensor(0.), tensor(0....\n",
            "73  🤣🤣🤣🤣🤣  [-0.40278354, 0.14599495, -0.37918404, -0.2779...\n",
            "74         [tensor(0.), tensor(0.), tensor(0.), tensor(0....\n",
            "\n",
            "[75 rows x 2 columns]\n"
          ]
        }
      ],
      "execution_count": null
    },
    {
      "cell_type": "code",
      "source": [
        "import matplotlib.pyplot as plt\n",
        "import pandas as pd\n",
        "\n",
        "# Plotting the distribution of labels in Train, Test, and Validation datasets\n",
        "fig = plt.figure(figsize=(18, 4))\n",
        "titles = ['Train set', 'Test set', 'Val set']\n",
        "\n",
        "for i, dataf in enumerate([df_train, df_test, df_val]):\n",
        "    ax = fig.add_subplot(1, 3, i+1)\n",
        "    Y, labels = pd.factorize(dataf['label'])  # Ensure 'label' column is used\n",
        "    ax.bar(labels, height=pd.Series(Y).value_counts())  # Bar plot for label count\n",
        "    ax.set_xticks(ticks=range(len(labels)))  # Position the x-ticks\n",
        "    ax.set_xticklabels(labels, fontsize=10)  # Set x-tick labels with font size\n",
        "    ax.set_xlabel('Label')  # X-axis label\n",
        "    ax.set_ylabel('Number of examples')  # Y-axis label\n",
        "    ax.set_title(titles[i])  # Title for each plot\n",
        "\n",
        "# Show the plots\n",
        "plt.tight_layout()\n",
        "plt.show()\n"
      ],
      "metadata": {
        "colab": {
          "base_uri": "https://localhost:8080/",
          "height": 158
        },
        "id": "iiVSF8xs0Gz4",
        "outputId": "f2b11c91-d37f-415e-978f-cf5d73bf018f",
        "trusted": true
      },
      "outputs": [
        {
          "output_type": "display_data",
          "data": {
            "text/plain": [
              "<Figure size 1800x400 with 3 Axes>"
            ],
            "image/png": "[encoded data removed]"
          },
          "metadata": {}
        }
      ],
      "execution_count": null
    },
    {
      "cell_type": "code",
      "source": [
        "# Number of samples in Train, Test, and Validation datasets\n",
        "train_samples = len(df_train)\n",
        "test_samples = len(df_test)\n",
        "val_samples = len(df_val)\n",
        "\n",
        "# Printing the number of samples\n",
        "print(f\"Number of samples in Train set: {train_samples}\")\n",
        "print(f\"Number of samples in Test set: {test_samples}\")\n",
        "print(f\"Number of samples in Validation set: {val_samples}\")\n"
      ],
      "metadata": {
        "colab": {
          "base_uri": "https://localhost:8080/"
        },
        "id": "OMQsWjS33UDm",
        "outputId": "24a188ac-e2a9-45a1-eed4-f898f16dbe92",
        "trusted": true
      },
      "outputs": [
        {
          "output_type": "stream",
          "name": "stdout",
          "text": [
            "Number of samples in Train set: 5595\n",
            "Number of samples in Test set: 622\n",
            "Number of samples in Validation set: 777\n"
          ]
        }
      ],
      "execution_count": null
    },
    {
      "cell_type": "code",
      "source": [
        "import torch\n",
        "from torch.utils.data import Dataset, DataLoader\n",
        "import torch.nn as nn\n",
        "from statistics import mean\n",
        "import pickle\n",
        "from transformers import XLMRobertaTokenizer, get_linear_schedule_with_warmup\n",
        "from torch.optim import AdamW  # Use this instead\n",
        "from torch.optim import SGD"
      ],
      "metadata": {
        "id": "j22YuXdM14i_",
        "trusted": true
      },
      "outputs": [],
      "execution_count": null
    },
    {
      "cell_type": "code",
      "source": [
        "pip install --upgrade transformers\n"
      ],
      "metadata": {
        "colab": {
          "base_uri": "https://localhost:8080/",
          "height": 602
        },
        "id": "93V49hlZM_mr",
        "outputId": "07079ac4-58e6-4137-999e-d7a0d91d01b1"
      },
      "execution_count": null,
      "outputs": [
        {
          "output_type": "stream",
          "name": "stdout",
          "text": [
            "Requirement already satisfied: transformers in /usr/local/lib/python3.11/dist-packages (4.50.2)\n",
            "Collecting transformers\n",
            "  Downloading transformers-4.50.3-py3-none-any.whl.metadata (39 kB)\n",
            "Requirement already satisfied: filelock in /usr/local/lib/python3.11/dist-packages (from transformers) (3.18.0)\n",
            "Requirement already satisfied: huggingface-hub<1.0,>=0.26.0 in /usr/local/lib/python3.11/dist-packages (from transformers) (0.29.3)\n",
            "Requirement already satisfied: numpy>=1.17 in /usr/local/lib/python3.11/dist-packages (from transformers) (2.0.2)\n",
            "Requirement already satisfied: packaging>=20.0 in /usr/local/lib/python3.11/dist-packages (from transformers) (24.2)\n",
            "Requirement already satisfied: pyyaml>=5.1 in /usr/local/lib/python3.11/dist-packages (from transformers) (6.0.2)\n",
            "Requirement already satisfied: regex!=2019.12.17 in /usr/local/lib/python3.11/dist-packages (from transformers) (2024.11.6)\n",
            "Requirement already satisfied: requests in /usr/local/lib/python3.11/dist-packages (from transformers) (2.32.3)\n",
            "Requirement already satisfied: tokenizers<0.22,>=0.21 in /usr/local/lib/python3.11/dist-packages (from transformers) (0.21.1)\n",
            "Requirement already satisfied: safetensors>=0.4.3 in /usr/local/lib/python3.11/dist-packages (from transformers) (0.5.3)\n",
            "Requirement already satisfied: tqdm>=4.27 in /usr/local/lib/python3.11/dist-packages (from transformers) (4.67.1)\n",
            "Requirement already satisfied: fsspec>=2023.5.0 in /usr/local/lib/python3.11/dist-packages (from huggingface-hub<1.0,>=0.26.0->transformers) (2024.12.0)\n",
            "Requirement already satisfied: typing-extensions>=3.7.4.3 in /usr/local/lib/python3.11/dist-packages (from huggingface-hub<1.0,>=0.26.0->transformers) (4.13.0)\n",
            "Requirement already satisfied: charset-normalizer<4,>=2 in /usr/local/lib/python3.11/dist-packages (from requests->transformers) (3.4.1)\n",
            "Requirement already satisfied: idna<4,>=2.5 in /usr/local/lib/python3.11/dist-packages (from requests->transformers) (3.10)\n",
            "Requirement already satisfied: urllib3<3,>=1.21.1 in /usr/local/lib/python3.11/dist-packages (from requests->transformers) (2.3.0)\n",
            "Requirement already satisfied: certifi>=2017.4.17 in /usr/local/lib/python3.11/dist-packages (from requests->transformers) (2025.1.31)\n",
            "Downloading transformers-4.50.3-py3-none-any.whl (10.2 MB)\n",
            "\u001b[2K   \u001b[90m━━━━━━━━━━━━━━━━━━━━━━━━━━━━━━━━━━━━━━━━\u001b[0m \u001b[32m10.2/10.2 MB\u001b[0m \u001b[31m69.0 MB/s\u001b[0m eta \u001b[36m0:00:00\u001b[0m\n",
            "\u001b[?25hInstalling collected packages: transformers\n",
            "  Attempting uninstall: transformers\n",
            "    Found existing installation: transformers 4.50.2\n",
            "    Uninstalling transformers-4.50.2:\n",
            "      Successfully uninstalled transformers-4.50.2\n",
            "Successfully installed transformers-4.50.3\n"
          ]
        },
        {
          "output_type": "display_data",
          "data": {
            "application/vnd.colab-display-data+json": {
              "pip_warning": {
                "packages": [
                  "transformers"
                ]
              },
              "id": "bfcdf1c2ce1641b4a99e7bbacae8f2aa"
            }
          },
          "metadata": {}
        }
      ]
    },
    {
      "cell_type": "code",
      "source": [
        "import os\n",
        "\n",
        "# Set parameters for fine-tuning\n",
        "L_RATE = 3e-5  # Learning rate\n",
        "MAX_LEN = 128  # Maximum sequence length (adjust according to your dataset)\n",
        "NUM_EPOCHS = 3  # Number of epochs for fine-tuning\n",
        "BATCH_SIZE = 32  # Batch size (can be adjusted based on GPU memory, using 64 if you have sufficient resources)\n",
        "NUM_CORES = os.cpu_count()  # Number of CPU cores available for data processing\n",
        "print(NUM_CORES)  # Print number of cores detected\n",
        "\n",
        "# You can now use these parameters in your fine-tuning script\n"
      ],
      "metadata": {
        "colab": {
          "base_uri": "https://localhost:8080/"
        },
        "id": "aMn20pj42Dwp",
        "outputId": "780d5b97-5382-4d61-f6ff-53a670d06e11",
        "trusted": true
      },
      "outputs": [
        {
          "output_type": "stream",
          "name": "stdout",
          "text": [
            "2\n"
          ]
        }
      ],
      "execution_count": null
    },
    {
      "cell_type": "code",
      "source": [
        "import torch\n",
        "from transformers import XLMRobertaForSequenceClassification\n",
        "\n",
        "# Set device (GPU if available, else CPU)\n",
        "device = torch.device(\"cuda\" if torch.cuda.is_available() else \"cpu\")\n",
        "\n",
        "# Load the XLM-RoBERTa model for sequence classification\n",
        "model = XLMRobertaForSequenceClassification.from_pretrained(\n",
        "    'xlm-roberta-base',\n",
        "    num_labels=6  # Set the number of labels to 6 (or the number of unique labels in your dataset)\n",
        ")\n",
        "\n",
        "# Move model to the device\n",
        "model.to(device)\n"
      ],
      "metadata": {
        "colab": {
          "base_uri": "https://localhost:8080/"
        },
        "id": "D3-a0YKM4woW",
        "outputId": "e2cbad6b-d3bf-4c0b-c53f-74d89e3dcf6b",
        "trusted": true
      },
      "outputs": [
        {
          "output_type": "stream",
          "name": "stderr",
          "text": [
            "Some weights of XLMRobertaForSequenceClassification were not initialized from the model checkpoint at xlm-roberta-base and are newly initialized: ['classifier.dense.bias', 'classifier.dense.weight', 'classifier.out_proj.bias', 'classifier.out_proj.weight']\n",
            "You should probably TRAIN this model on a down-stream task to be able to use it for predictions and inference.\n"
          ]
        },
        {
          "output_type": "execute_result",
          "data": {
            "text/plain": [
              "XLMRobertaForSequenceClassification(\n",
              "  (roberta): XLMRobertaModel(\n",
              "    (embeddings): XLMRobertaEmbeddings(\n",
              "      (word_embeddings): Embedding(250002, 768, padding_idx=1)\n",
              "      (position_embeddings): Embedding(514, 768, padding_idx=1)\n",
              "      (token_type_embeddings): Embedding(1, 768)\n",
              "      (LayerNorm): LayerNorm((768,), eps=1e-05, elementwise_affine=True)\n",
              "      (dropout): Dropout(p=0.1, inplace=False)\n",
              "    )\n",
              "    (encoder): XLMRobertaEncoder(\n",
              "      (layer): ModuleList(\n",
              "        (0-11): 12 x XLMRobertaLayer(\n",
              "          (attention): XLMRobertaAttention(\n",
              "            (self): XLMRobertaSdpaSelfAttention(\n",
              "              (query): Linear(in_features=768, out_features=768, bias=True)\n",
              "              (key): Linear(in_features=768, out_features=768, bias=True)\n",
              "              (value): Linear(in_features=768, out_features=768, bias=True)\n",
              "              (dropout): Dropout(p=0.1, inplace=False)\n",
              "            )\n",
              "            (output): XLMRobertaSelfOutput(\n",
              "              (dense): Linear(in_features=768, out_features=768, bias=True)\n",
              "              (LayerNorm): LayerNorm((768,), eps=1e-05, elementwise_affine=True)\n",
              "              (dropout): Dropout(p=0.1, inplace=False)\n",
              "            )\n",
              "          )\n",
              "          (intermediate): XLMRobertaIntermediate(\n",
              "            (dense): Linear(in_features=768, out_features=3072, bias=True)\n",
              "            (intermediate_act_fn): GELUActivation()\n",
              "          )\n",
              "          (output): XLMRobertaOutput(\n",
              "            (dense): Linear(in_features=3072, out_features=768, bias=True)\n",
              "            (LayerNorm): LayerNorm((768,), eps=1e-05, elementwise_affine=True)\n",
              "            (dropout): Dropout(p=0.1, inplace=False)\n",
              "          )\n",
              "        )\n",
              "      )\n",
              "    )\n",
              "  )\n",
              "  (classifier): XLMRobertaClassificationHead(\n",
              "    (dense): Linear(in_features=768, out_features=768, bias=True)\n",
              "    (dropout): Dropout(p=0.1, inplace=False)\n",
              "    (out_proj): Linear(in_features=768, out_features=6, bias=True)\n",
              "  )\n",
              ")"
            ]
          },
          "metadata": {},
          "execution_count": 12
        }
      ],
      "execution_count": null
    },
    {
      "cell_type": "code",
      "source": [
        "from torch.utils.data import Dataset\n",
        "import torch\n",
        "from transformers import XLMRobertaTokenizer\n",
        "\n",
        "# Initialize the tokenizer\n",
        "rTokenizer = XLMRobertaTokenizer.from_pretrained(\"xlm-roberta-base\")\n",
        "\n",
        "class CompDataset(Dataset):\n",
        "\n",
        "    def __init__(self, df):\n",
        "        self.df_data = df\n",
        "\n",
        "    def __getitem__(self, index):\n",
        "        text = self.df_data.loc[index, 'cleaned_text']\n",
        "        # Tokenization\n",
        "        encoded_dict = rTokenizer.encode_plus(\n",
        "                    text,\n",
        "                    max_length = MAX_LEN,\n",
        "                    padding='max_length',  # Use padding='max_length' instead of pad_to_max_length\n",
        "                    truncation=True,  # Ensure that the text is truncated if it exceeds MAX_LEN\n",
        "                    return_attention_mask=True,\n",
        "                    return_tensors='pt',\n",
        "               )\n",
        "\n",
        "        padded_token_list = encoded_dict['input_ids'][0]\n",
        "        att_mask = encoded_dict['attention_mask'][0]\n",
        "        target = torch.tensor(self.df_data.loc[index, 'label'])\n",
        "\n",
        "        sample = (padded_token_list, att_mask, target)\n",
        "        return sample\n",
        "\n",
        "    def __len__(self):\n",
        "        return len(self.df_data)\n"
      ],
      "metadata": {
        "id": "pYMedDZm47Ka",
        "trusted": true
      },
      "outputs": [],
      "execution_count": null
    },
    {
      "cell_type": "code",
      "source": [
        "train_dataset = CompDataset(df_cleaned_text_train)  # Pass your cleaned train DataFrame\n",
        "test_dataset = CompDataset(df_cleaned_text_test)    # Pass your cleaned test DataFrame\n",
        "validation_dataset = CompDataset(df_cleaned_text_val)  # Pass your validation DataFrame"
      ],
      "metadata": {
        "id": "ozUD8tC95LHr",
        "trusted": true
      },
      "outputs": [],
      "execution_count": null
    },
    {
      "cell_type": "code",
      "source": [
        "print(len(test_dataset))\n",
        "print(len(train_dataset))\n",
        "print(len(validation_dataset))"
      ],
      "metadata": {
        "colab": {
          "base_uri": "https://localhost:8080/"
        },
        "id": "6vzHJP755Qq0",
        "outputId": "d3de3266-7b97-480e-e17c-d2cc90dcae9f",
        "trusted": true
      },
      "outputs": [
        {
          "output_type": "stream",
          "name": "stdout",
          "text": [
            "622\n",
            "5595\n",
            "777\n"
          ]
        }
      ],
      "execution_count": null
    },
    {
      "cell_type": "code",
      "source": [
        "import torch\n",
        "import numpy as np\n",
        "from sklearn.metrics import accuracy_score, precision_score, recall_score, f1_score\n",
        "\n",
        "def createBaseline(data, name):\n",
        "    # Initialize the dataset and dataloader\n",
        "    test_data = CompDataset(data)\n",
        "    dataloader = torch.utils.data.DataLoader(test_data,\n",
        "                      batch_size=BATCH_SIZE,\n",
        "                      shuffle=False,  # No need to shuffle in the validation or test set\n",
        "                      num_workers=NUM_CORES)\n",
        "\n",
        "    # Set model to evaluation mode and disable gradient computation\n",
        "    model.eval()\n",
        "    torch.set_grad_enabled(False)\n",
        "\n",
        "    # Initialize lists to store the predictions and true labels\n",
        "    targets_list = []\n",
        "    all_preds = []\n",
        "\n",
        "    # Loop over the dataloader to get batches\n",
        "    for j, batch in enumerate(dataloader):\n",
        "        # Move the batch tensors to the device\n",
        "        b_input_ids = batch[0].to(device)\n",
        "        b_input_mask = batch[1].to(device)\n",
        "        b_labels = batch[2].to(device)\n",
        "\n",
        "        # Get model predictions\n",
        "        outputs = model(b_input_ids, attention_mask=b_input_mask, labels=b_labels)\n",
        "        preds = outputs[1]  # Get the logits\n",
        "\n",
        "        # Convert predictions to numpy arrays and store them\n",
        "        val_preds = preds.detach().cpu().numpy()\n",
        "        targets_np = b_labels.to('cpu').numpy()\n",
        "        targets_list.extend(targets_np)\n",
        "\n",
        "        # Accumulate predictions\n",
        "        all_preds.append(val_preds)\n",
        "\n",
        "    # Convert the list of predictions into a single array\n",
        "    stacked_val_preds = np.vstack(all_preds)\n",
        "\n",
        "    # Calculate the predicted labels by taking argmax of logits\n",
        "    y_true = np.array(targets_list)\n",
        "    y_pred = np.argmax(stacked_val_preds, axis=1)\n",
        "\n",
        "    # Compute accuracy, precision, recall, and F1 score\n",
        "    acc = accuracy_score(y_true, y_pred)\n",
        "    precision = precision_score(y_true, y_pred, average='weighted')\n",
        "    recall = recall_score(y_true, y_pred, average='weighted')\n",
        "    f1 = f1_score(y_true, y_pred, average='weighted')  # Adding average='weighted' for handling class imbalance\n",
        "\n",
        "    # Print results\n",
        "    print(f\"{name} test acc: {acc:.4f}\")\n",
        "    print(f\"{name} test precision: {precision:.4f}\")\n",
        "    print(f\"{name} test recall: {recall:.4f}\")\n",
        "    print(f\"{name} test F1: {f1:.4f}\")"
      ],
      "metadata": {
        "id": "K6Hn1ypV5ewC",
        "trusted": true
      },
      "outputs": [],
      "execution_count": null
    },
    {
      "cell_type": "code",
      "source": [
        "createBaseline(df_cleaned_text_test, \"kannada\")"
      ],
      "metadata": {
        "colab": {
          "base_uri": "https://localhost:8080/"
        },
        "id": "HccKOpIo5qJ2",
        "outputId": "de6edf81-3527-47a0-baad-0dc86af967db",
        "trusted": true
      },
      "outputs": [
        {
          "output_type": "stream",
          "name": "stdout",
          "text": [
            "kannada test acc: 0.5434\n",
            "kannada test precision: 0.3037\n",
            "kannada test recall: 0.5434\n",
            "kannada test F1: 0.3896\n"
          ]
        },
        {
          "output_type": "stream",
          "name": "stderr",
          "text": [
            "/usr/local/lib/python3.11/dist-packages/sklearn/metrics/_classification.py:1565: UndefinedMetricWarning: Precision is ill-defined and being set to 0.0 in labels with no predicted samples. Use `zero_division` parameter to control this behavior.\n",
            "  _warn_prf(average, modifier, f\"{metric.capitalize()} is\", len(result))\n"
          ]
        }
      ],
      "execution_count": null
    },
    {
      "cell_type": "code",
      "source": [
        "import random\n",
        "import gc"
      ],
      "metadata": {
        "id": "0kjhgNov6BEN",
        "trusted": true
      },
      "outputs": [],
      "execution_count": null
    },
    {
      "cell_type": "code",
      "source": [
        "print(model.parameters())"
      ],
      "metadata": {
        "colab": {
          "base_uri": "https://localhost:8080/"
        },
        "id": "W_M4KLDc6B-1",
        "outputId": "a14e5e51-ea80-4a9d-f590-c146b2653ec0",
        "trusted": true
      },
      "outputs": [
        {
          "output_type": "stream",
          "name": "stdout",
          "text": [
            "<generator object Module.parameters at 0x79f6ed9f4ac0>\n"
          ]
        }
      ],
      "execution_count": null
    },
    {
      "cell_type": "code",
      "source": [
        "optimizer = AdamW(model.parameters(),\n",
        "              lr = L_RATE,\n",
        "              eps = 1e-8\n",
        "            )"
      ],
      "metadata": {
        "id": "paLFThgG6EOX",
        "trusted": true
      },
      "outputs": [],
      "execution_count": null
    },
    {
      "cell_type": "code",
      "source": [
        "train_data = CompDataset(df_cleaned_text_train)\n",
        "val_data = CompDataset(df_cleaned_text_val)"
      ],
      "metadata": {
        "id": "7emn4zet6HH9",
        "trusted": true
      },
      "outputs": [],
      "execution_count": null
    },
    {
      "cell_type": "code",
      "source": [
        "train_dataloader = torch.utils.data.DataLoader(train_data,\n",
        "                    batch_size=BATCH_SIZE,\n",
        "                    shuffle=True,\n",
        "                    num_workers=NUM_CORES)\n",
        "val_dataloader = torch.utils.data.DataLoader(val_data,\n",
        "                    batch_size=BATCH_SIZE,\n",
        "                    shuffle=True,\n",
        "                    num_workers=NUM_CORES)"
      ],
      "metadata": {
        "id": "Hq31Sl1gCXyO",
        "trusted": true
      },
      "outputs": [],
      "execution_count": null
    },
    {
      "cell_type": "code",
      "source": [
        "gc.collect()"
      ],
      "metadata": {
        "colab": {
          "base_uri": "https://localhost:8080/"
        },
        "id": "1TG_ftapCbqM",
        "outputId": "be403933-9ae1-4e23-e993-113f1c4c66c7",
        "trusted": true
      },
      "outputs": [
        {
          "output_type": "execute_result",
          "data": {
            "text/plain": [
              "0"
            ]
          },
          "metadata": {},
          "execution_count": 24
        }
      ],
      "execution_count": null
    },
    {
      "cell_type": "code",
      "source": [
        "import torch\n",
        "import random\n",
        "import numpy as np\n",
        "import gc\n",
        "from sklearn.metrics import accuracy_score, f1_score, precision_score, recall_score\n",
        "\n",
        "seed_val = 101\n",
        "\n",
        "random.seed(seed_val)\n",
        "np.random.seed(seed_val)\n",
        "torch.manual_seed(seed_val)\n",
        "torch.cuda.manual_seed_all(seed_val)\n",
        "loss_values = []\n",
        "\n",
        "# Define your number of epochs\n",
        "NUM_EPOCHS = 5\n",
        "\n",
        "for epoch in range(0, NUM_EPOCHS):\n",
        "\n",
        "    print(\"\\n======== Epoch {:} / {:} ========\".format(epoch + 1, NUM_EPOCHS))\n",
        "\n",
        "    stacked_val_labels = []\n",
        "    targets_list = []\n",
        "\n",
        "    # Training Phase\n",
        "    print('Training...')\n",
        "    model.train()\n",
        "    torch.set_grad_enabled(True)\n",
        "    total_train_loss = 0\n",
        "    gc.collect()\n",
        "\n",
        "    for i, batch in enumerate(train_dataloader):\n",
        "        b_input_ids = batch[0].to(device)\n",
        "        b_input_mask = batch[1].to(device)\n",
        "        b_labels = batch[2].to(device)\n",
        "        model.zero_grad()\n",
        "        outputs = model(b_input_ids,\n",
        "                        attention_mask=b_input_mask,\n",
        "                        labels=b_labels)\n",
        "        loss = outputs[0]\n",
        "        total_train_loss += loss.item()\n",
        "        optimizer.zero_grad()\n",
        "        loss.backward()\n",
        "        torch.nn.utils.clip_grad_norm_(model.parameters(), 1.0)  # Clip gradients\n",
        "        optimizer.step()  # Update model weights\n",
        "        gc.collect()\n",
        "\n",
        "    print('Train loss:', total_train_loss)\n",
        "    gc.collect()\n",
        "\n",
        "    # Validation Phase\n",
        "    print('\\nValidation...')\n",
        "    model.eval()\n",
        "    torch.set_grad_enabled(False)\n",
        "    total_val_loss = 0\n",
        "\n",
        "    for j, batch in enumerate(val_dataloader):\n",
        "        b_input_ids = batch[0].to(device)\n",
        "        b_input_mask = batch[1].to(device)\n",
        "        b_labels = batch[2].to(device)\n",
        "        outputs = model(b_input_ids,\n",
        "                        attention_mask=b_input_mask,\n",
        "                        labels=b_labels)\n",
        "        loss = outputs[0]\n",
        "        total_val_loss += loss.item()\n",
        "        preds = outputs[1]\n",
        "        val_preds = preds.detach().cpu().numpy()\n",
        "        targets_np = b_labels.to('cpu').numpy()\n",
        "        targets_list.extend(targets_np)\n",
        "        if j == 0:\n",
        "            stacked_val_preds = val_preds\n",
        "        else:\n",
        "            stacked_val_preds = np.vstack((stacked_val_preds, val_preds))\n",
        "        gc.collect()\n",
        "\n",
        "    y_true = targets_list\n",
        "    y_pred = np.argmax(stacked_val_preds, axis=1)\n",
        "    val_acc = accuracy_score(y_true, y_pred)\n",
        "    val_f1 = f1_score(y_true, y_pred, average='weighted')\n",
        "    val_precision = precision_score(y_true, y_pred, average='weighted', zero_division=1)\n",
        "    val_recall = recall_score(y_true, y_pred, average='weighted', zero_division=1)\n",
        "\n",
        "    print('Val loss:', total_val_loss)\n",
        "    print('Val acc:', val_acc)\n",
        "    print('Val F1:', val_f1)\n",
        "    print('Val Precision:', val_precision)\n",
        "    print('Val Recall:', val_recall)\n",
        "\n",
        "    gc.collect()\n",
        "\n",
        "    # Save model weights after each epoch\n",
        "    torch.save(model.state_dict(), 'model.pt')\n",
        "    gc.collect()"
      ],
      "metadata": {
        "colab": {
          "base_uri": "https://localhost:8080/"
        },
        "id": "srKH3YwbCeP0",
        "outputId": "01747fcf-6fcb-48f7-9b3f-3062a1ba1a59",
        "trusted": true
      },
      "outputs": [
        {
          "output_type": "stream",
          "name": "stdout",
          "text": [
            "\n",
            "======== Epoch 1 / 5 ========\n",
            "Training...\n",
            "Train loss: 191.39738684892654\n",
            "\n",
            "Validation...\n",
            "Val loss: 23.771032452583313\n",
            "Val acc: 0.6653796653796654\n",
            "Val F1: 0.5867540709191381\n",
            "Val Precision: 0.7450296751538987\n",
            "Val Recall: 0.6653796653796654\n",
            "\n",
            "======== Epoch 2 / 5 ========\n",
            "Training...\n",
            "Train loss: 156.41311591863632\n",
            "\n",
            "Validation...\n",
            "Val loss: 22.142173290252686\n",
            "Val acc: 0.6988416988416989\n",
            "Val F1: 0.6485838379908317\n",
            "Val Precision: 0.7303844312631279\n",
            "Val Recall: 0.6988416988416989\n",
            "\n",
            "======== Epoch 3 / 5 ========\n",
            "Training...\n",
            "Train loss: 141.86844739317894\n",
            "\n",
            "Validation...\n",
            "Val loss: 22.050776690244675\n",
            "Val acc: 0.7027027027027027\n",
            "Val F1: 0.6556978357295159\n",
            "Val Precision: 0.7360077939991024\n",
            "Val Recall: 0.7027027027027027\n",
            "\n",
            "======== Epoch 4 / 5 ========\n",
            "Training...\n",
            "Train loss: 126.07086163759232\n",
            "\n",
            "Validation...\n",
            "Val loss: 21.427908062934875\n",
            "Val acc: 0.7207207207207207\n",
            "Val F1: 0.6744541446055038\n",
            "Val Precision: 0.7382724072045281\n",
            "Val Recall: 0.7207207207207207\n",
            "\n",
            "======== Epoch 5 / 5 ========\n",
            "Training...\n",
            "Train loss: 115.15208986401558\n",
            "\n",
            "Validation...\n",
            "Val loss: 22.929725885391235\n",
            "Val acc: 0.7284427284427284\n",
            "Val F1: 0.689876223017737\n",
            "Val Precision: 0.7388884367145236\n",
            "Val Recall: 0.7284427284427284\n"
          ]
        }
      ],
      "execution_count": null
    }
  ]
}