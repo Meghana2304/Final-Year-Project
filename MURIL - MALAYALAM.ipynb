{
  "nbformat": 4,
  "nbformat_minor": 0,
  "metadata": {
    "colab": {
      "provenance": [],
      "gpuType": "T4"
    },
    "kernelspec": {
      "name": "python3",
      "display_name": "Python 3"
    },
    "language_info": {
      "name": "python"
    },
    "accelerator": "GPU"
  },
  "cells": [
    {
      "cell_type": "code",
      "execution_count": null,
      "metadata": {
        "colab": {
          "base_uri": "https://localhost:8080/"
        },
        "id": "_d3YKsN8vMzS",
        "outputId": "e7bb1203-7a84-4e3e-ff28-7f95c0d4d0a2"
      },
      "outputs": [
        {
          "output_type": "stream",
          "name": "stdout",
          "text": [
            "Requirement already satisfied: datasets in /usr/local/lib/python3.11/dist-packages (3.5.0)\n",
            "Requirement already satisfied: filelock in /usr/local/lib/python3.11/dist-packages (from datasets) (3.18.0)\n",
            "Requirement already satisfied: numpy>=1.17 in /usr/local/lib/python3.11/dist-packages (from datasets) (2.0.2)\n",
            "Requirement already satisfied: pyarrow>=15.0.0 in /usr/local/lib/python3.11/dist-packages (from datasets) (18.1.0)\n",
            "Requirement already satisfied: dill<0.3.9,>=0.3.0 in /usr/local/lib/python3.11/dist-packages (from datasets) (0.3.8)\n",
            "Requirement already satisfied: pandas in /usr/local/lib/python3.11/dist-packages (from datasets) (2.2.2)\n",
            "Requirement already satisfied: requests>=2.32.2 in /usr/local/lib/python3.11/dist-packages (from datasets) (2.32.3)\n",
            "Requirement already satisfied: tqdm>=4.66.3 in /usr/local/lib/python3.11/dist-packages (from datasets) (4.67.1)\n",
            "Requirement already satisfied: xxhash in /usr/local/lib/python3.11/dist-packages (from datasets) (3.5.0)\n",
            "Requirement already satisfied: multiprocess<0.70.17 in /usr/local/lib/python3.11/dist-packages (from datasets) (0.70.16)\n",
            "Requirement already satisfied: fsspec<=2024.12.0,>=2023.1.0 in /usr/local/lib/python3.11/dist-packages (from fsspec[http]<=2024.12.0,>=2023.1.0->datasets) (2024.12.0)\n",
            "Requirement already satisfied: aiohttp in /usr/local/lib/python3.11/dist-packages (from datasets) (3.11.14)\n",
            "Requirement already satisfied: huggingface-hub>=0.24.0 in /usr/local/lib/python3.11/dist-packages (from datasets) (0.29.3)\n",
            "Requirement already satisfied: packaging in /usr/local/lib/python3.11/dist-packages (from datasets) (24.2)\n",
            "Requirement already satisfied: pyyaml>=5.1 in /usr/local/lib/python3.11/dist-packages (from datasets) (6.0.2)\n",
            "Requirement already satisfied: aiohappyeyeballs>=2.3.0 in /usr/local/lib/python3.11/dist-packages (from aiohttp->datasets) (2.6.1)\n",
            "Requirement already satisfied: aiosignal>=1.1.2 in /usr/local/lib/python3.11/dist-packages (from aiohttp->datasets) (1.3.2)\n",
            "Requirement already satisfied: attrs>=17.3.0 in /usr/local/lib/python3.11/dist-packages (from aiohttp->datasets) (25.3.0)\n",
            "Requirement already satisfied: frozenlist>=1.1.1 in /usr/local/lib/python3.11/dist-packages (from aiohttp->datasets) (1.5.0)\n",
            "Requirement already satisfied: multidict<7.0,>=4.5 in /usr/local/lib/python3.11/dist-packages (from aiohttp->datasets) (6.2.0)\n",
            "Requirement already satisfied: propcache>=0.2.0 in /usr/local/lib/python3.11/dist-packages (from aiohttp->datasets) (0.3.1)\n",
            "Requirement already satisfied: yarl<2.0,>=1.17.0 in /usr/local/lib/python3.11/dist-packages (from aiohttp->datasets) (1.18.3)\n",
            "Requirement already satisfied: typing-extensions>=3.7.4.3 in /usr/local/lib/python3.11/dist-packages (from huggingface-hub>=0.24.0->datasets) (4.13.0)\n",
            "Requirement already satisfied: charset-normalizer<4,>=2 in /usr/local/lib/python3.11/dist-packages (from requests>=2.32.2->datasets) (3.4.1)\n",
            "Requirement already satisfied: idna<4,>=2.5 in /usr/local/lib/python3.11/dist-packages (from requests>=2.32.2->datasets) (3.10)\n",
            "Requirement already satisfied: urllib3<3,>=1.21.1 in /usr/local/lib/python3.11/dist-packages (from requests>=2.32.2->datasets) (2.3.0)\n",
            "Requirement already satisfied: certifi>=2017.4.17 in /usr/local/lib/python3.11/dist-packages (from requests>=2.32.2->datasets) (2025.1.31)\n",
            "Requirement already satisfied: python-dateutil>=2.8.2 in /usr/local/lib/python3.11/dist-packages (from pandas->datasets) (2.8.2)\n",
            "Requirement already satisfied: pytz>=2020.1 in /usr/local/lib/python3.11/dist-packages (from pandas->datasets) (2025.2)\n",
            "Requirement already satisfied: tzdata>=2022.7 in /usr/local/lib/python3.11/dist-packages (from pandas->datasets) (2025.2)\n",
            "Requirement already satisfied: six>=1.5 in /usr/local/lib/python3.11/dist-packages (from python-dateutil>=2.8.2->pandas->datasets) (1.17.0)\n"
          ]
        }
      ],
      "source": [
        "!pip install datasets"
      ]
    },
    {
      "cell_type": "code",
      "source": [
        "from datasets import load_dataset\n",
        "dataset = load_dataset(\"community-datasets/offenseval_dravidian\", \"malayalam\")\n",
        "\n",
        "print(dataset)"
      ],
      "metadata": {
        "colab": {
          "base_uri": "https://localhost:8080/"
        },
        "id": "fs21a1cov47J",
        "outputId": "5b5bc78a-9908-45bf-cf69-4c28c1009582"
      },
      "execution_count": null,
      "outputs": [
        {
          "output_type": "stream",
          "name": "stderr",
          "text": [
            "/usr/local/lib/python3.11/dist-packages/huggingface_hub/utils/_auth.py:94: UserWarning: \n",
            "The secret `HF_TOKEN` does not exist in your Colab secrets.\n",
            "To authenticate with the Hugging Face Hub, create a token in your settings tab (https://huggingface.co/settings/tokens), set it as secret in your Google Colab and restart your session.\n",
            "You will be able to reuse this secret in all of your notebooks.\n",
            "Please note that authentication is recommended but still optional to access public models or datasets.\n",
            "  warnings.warn(\n"
          ]
        },
        {
          "output_type": "stream",
          "name": "stdout",
          "text": [
            "DatasetDict({\n",
            "    train: Dataset({\n",
            "        features: ['text', 'label'],\n",
            "        num_rows: 16010\n",
            "    })\n",
            "    validation: Dataset({\n",
            "        features: ['text', 'label'],\n",
            "        num_rows: 1999\n",
            "    })\n",
            "})\n"
          ]
        }
      ]
    },
    {
      "cell_type": "code",
      "source": [
        "from datasets import load_dataset\n",
        "import re\n",
        "from sklearn.model_selection import train_test_split\n",
        "\n",
        "# Load the dataset\n",
        "dataset = load_dataset(\"community-datasets/offenseval_dravidian\", \"malayalam\")\n",
        "\n",
        "# Convert the dataset to a list of dictionaries so train_test_split can be applied\n",
        "train_data = dataset['train']\n",
        "\n",
        "# Convert the dataset to a list of dicts (this step should be done carefully)\n",
        "train_data_list = [{'text': item['text'], 'label': item['label']} for item in train_data]\n",
        "\n",
        "# Split the train data into 90% for training and 10% for testing\n",
        "train_data_split, test_data_split = train_test_split(train_data_list, test_size=0.1, random_state=42)\n",
        "\n",
        "# Clean function to preserve emojis and emoticons\n",
        "def clean_text(text):\n",
        "    # Remove unwanted characters but keep emojis and emoticons\n",
        "    text = re.sub(r'http\\S+|www\\S+|https\\S+', '', text)  # Remove URLs\n",
        "    # Keep only letters, numbers, whitespaces, and emojis\n",
        "    text = re.sub(r'[^a-zA-Z0-9\\s\\U0001F600-\\U0001F64F\\U0001F300-\\U0001F5FF\\U0001F680-\\U0001F6FF\\U0001F700-\\U0001F77F\\U0001F780-\\U0001F7FF\\U0001F800-\\U0001F8FF\\U0001F900-\\U0001F9FF\\U0001FA00-\\U0001FA6F\\U0001FA70-\\U0001FAFF\\U00002702-\\U000027B0\\U000024C2-\\U0001F251]', '', text)\n",
        "    text = text.strip()\n",
        "    return text\n",
        "\n",
        "# Apply the cleaning function to the train, test, and validation datasets\n",
        "train_data_split = [{'text': clean_text(item['text']), 'label': item['label']} for item in train_data_split]\n",
        "test_data_split = [{'text': clean_text(item['text']), 'label': item['label']} for item in test_data_split]\n",
        "dataset['validation'] = [{'text': clean_text(item['text']), 'label': item['label']} for item in dataset['validation']]\n",
        "\n",
        "# Check the cleaned data\n",
        "print(train_data_split[1])\n",
        "print(test_data_split[0])\n",
        "print(dataset['validation'][0])"
      ],
      "metadata": {
        "colab": {
          "base_uri": "https://localhost:8080/"
        },
        "id": "eRDfOMI2v-oD",
        "outputId": "f7179c4f-c636-4d1d-b61b-2b0ffcef1eae"
      },
      "execution_count": null,
      "outputs": [
        {
          "output_type": "stream",
          "name": "stdout",
          "text": [
            "{'text': 'Waiting for mass but 2', 'label': 0}\n",
            "{'text': 'Padam onnu eragikotteda pahayanmare appalekum chelakkan kuthirikunu ororthanmaru Onnu poyinada', 'label': 0}\n",
            "{'text': 'Gopichettante BGM um mammookayum ishtapedunnavar like', 'label': 0}\n"
          ]
        }
      ]
    },
    {
      "cell_type": "code",
      "source": [
        "import pandas as pd\n",
        "import re\n",
        "from sklearn.model_selection import train_test_split\n",
        "from datasets import load_dataset\n",
        "\n",
        "# Load the dataset\n",
        "dataset = load_dataset(\"community-datasets/offenseval_dravidian\",\"malayalam\")\n",
        "\n",
        "# Extract train data\n",
        "train_data = dataset['train']\n",
        "\n",
        "# Convert to a list of dictionaries for train_test_split\n",
        "train_data_list = [{'text': item['text'], 'label': item['label']} for item in train_data]\n",
        "\n",
        "# Split train data into 90% train and 10% test\n",
        "train_data_split, test_data_split = train_test_split(train_data_list, test_size=0.1, random_state=42)\n",
        "\n",
        "# Convert lists of dictionaries to pandas DataFrames\n",
        "df_train = pd.DataFrame(train_data_split)\n",
        "df_test = pd.DataFrame(test_data_split)\n",
        "df_val = pd.DataFrame([{'text': item['text'], 'label': item['label']} for item in dataset['validation']])\n",
        "\n",
        "# Ensure the DataFrames contain the required columns\n",
        "required_columns = ['text', 'label']\n",
        "for df_name, df in zip(['df_train', 'df_test', 'df_val'], [df_train, df_test, df_val]):\n",
        "    if not all(col in df.columns for col in required_columns):\n",
        "        raise KeyError(f\"{df_name} must contain the columns {required_columns}.\")\n",
        "\n",
        "# Function to extract emojis from the text\n",
        "def extract_emojis(text):\n",
        "    emoji_pattern = re.compile(\n",
        "        r'[\\U0001F600-\\U0001F64F'  # emoticons\n",
        "        r'\\U0001F300-\\U0001F5FF'  # symbols & pictographs\n",
        "        r'\\U0001F680-\\U0001F6FF'  # transport & map symbols\n",
        "        r'\\U0001F700-\\U0001F77F'  # alchemical symbols\n",
        "        r'\\U0001F780-\\U0001F7FF'  # Geometric Shapes Extended\n",
        "        r'\\U0001F800-\\U0001F8FF'  # Supplemental Arrows-C\n",
        "        r'\\U0001F900-\\U0001F9FF'  # Supplemental Symbols and Pictographs\n",
        "        r'\\U0001FA00-\\U0001FA6F'  # Chess Symbols\n",
        "        r'\\U0001FA70-\\U0001FAFF'  # Symbols and Pictographs Extended-A\n",
        "        r'\\U00002702-\\U000027B0'  # Dingbats\n",
        "        r'\\U000024C2-\\U0001F251'  # Enclosed characters\n",
        "        r']+', flags=re.UNICODE)\n",
        "    emojis = emoji_pattern.findall(text)\n",
        "    return ''.join(emojis)\n",
        "\n",
        "# Function to separate emojis and clean text\n",
        "def separate_emojis(text):\n",
        "    emojis = extract_emojis(text)\n",
        "    # Remove emojis and keep only cleaned text\n",
        "    text_without_emojis = re.sub(r'[^\\w\\s,\\.!?]', '', text)\n",
        "    return text_without_emojis.strip(), emojis\n",
        "\n",
        "# Apply the cleaning and emoji extraction function\n",
        "df_train['cleaned_text'], df_train['emojis'] = zip(*df_train['text'].map(separate_emojis))\n",
        "df_test['cleaned_text'], df_test['emojis'] = zip(*df_test['text'].map(separate_emojis))\n",
        "df_val['cleaned_text'], df_val['emojis'] = zip(*df_val['text'].map(separate_emojis))\n",
        "\n",
        "# Create separate DataFrames for cleaned text and emojis with labels\n",
        "df_cleaned_text_train = df_train[['cleaned_text', 'label']].copy()\n",
        "df_emojis_train = df_train[['emojis', 'label']].copy()\n",
        "\n",
        "df_cleaned_text_test = df_test[['cleaned_text', 'label']].copy()\n",
        "df_emojis_test = df_test[['emojis', 'label']].copy()\n",
        "\n",
        "df_cleaned_text_val = df_val[['cleaned_text', 'label']].copy()\n",
        "df_emojis_val = df_val[['emojis', 'label']].copy()\n",
        "\n",
        "# Display sample data\n",
        "print(\"Cleaned Text Train Data:\")\n",
        "print(df_cleaned_text_train.head())\n",
        "\n",
        "print(\"\\nEmojis Train Data:\")\n",
        "print(df_emojis_train.head())\n",
        "\n",
        "print(\"\\nCleaned Text Test Data:\")\n",
        "print(df_cleaned_text_test.head())\n",
        "\n",
        "print(\"\\nEmojis Test Data:\")\n",
        "print(df_emojis_test.head())\n",
        "\n",
        "print(\"\\nCleaned Text Validation Data:\")\n",
        "print(df_cleaned_text_val.head())\n",
        "\n",
        "print(\"\\nEmojis Validation Data:\")\n",
        "print(df_emojis_val.head())"
      ],
      "metadata": {
        "colab": {
          "base_uri": "https://localhost:8080/"
        },
        "id": "MmrBqPhzwC4X",
        "outputId": "4bca828d-9329-479f-ab45-2d58a4cd9db3"
      },
      "execution_count": null,
      "outputs": [
        {
          "output_type": "stream",
          "name": "stdout",
          "text": [
            "Cleaned Text Train Data:\n",
            "                                        cleaned_text  label\n",
            "0  ഷമമ ഹറ ആട ഹറ......എനന പടമ.. എലലവര ജവകകയലല..അഭന...      0\n",
            "1  Waiting for mass... but... പതതൻപണ2 പല തനനയത എന...      0\n",
            "2  Mara paazhu mega mairananil ninnum ethil koodu...      2\n",
            "3         ഹവ ഒരപട നൾകക ശഷ ആണ ഒര കട തരലലർ സനമ ഇറങങനനത      0\n",
            "4            Superb trailer sir. Love from karnataka      5\n",
            "\n",
            "Emojis Train Data:\n",
            "  emojis  label\n",
            "0             0\n",
            "1             0\n",
            "2             2\n",
            "3             0\n",
            "4             5\n",
            "\n",
            "Cleaned Text Test Data:\n",
            "                                        cleaned_text  label\n",
            "0  Padam onnu eragikotteda pahayanmare appalekum ...      0\n",
            "1  mohanlal fans from tamilnadu please make him m...      5\n",
            "2  എനത പടയണ മകകള . ടരയലർ വരനനതന മമപ തനന  ഡസലകക അടകകൻ      0\n",
            "3                  FDFS locked ...     Ikka uyir ...      0\n",
            "4              ഇത ഓണതതനണ അത കരസമസ ന release ചയയണടത??      0\n",
            "\n",
            "Emojis Test Data:\n",
            "  emojis  label\n",
            "0             0\n",
            "1             5\n",
            "2             0\n",
            "3             0\n",
            "4             0\n",
            "\n",
            "Cleaned Text Validation Data:\n",
            "                                        cleaned_text  label\n",
            "0  Gopichettante BGM um mammookayum ishtapedunnav...      0\n",
            "1      ഇത ഒര പണണ തനന ആണ direct ചയയനനത  polichu nivin      0\n",
            "2  പഥവരജ സരജടടൻ ലല അലകസ.. Lal jr. നറ ഒര വറററ ചതര ...      0\n",
            "3  പകരത മകകള പകക .......... നൻ കണട എനറയ അമമ പളയ മ...      0\n",
            "4             avan Varum ente Makan Madhura Raja....      0\n",
            "\n",
            "Emojis Validation Data:\n",
            "  emojis  label\n",
            "0             0\n",
            "1             0\n",
            "2             0\n",
            "3             0\n",
            "4             0\n"
          ]
        }
      ]
    },
    {
      "cell_type": "code",
      "source": [
        "from transformers import AutoTokenizer, AutoModel\n",
        "import torch\n",
        "\n",
        "# Load a pre-trained model and tokenizer\n",
        "model_name = \"bert-base-uncased\"  # Replace with a model fine-tuned for emojis if needed\n",
        "tokenizer = AutoTokenizer.from_pretrained(model_name)\n",
        "model = AutoModel.from_pretrained(model_name)\n",
        "\n",
        "# Function to get embeddings for emojis\n",
        "def get_emoji_embedding(emojis, tokenizer, model):\n",
        "    if not emojis:  # No emojis provided\n",
        "        return torch.zeros(768)  # Assuming the model outputs 768-dimensional embeddings\n",
        "    inputs = tokenizer(emojis, return_tensors=\"pt\", truncation=True, max_length=10)\n",
        "    outputs = model(**inputs)\n",
        "    # Use the mean of the last hidden state as the embedding\n",
        "    embeddings = outputs.last_hidden_state.mean(dim=1).squeeze()\n",
        "    return embeddings.detach().numpy()\n",
        "\n",
        "# Apply to your DataFrame\n",
        "df_emojis_train['emoji_embeddings'] = df_emojis_train['emojis'].map(\n",
        "    lambda x: get_emoji_embedding(x, tokenizer, model)\n",
        ")\n",
        "\n",
        "# Display sample embeddings\n",
        "print(df_emojis_train[['emojis', 'emoji_embeddings']].head(15))"
      ],
      "metadata": {
        "colab": {
          "base_uri": "https://localhost:8080/"
        },
        "id": "nTDOnfrgwGev",
        "outputId": "6edec292-d60f-4b5f-9578-0d017c956046"
      },
      "execution_count": null,
      "outputs": [
        {
          "output_type": "stream",
          "name": "stdout",
          "text": [
            "   emojis                                   emoji_embeddings\n",
            "0          [tensor(0.), tensor(0.), tensor(0.), tensor(0....\n",
            "1          [tensor(0.), tensor(0.), tensor(0.), tensor(0....\n",
            "2          [tensor(0.), tensor(0.), tensor(0.), tensor(0....\n",
            "3          [tensor(0.), tensor(0.), tensor(0.), tensor(0....\n",
            "4          [tensor(0.), tensor(0.), tensor(0.), tensor(0....\n",
            "5          [tensor(0.), tensor(0.), tensor(0.), tensor(0....\n",
            "6          [tensor(0.), tensor(0.), tensor(0.), tensor(0....\n",
            "7          [tensor(0.), tensor(0.), tensor(0.), tensor(0....\n",
            "8          [tensor(0.), tensor(0.), tensor(0.), tensor(0....\n",
            "9          [tensor(0.), tensor(0.), tensor(0.), tensor(0....\n",
            "10         [tensor(0.), tensor(0.), tensor(0.), tensor(0....\n",
            "11      🤔  [-0.40278363, 0.1459953, -0.3791835, -0.277948...\n",
            "12         [tensor(0.), tensor(0.), tensor(0.), tensor(0....\n",
            "13         [tensor(0.), tensor(0.), tensor(0.), tensor(0....\n",
            "14      🤔  [-0.40278363, 0.1459953, -0.3791835, -0.277948...\n"
          ]
        }
      ]
    },
    {
      "cell_type": "code",
      "source": [
        "import matplotlib.pyplot as plt\n",
        "import pandas as pd\n",
        "\n",
        "# Plotting the distribution of labels in Train, Test, and Validation datasets\n",
        "fig = plt.figure(figsize=(18, 4))\n",
        "titles = ['Train set', 'Test set', 'Val set']\n",
        "\n",
        "for i, dataf in enumerate([df_train, df_test, df_val]):\n",
        "    ax = fig.add_subplot(1, 3, i+1)\n",
        "    Y, labels = pd.factorize(dataf['label'])  # Ensure 'label' column is used\n",
        "    ax.bar(labels, height=pd.Series(Y).value_counts())  # Bar plot for label count\n",
        "    ax.set_xticks(ticks=range(len(labels)))  # Position the x-ticks\n",
        "    ax.set_xticklabels(labels, fontsize=10)  # Set x-tick labels with font size\n",
        "    ax.set_xlabel('Label')  # X-axis label\n",
        "    ax.set_ylabel('Number of examples')  # Y-axis label\n",
        "    ax.set_title(titles[i])  # Title for each plot\n",
        "\n",
        "# Show the plots\n",
        "plt.tight_layout()\n",
        "plt.show()\n"
      ],
      "metadata": {
        "colab": {
          "base_uri": "https://localhost:8080/",
          "height": 323
        },
        "id": "I8x9l6ZkwMLQ",
        "outputId": "a673e68a-daae-4406-ce1b-b01b71426535"
      },
      "execution_count": null,
      "outputs": [
        {
          "output_type": "display_data",
          "data": {
            "text/plain": [
              "<Figure size 1800x400 with 3 Axes>"
            ],
            "image/png": "[encoded data removed]"
          },
          "metadata": {}
        }
      ]
    },
    {
      "cell_type": "code",
      "source": [
        "# Number of samples in Train, Test, and Validation datasets\n",
        "train_samples = len(df_train)\n",
        "test_samples = len(df_test)\n",
        "val_samples = len(df_val)\n",
        "\n",
        "# Printing the number of samples\n",
        "print(f\"Number of samples in Train set: {train_samples}\")\n",
        "print(f\"Number of samples in Test set: {test_samples}\")\n",
        "print(f\"Number of samples in Validation set: {val_samples}\")\n"
      ],
      "metadata": {
        "colab": {
          "base_uri": "https://localhost:8080/"
        },
        "id": "BvGMkN2iw38N",
        "outputId": "a98931bb-e453-4e54-8cbf-f2fafdcd33b3"
      },
      "execution_count": null,
      "outputs": [
        {
          "output_type": "stream",
          "name": "stdout",
          "text": [
            "Number of samples in Train set: 14409\n",
            "Number of samples in Test set: 1601\n",
            "Number of samples in Validation set: 1999\n"
          ]
        }
      ]
    },
    {
      "cell_type": "code",
      "source": [
        "from transformers import AutoModel, AutoTokenizer\n",
        "import pandas as pd\n",
        "from tqdm import tqdm\n",
        "\n",
        "# Load the pre-trained MuRIL model and tokenizer\n",
        "PRE_TRAINED_MODEL_NAME = 'google/muril-base-cased'\n",
        "muril_model = AutoModel.from_pretrained(PRE_TRAINED_MODEL_NAME)\n",
        "tokenizer = AutoTokenizer.from_pretrained(PRE_TRAINED_MODEL_NAME)\n",
        "\n",
        "sample_txt = df_train.iloc[0]['cleaned_text']  # Taking the first sample from the dataset\n",
        "\n",
        "# Tokenization\n",
        "tokens = tokenizer.tokenize(sample_txt)\n",
        "token_ids = tokenizer.convert_tokens_to_ids(tokens)\n",
        "\n",
        "print(f'Sentence: {sample_txt}')\n",
        "print(f'Tokens: {tokens}')\n",
        "print(f'Token IDs: {token_ids}')\n",
        "\n",
        "# Special tokens\n",
        "print(tokenizer.sep_token, tokenizer.sep_token_id)\n",
        "print(tokenizer.cls_token, tokenizer.cls_token_id)\n",
        "print(tokenizer.pad_token, tokenizer.pad_token_id)\n",
        "print(tokenizer.unk_token, tokenizer.unk_token_id)\n",
        "\n",
        "# Encoding the sample text\n",
        "encoding = tokenizer(\n",
        "    sample_txt,\n",
        "    max_length=32,\n",
        "    padding='max_length',  # Updated to avoid deprecated argument\n",
        "    truncation=True,\n",
        "    return_tensors='pt'\n",
        ")\n",
        "\n",
        "# Print encoding details\n",
        "print(len(encoding['input_ids'][0]))\n",
        "print(encoding['input_ids'])\n",
        "print(len(encoding['token_type_ids'][0]))\n",
        "print(encoding['token_type_ids'])\n",
        "print(len(encoding['attention_mask'][0]))\n",
        "print(encoding['attention_mask'])\n",
        "\n",
        "# Convert token IDs back to tokens\n",
        "print(tokenizer.convert_ids_to_tokens(encoding['input_ids'][0]))\n",
        "\n",
        "# Assuming df_train exists from previous dataset processing\n",
        "# Ensure 'text' column is used consistently\n",
        "if 'text' in df_train.columns:\n",
        "    column_name = 'text'\n",
        "else:\n",
        "    column_name = 'cleaned_text'\n",
        "\n",
        "# Compute token lengths\n",
        "token_lens = []\n",
        "for txt in tqdm(df_train[column_name]):\n",
        "    tokens = tokenizer.encode(txt, max_length=512, truncation=True)\n",
        "    token_lens.append(len(tokens))\n"
      ],
      "metadata": {
        "colab": {
          "base_uri": "https://localhost:8080/"
        },
        "id": "oGBnQdPqw64t",
        "outputId": "532fefff-485c-4f8b-ab39-9c1ee669e3b7"
      },
      "execution_count": null,
      "outputs": [
        {
          "output_type": "stream",
          "name": "stdout",
          "text": [
            "Sentence: ഷമമ ഹറ ആട ഹറ......എനന പടമ.. എലലവര ജവകകയലല..അഭനയ ഇതൽ കണന കഴയലല... ഒര മഹഷനറ പരതകര ലവൽ പട..ഒര പകഷ അതകക മല..Loved it\n",
            "Tokens: ['ഷ', '##മ', '##മ', 'ഹ', '##റ', 'ആ', '##ട', 'ഹ', '##റ', '.', '.', '.', '.', '.', '.', 'എ', '##നന', 'പട', '##മ', '.', '.', 'എ', '##ല', '##ല', '##വര', 'ജ', '##വക', '##ക', '##യ', '##ല', '##ല', '.', '.', 'അ', '##ഭ', '##ന', '##യ', 'ഇ', '##തൽ', 'ക', '##ണന', 'ക', '##ഴ', '##യ', '##ല', '##ല', '.', '.', '.', 'ഒ', '##ര', 'മ', '##ഹ', '##ഷ', '##ന', '##റ', 'പ', '##രത', '##കര', 'ല', '##വൽ', 'പട', '.', '.', 'ഒ', '##ര', 'പ', '##ക', '##ഷ', 'അ', '##ത', '##ക', '##ക', 'മല', '.', '.', 'Love', '##d', 'it']\n",
            "Token IDs: [1022, 5833, 5833, 1024, 6232, 978, 8828, 1024, 6232, 121, 121, 121, 121, 121, 121, 984, 146887, 151805, 5833, 121, 121, 984, 4814, 4814, 73820, 997, 118613, 3933, 2598, 4814, 4814, 121, 121, 977, 30709, 4443, 2598, 979, 100930, 990, 124535, 990, 38462, 2598, 4814, 4814, 121, 121, 121, 987, 5629, 1013, 19362, 18690, 4443, 6232, 1009, 104875, 32998, 1017, 28102, 151805, 121, 121, 987, 5629, 1009, 3933, 18690, 977, 3535, 3933, 3933, 69966, 121, 121, 8581, 1339, 1197]\n",
            "[SEP] 105\n",
            "[CLS] 104\n",
            "[PAD] 0\n",
            "[UNK] 100\n",
            "32\n",
            "tensor([[   104,   1022,   5833,   5833,   1024,   6232,    978,   8828,   1024,\n",
            "           6232,    121,    121,    121,    121,    121,    121,    984, 146887,\n",
            "         151805,   5833,    121,    121,    984,   4814,   4814,  73820,    997,\n",
            "         118613,   3933,   2598,   4814,    105]])\n",
            "32\n",
            "tensor([[0, 0, 0, 0, 0, 0, 0, 0, 0, 0, 0, 0, 0, 0, 0, 0, 0, 0, 0, 0, 0, 0, 0, 0,\n",
            "         0, 0, 0, 0, 0, 0, 0, 0]])\n",
            "32\n",
            "tensor([[1, 1, 1, 1, 1, 1, 1, 1, 1, 1, 1, 1, 1, 1, 1, 1, 1, 1, 1, 1, 1, 1, 1, 1,\n",
            "         1, 1, 1, 1, 1, 1, 1, 1]])\n",
            "['[CLS]', 'ഷ', '##മ', '##മ', 'ഹ', '##റ', 'ആ', '##ട', 'ഹ', '##റ', '.', '.', '.', '.', '.', '.', 'എ', '##നന', 'പട', '##മ', '.', '.', 'എ', '##ല', '##ല', '##വര', 'ജ', '##വക', '##ക', '##യ', '##ല', '[SEP]']\n"
          ]
        },
        {
          "output_type": "stream",
          "name": "stderr",
          "text": [
            "100%|██████████| 14409/14409 [00:01<00:00, 9873.79it/s]\n"
          ]
        }
      ]
    },
    {
      "cell_type": "code",
      "source": [
        "MAX_LEN = 160\n",
        "from torch.utils.data import Dataset\n",
        "import torch\n",
        "class GPReviewDataset(Dataset):\n",
        "    def __init__(self, texts, targets, tokenizer, max_len):\n",
        "        self.texts = texts  # Ensure this references 'cleaned_text'\n",
        "        self.targets = targets\n",
        "        self.tokenizer = tokenizer\n",
        "        self.max_len = max_len\n",
        "\n",
        "    def __len__(self):\n",
        "        return len(self.texts)\n",
        "\n",
        "    def __getitem__(self, item):\n",
        "        text = str(self.texts[item])  # Ensure it pulls from 'cleaned_text'\n",
        "        target = self.targets[item]\n",
        "\n",
        "        encoding = self.tokenizer(\n",
        "            text,\n",
        "            add_special_tokens=True,\n",
        "            max_length=self.max_len,\n",
        "            padding='max_length',\n",
        "            truncation=True,\n",
        "            return_tensors='pt'\n",
        "        )\n",
        "\n",
        "        return {\n",
        "            'tweet_text': text,\n",
        "            'input_ids': encoding['input_ids'].squeeze(0),\n",
        "            'attention_mask': encoding['attention_mask'].squeeze(0),\n",
        "            'token_type_ids': encoding['token_type_ids'].squeeze(0),\n",
        "            'targets': torch.tensor(target, dtype=torch.long)\n",
        "        }\n"
      ],
      "metadata": {
        "id": "Bz1o9fpqw_Tw"
      },
      "execution_count": null,
      "outputs": []
    },
    {
      "cell_type": "code",
      "source": [
        "from torch.utils.data import Dataset, DataLoader\n",
        "import torch\n",
        "\n",
        "def create_data_loader(df, tokenizer, max_len, batch_size):\n",
        "    ds = GPReviewDataset(\n",
        "        texts=df.cleaned_text.to_numpy(),  # Updated from 'tuned_tweet' to 'cleaned_text'\n",
        "        targets=df.label.to_numpy(),\n",
        "        tokenizer=tokenizer,\n",
        "        max_len=max_len\n",
        "    )\n",
        "\n",
        "    return DataLoader(\n",
        "        ds,\n",
        "        batch_size=batch_size,\n",
        "        num_workers=2\n",
        "    )"
      ],
      "metadata": {
        "id": "MgtNQTJoxHSA"
      },
      "execution_count": null,
      "outputs": []
    },
    {
      "cell_type": "code",
      "source": [
        "BATCH_SIZE = 16\n",
        "\n",
        "train_data_loader = create_data_loader(df_train, tokenizer, MAX_LEN, BATCH_SIZE)\n",
        "val_data_loader = create_data_loader(df_val, tokenizer, MAX_LEN, BATCH_SIZE)\n",
        "test_data_loader = create_data_loader(df_test, tokenizer, MAX_LEN, BATCH_SIZE)\n"
      ],
      "metadata": {
        "id": "MeGRITpBxJ9X"
      },
      "execution_count": null,
      "outputs": []
    },
    {
      "cell_type": "code",
      "source": [
        "data = next(iter(train_data_loader))\n",
        "data.keys()"
      ],
      "metadata": {
        "colab": {
          "base_uri": "https://localhost:8080/"
        },
        "id": "Dt5g8J8ExMxM",
        "outputId": "0b14a57a-31b2-402c-ad05-ad25944e95a7"
      },
      "execution_count": null,
      "outputs": [
        {
          "output_type": "execute_result",
          "data": {
            "text/plain": [
              "dict_keys(['tweet_text', 'input_ids', 'attention_mask', 'token_type_ids', 'targets'])"
            ]
          },
          "metadata": {},
          "execution_count": 12
        }
      ]
    },
    {
      "cell_type": "code",
      "source": [
        "x = muril_model(\n",
        "  input_ids=encoding['input_ids'],\n",
        "  attention_mask=encoding['attention_mask'],\n",
        "  token_type_ids=encoding['token_type_ids']\n",
        ")"
      ],
      "metadata": {
        "id": "Rj_MPAYTxQt5"
      },
      "execution_count": null,
      "outputs": []
    },
    {
      "cell_type": "code",
      "source": [
        "import torch\n",
        "import torch.nn as nn\n",
        "class SentimentClassifier(nn.Module):\n",
        "    def __init__(self, n_classes, base):\n",
        "        super(SentimentClassifier, self).__init__()\n",
        "        self.muril = base\n",
        "        self.drop1 = nn.Dropout(p=0.3)\n",
        "        self.out1 = nn.Linear(base.config.hidden_size, 64)\n",
        "        self.relu = nn.ReLU()\n",
        "        self.drop2 = nn.Dropout(p=0.1)\n",
        "        self.out = nn.Linear(64, n_classes)\n",
        "\n",
        "    def forward(self, input_ids, attention_mask, token_type_ids):\n",
        "        x = self.muril(\n",
        "            input_ids=input_ids,\n",
        "            attention_mask=attention_mask,\n",
        "            token_type_ids=token_type_ids\n",
        "        )\n",
        "        pooled_output = x.pooler_output  # Updated access method\n",
        "        output = self.drop1(pooled_output)\n",
        "        output = self.relu(self.out1(output))\n",
        "        output = self.drop2(output)\n",
        "        return self.out(output)"
      ],
      "metadata": {
        "id": "gRwdQSyuxVat"
      },
      "execution_count": null,
      "outputs": []
    },
    {
      "cell_type": "code",
      "source": [
        "import torch\n",
        "import torch.nn as nn\n",
        "\n",
        "class_names = ['0', '1', '2', '3', '4', '5']\n",
        "device = torch.device(\"cuda\" if torch.cuda.is_available() else \"cpu\")\n",
        "\n",
        "model = SentimentClassifier(len(class_names), muril_model)\n",
        "model = model.to(device)\n"
      ],
      "metadata": {
        "id": "IUjLZm6oxX9T"
      },
      "execution_count": null,
      "outputs": []
    },
    {
      "cell_type": "code",
      "source": [
        "input_ids = data['input_ids'].to(device)\n",
        "attention_mask = data['attention_mask'].to(device)\n",
        "token_type_ids = data['token_type_ids'].to(device)\n",
        "\n",
        "print(input_ids.shape) # batch size x seq length\n",
        "print(attention_mask.shape) # batch size x seq length\n",
        "print(token_type_ids.shape) # batch size x seq_length"
      ],
      "metadata": {
        "colab": {
          "base_uri": "https://localhost:8080/"
        },
        "id": "CFg1-g3bxbD8",
        "outputId": "8f8a949e-5150-43ad-c7aa-ea068d115248"
      },
      "execution_count": null,
      "outputs": [
        {
          "output_type": "stream",
          "name": "stdout",
          "text": [
            "torch.Size([16, 160])\n",
            "torch.Size([16, 160])\n",
            "torch.Size([16, 160])\n"
          ]
        }
      ]
    },
    {
      "cell_type": "code",
      "source": [
        "model(input_ids, attention_mask, token_type_ids)"
      ],
      "metadata": {
        "colab": {
          "base_uri": "https://localhost:8080/"
        },
        "id": "SvzD37ijxcGf",
        "outputId": "d4ec0f1b-5101-48d3-cc93-a7be578c9a30"
      },
      "execution_count": null,
      "outputs": [
        {
          "output_type": "execute_result",
          "data": {
            "text/plain": [
              "tensor([[ 0.1265, -0.0516,  0.0554,  0.0751, -0.1081, -0.1300],\n",
              "        [ 0.1228, -0.0514,  0.0583,  0.0668, -0.1079, -0.1224],\n",
              "        [ 0.1223, -0.0491,  0.0552,  0.0754, -0.1068, -0.1239],\n",
              "        [ 0.1222, -0.0436,  0.0555,  0.0766, -0.1049, -0.1252],\n",
              "        [ 0.1270, -0.0480,  0.0566,  0.0767, -0.1028, -0.1393],\n",
              "        [ 0.1231, -0.0492,  0.0551,  0.0726, -0.1036, -0.1240],\n",
              "        [ 0.1197, -0.0485,  0.0622,  0.0759, -0.1007, -0.1238],\n",
              "        [ 0.1226, -0.0476,  0.0556,  0.0721, -0.1014, -0.1280],\n",
              "        [ 0.1201, -0.0467,  0.0529,  0.0763, -0.1098, -0.1304],\n",
              "        [ 0.1250, -0.0429,  0.0573,  0.0752, -0.1068, -0.1366],\n",
              "        [ 0.1250, -0.0437,  0.0573,  0.0749, -0.1026, -0.1271],\n",
              "        [ 0.1281, -0.0487,  0.0542,  0.0776, -0.1106, -0.1308],\n",
              "        [ 0.1138, -0.0457,  0.0551,  0.0763, -0.1028, -0.1215],\n",
              "        [ 0.1220, -0.0465,  0.0560,  0.0752, -0.1075, -0.1279],\n",
              "        [ 0.1223, -0.0471,  0.0594,  0.0744, -0.1006, -0.1313],\n",
              "        [ 0.1210, -0.0472,  0.0516,  0.0770, -0.1043, -0.1272]],\n",
              "       device='cuda:0', grad_fn=<AddmmBackward0>)"
            ]
          },
          "metadata": {},
          "execution_count": 17
        }
      ]
    },
    {
      "cell_type": "code",
      "source": [
        "import torch.nn.functional as F\n",
        "F.softmax(model(input_ids, attention_mask, token_type_ids), dim=1)"
      ],
      "metadata": {
        "colab": {
          "base_uri": "https://localhost:8080/"
        },
        "id": "1wgJMUaCxgT7",
        "outputId": "eb2e8203-0041-421d-88a6-8aceb1b9c46f"
      },
      "execution_count": null,
      "outputs": [
        {
          "output_type": "execute_result",
          "data": {
            "text/plain": [
              "tensor([[0.1891, 0.1593, 0.1758, 0.1797, 0.1498, 0.1463],\n",
              "        [0.1892, 0.1592, 0.1763, 0.1793, 0.1495, 0.1464],\n",
              "        [0.1887, 0.1585, 0.1760, 0.1797, 0.1503, 0.1468],\n",
              "        [0.1886, 0.1582, 0.1760, 0.1793, 0.1498, 0.1480],\n",
              "        [0.1886, 0.1585, 0.1765, 0.1792, 0.1498, 0.1474],\n",
              "        [0.1889, 0.1592, 0.1758, 0.1799, 0.1501, 0.1463],\n",
              "        [0.1888, 0.1582, 0.1770, 0.1792, 0.1503, 0.1464],\n",
              "        [0.1885, 0.1594, 0.1760, 0.1799, 0.1497, 0.1465],\n",
              "        [0.1879, 0.1593, 0.1760, 0.1800, 0.1504, 0.1465],\n",
              "        [0.1889, 0.1588, 0.1765, 0.1796, 0.1496, 0.1467],\n",
              "        [0.1895, 0.1588, 0.1760, 0.1795, 0.1494, 0.1468],\n",
              "        [0.1889, 0.1588, 0.1766, 0.1799, 0.1497, 0.1461],\n",
              "        [0.1889, 0.1592, 0.1767, 0.1794, 0.1499, 0.1459],\n",
              "        [0.1893, 0.1591, 0.1761, 0.1789, 0.1502, 0.1464],\n",
              "        [0.1884, 0.1590, 0.1764, 0.1798, 0.1498, 0.1467],\n",
              "        [0.1887, 0.1594, 0.1759, 0.1798, 0.1495, 0.1467]], device='cuda:0',\n",
              "       grad_fn=<SoftmaxBackward0>)"
            ]
          },
          "metadata": {},
          "execution_count": 18
        }
      ]
    },
    {
      "cell_type": "code",
      "source": [
        "!pip install --upgrade transformers"
      ],
      "metadata": {
        "colab": {
          "base_uri": "https://localhost:8080/"
        },
        "id": "P2rQ8dtR2pi0",
        "outputId": "dc266829-f375-4b85-85ed-f0fedd4289e9"
      },
      "execution_count": null,
      "outputs": [
        {
          "output_type": "stream",
          "name": "stdout",
          "text": [
            "Requirement already satisfied: transformers in /usr/local/lib/python3.11/dist-packages (4.50.3)\n",
            "Requirement already satisfied: filelock in /usr/local/lib/python3.11/dist-packages (from transformers) (3.18.0)\n",
            "Requirement already satisfied: huggingface-hub<1.0,>=0.26.0 in /usr/local/lib/python3.11/dist-packages (from transformers) (0.29.3)\n",
            "Requirement already satisfied: numpy>=1.17 in /usr/local/lib/python3.11/dist-packages (from transformers) (2.0.2)\n",
            "Requirement already satisfied: packaging>=20.0 in /usr/local/lib/python3.11/dist-packages (from transformers) (24.2)\n",
            "Requirement already satisfied: pyyaml>=5.1 in /usr/local/lib/python3.11/dist-packages (from transformers) (6.0.2)\n",
            "Requirement already satisfied: regex!=2019.12.17 in /usr/local/lib/python3.11/dist-packages (from transformers) (2024.11.6)\n",
            "Requirement already satisfied: requests in /usr/local/lib/python3.11/dist-packages (from transformers) (2.32.3)\n",
            "Requirement already satisfied: tokenizers<0.22,>=0.21 in /usr/local/lib/python3.11/dist-packages (from transformers) (0.21.1)\n",
            "Requirement already satisfied: safetensors>=0.4.3 in /usr/local/lib/python3.11/dist-packages (from transformers) (0.5.3)\n",
            "Requirement already satisfied: tqdm>=4.27 in /usr/local/lib/python3.11/dist-packages (from transformers) (4.67.1)\n",
            "Requirement already satisfied: fsspec>=2023.5.0 in /usr/local/lib/python3.11/dist-packages (from huggingface-hub<1.0,>=0.26.0->transformers) (2024.12.0)\n",
            "Requirement already satisfied: typing-extensions>=3.7.4.3 in /usr/local/lib/python3.11/dist-packages (from huggingface-hub<1.0,>=0.26.0->transformers) (4.13.0)\n",
            "Requirement already satisfied: charset-normalizer<4,>=2 in /usr/local/lib/python3.11/dist-packages (from requests->transformers) (3.4.1)\n",
            "Requirement already satisfied: idna<4,>=2.5 in /usr/local/lib/python3.11/dist-packages (from requests->transformers) (3.10)\n",
            "Requirement already satisfied: urllib3<3,>=1.21.1 in /usr/local/lib/python3.11/dist-packages (from requests->transformers) (2.3.0)\n",
            "Requirement already satisfied: certifi>=2017.4.17 in /usr/local/lib/python3.11/dist-packages (from requests->transformers) (2025.1.31)\n"
          ]
        }
      ]
    },
    {
      "cell_type": "code",
      "source": [
        "import torch\n",
        "import torch.nn as nn\n",
        "from torch.optim import AdamW\n",
        "from transformers import  get_linear_schedule_with_warmup\n",
        "\n",
        "EPOCHS = 5\n",
        "device = torch.device(\"cuda\" if torch.cuda.is_available() else \"cpu\")\n",
        "\n",
        "optimizer = AdamW(model.parameters(), lr=1e-5)\n",
        "total_steps = len(train_data_loader) * EPOCHS\n",
        "\n",
        "scheduler = get_linear_schedule_with_warmup(\n",
        "    optimizer,\n",
        "    num_warmup_steps=0,\n",
        "    num_training_steps=total_steps\n",
        ")\n",
        "\n",
        "loss_fn = nn.CrossEntropyLoss().to(device)"
      ],
      "metadata": {
        "id": "Y59ldNYQxktB"
      },
      "execution_count": null,
      "outputs": []
    },
    {
      "cell_type": "code",
      "source": [
        "import torch\n",
        "import torch.nn as nn\n",
        "import numpy as np\n",
        "from tqdm import tqdm\n",
        "\n",
        "def train_epoch(model, data_loader, loss_fn, optimizer, device, scheduler, n_examples):\n",
        "    model.train()\n",
        "\n",
        "    losses = []\n",
        "    correct_predictions = 0\n",
        "\n",
        "    for d in tqdm(data_loader):\n",
        "        input_ids = d[\"input_ids\"].to(device)\n",
        "        attention_mask = d[\"attention_mask\"].to(device)\n",
        "        token_type_ids = d['token_type_ids'].to(device)  # Updated from 'type_ids'\n",
        "        targets = d[\"targets\"].to(device).long()\n",
        "        outputs = model(\n",
        "            input_ids=input_ids,\n",
        "            attention_mask=attention_mask,\n",
        "            token_type_ids=token_type_ids\n",
        "        )\n",
        "\n",
        "        _, preds = torch.max(outputs, dim=1)\n",
        "\n",
        "        loss = loss_fn(outputs, targets)\n",
        "\n",
        "        correct_predictions += torch.sum(preds == targets)\n",
        "        losses.append(loss.item())\n",
        "\n",
        "        loss.backward()\n",
        "        nn.utils.clip_grad_norm_(model.parameters(), max_norm=1.0)\n",
        "        optimizer.step()\n",
        "        scheduler.step()\n",
        "        optimizer.zero_grad()\n",
        "\n",
        "    return correct_predictions.double() / n_examples, np.mean(losses)\n"
      ],
      "metadata": {
        "id": "KYlSxSQz3zX5"
      },
      "execution_count": null,
      "outputs": []
    },
    {
      "cell_type": "code",
      "source": [
        "def eval_model(model, data_loader, loss_fn, device, n_examples):\n",
        "    model.eval()\n",
        "\n",
        "    losses = []\n",
        "    correct_predictions = 0\n",
        "\n",
        "    with torch.no_grad():\n",
        "        for d in data_loader:\n",
        "            input_ids = d[\"input_ids\"].to(device)\n",
        "            attention_mask = d[\"attention_mask\"].to(device)\n",
        "            token_type_ids = d[\"token_type_ids\"].to(device)  # Correct key name\n",
        "            targets = d[\"targets\"].to(device).long()  # Ensure targets are integers\n",
        "\n",
        "            outputs = model(\n",
        "                input_ids=input_ids,\n",
        "                attention_mask=attention_mask,\n",
        "                token_type_ids=token_type_ids\n",
        "            )\n",
        "\n",
        "            _, preds = torch.max(outputs, dim=1)\n",
        "            loss = loss_fn(outputs, targets)\n",
        "\n",
        "            correct_predictions += torch.sum(preds == targets)\n",
        "            losses.append(loss.item())\n",
        "\n",
        "    return correct_predictions.double() / n_examples, np.mean(losses)\n"
      ],
      "metadata": {
        "id": "PKMQ18ni34q4"
      },
      "execution_count": null,
      "outputs": []
    },
    {
      "cell_type": "code",
      "source": [
        "from collections import defaultdict\n",
        "\n",
        "history = defaultdict(list)\n",
        "best_accuracy = 0\n",
        "\n",
        "for epoch in range(EPOCHS):\n",
        "    print(f'Epoch {epoch + 1}/{EPOCHS}')\n",
        "    print('-' * 10)\n",
        "\n",
        "    train_acc, train_loss = train_epoch(\n",
        "        model,\n",
        "        train_data_loader,\n",
        "        loss_fn,\n",
        "        optimizer,\n",
        "        device,\n",
        "        scheduler,\n",
        "        len(df_train)\n",
        "    )\n",
        "\n",
        "    print(f'\\n--> Train loss {train_loss} accuracy {train_acc}')\n",
        "\n",
        "    val_acc, val_loss = eval_model(\n",
        "        model,\n",
        "        val_data_loader,\n",
        "        loss_fn,\n",
        "        device,\n",
        "        len(df_val)\n",
        "    )\n",
        "\n",
        "    print(f'--> Val   loss {val_loss} accuracy {val_acc}')\n",
        "    print()\n",
        "\n",
        "    history['train_acc'].append(train_acc.cpu().numpy())  # Convert tensor to numpy\n",
        "    history['train_loss'].append(train_loss)\n",
        "    history['val_acc'].append(val_acc.cpu().numpy())\n",
        "    history['val_loss'].append(val_loss)\n",
        "\n",
        "    if val_acc > best_accuracy:\n",
        "        torch.save(model.state_dict(), 'muril_model_state.bin')  # Renamed model file for clarity\n",
        "        best_accuracy = val_acc\n"
      ],
      "metadata": {
        "colab": {
          "base_uri": "https://localhost:8080/"
        },
        "id": "N5mqPbRg37jg",
        "outputId": "d4014650-52ae-4ce4-b91a-7f06352c2b70"
      },
      "execution_count": null,
      "outputs": [
        {
          "output_type": "stream",
          "name": "stdout",
          "text": [
            "Epoch 1/5\n",
            "----------\n"
          ]
        },
        {
          "output_type": "stream",
          "name": "stderr",
          "text": [
            "100%|██████████| 901/901 [06:58<00:00,  2.15it/s]\n"
          ]
        },
        {
          "output_type": "stream",
          "name": "stdout",
          "text": [
            "\n",
            "--> Train loss 0.40563536411798357 accuracy 0.8845860226247484\n",
            "--> Val   loss 0.3609140329658985 accuracy 0.9329664832416208\n",
            "\n",
            "Epoch 2/5\n",
            "----------\n"
          ]
        },
        {
          "output_type": "stream",
          "name": "stderr",
          "text": [
            "100%|██████████| 901/901 [06:59<00:00,  2.15it/s]\n"
          ]
        },
        {
          "output_type": "stream",
          "name": "stdout",
          "text": [
            "\n",
            "--> Train loss 0.3464508678838528 accuracy 0.9275452841973767\n",
            "--> Val   loss 0.30048996363580227 accuracy 0.9429714857428714\n",
            "\n",
            "Epoch 3/5\n",
            "----------\n"
          ]
        },
        {
          "output_type": "stream",
          "name": "stderr",
          "text": [
            "100%|██████████| 901/901 [07:00<00:00,  2.14it/s]\n"
          ]
        },
        {
          "output_type": "stream",
          "name": "stdout",
          "text": [
            "\n",
            "--> Train loss 0.2854652530663584 accuracy 0.9466305781109029\n",
            "--> Val   loss 0.27024192321300505 accuracy 0.9419709854927463\n",
            "\n",
            "Epoch 4/5\n",
            "----------\n"
          ]
        },
        {
          "output_type": "stream",
          "name": "stderr",
          "text": [
            "100%|██████████| 901/901 [06:59<00:00,  2.15it/s]\n"
          ]
        },
        {
          "output_type": "stream",
          "name": "stdout",
          "text": [
            "\n",
            "--> Train loss 0.2532687915652395 accuracy 0.9495454229995142\n",
            "--> Val   loss 0.27503082241117954 accuracy 0.9359679839919959\n",
            "\n",
            "Epoch 5/5\n",
            "----------\n"
          ]
        },
        {
          "output_type": "stream",
          "name": "stderr",
          "text": [
            "100%|██████████| 901/901 [06:59<00:00,  2.15it/s]\n"
          ]
        },
        {
          "output_type": "stream",
          "name": "stdout",
          "text": [
            "\n",
            "--> Train loss 0.24211405382618786 accuracy 0.9517662572003609\n",
            "--> Val   loss 0.27163409782201053 accuracy 0.936968484242121\n",
            "\n"
          ]
        }
      ]
    },
    {
      "cell_type": "code",
      "source": [
        "import torch\n",
        "import torch.nn as nn\n",
        "import numpy as np\n",
        "import seaborn as sns\n",
        "import matplotlib.pyplot as plt\n",
        "from tqdm import tqdm\n",
        "from sklearn.metrics import precision_score, recall_score, f1_score, confusion_matrix\n",
        "\n",
        "# Training Parameters\n",
        "EPOCHS = 5\n",
        "device = torch.device(\"cuda\" if torch.cuda.is_available() else \"cpu\")\n",
        "\n",
        "# Optimizer and Scheduler\n",
        "optimizer = AdamW(model.parameters(), lr=1e-5)\n",
        "total_steps = len(train_data_loader) * EPOCHS\n",
        "scheduler = get_linear_schedule_with_warmup(\n",
        "    optimizer, num_warmup_steps=0, num_training_steps=total_steps\n",
        ")\n",
        "\n",
        "# Loss Function\n",
        "loss_fn = nn.CrossEntropyLoss().to(device)\n",
        "\n",
        "# Function to Plot Confusion Matrix (Called Once After Training)\n",
        "def plot_confusion_matrix(y_true, y_pred, class_labels):\n",
        "    cm = confusion_matrix(y_true, y_pred)\n",
        "\n",
        "    plt.figure(figsize=(8, 6))\n",
        "    sns.heatmap(cm, annot=True, fmt=\"d\", cmap=\"Blues\", xticklabels=class_labels, yticklabels=class_labels)\n",
        "    plt.xlabel(\"Predicted\")\n",
        "    plt.ylabel(\"Actual\")\n",
        "    plt.title(\"Confusion Matrix\")\n",
        "    plt.show()\n",
        "\n",
        "# Training Function\n",
        "def train_epoch(model, data_loader, loss_fn, optimizer, device, scheduler, n_examples):\n",
        "    model.train()\n",
        "\n",
        "    losses = []\n",
        "    correct_predictions = 0\n",
        "    all_preds = []\n",
        "    all_targets = []\n",
        "\n",
        "    for d in tqdm(data_loader):\n",
        "        input_ids = d[\"input_ids\"].to(device)\n",
        "        attention_mask = d[\"attention_mask\"].to(device)\n",
        "        token_type_ids = d[\"token_type_ids\"].to(device)\n",
        "        targets = d[\"targets\"].to(device).long()\n",
        "\n",
        "        outputs = model(\n",
        "            input_ids=input_ids,\n",
        "            attention_mask=attention_mask,\n",
        "            token_type_ids=token_type_ids\n",
        "        )\n",
        "\n",
        "        _, preds = torch.max(outputs, dim=1)\n",
        "        loss = loss_fn(outputs, targets)\n",
        "\n",
        "        correct_predictions += torch.sum(preds == targets)\n",
        "        losses.append(loss.item())\n",
        "\n",
        "        all_preds.extend(preds.cpu().numpy())\n",
        "        all_targets.extend(targets.cpu().numpy())\n",
        "\n",
        "        loss.backward()\n",
        "        nn.utils.clip_grad_norm_(model.parameters(), max_norm=1.0)\n",
        "        optimizer.step()\n",
        "        scheduler.step()\n",
        "        optimizer.zero_grad()\n",
        "\n",
        "    accuracy = correct_predictions.double() / n_examples\n",
        "    precision = precision_score(all_targets, all_preds, average='weighted')\n",
        "    recall = recall_score(all_targets, all_preds, average='weighted')\n",
        "    f1 = f1_score(all_targets, all_preds, average='weighted')\n",
        "\n",
        "    return accuracy, np.mean(losses), precision, recall, f1\n",
        "\n",
        "# Evaluation Function (Does NOT Plot Confusion Matrix)\n",
        "def eval_model(model, data_loader, loss_fn, device, n_examples):\n",
        "    model.eval()\n",
        "\n",
        "    losses = []\n",
        "    correct_predictions = 0\n",
        "    all_preds = []\n",
        "    all_targets = []\n",
        "\n",
        "    with torch.no_grad():\n",
        "        for d in data_loader:\n",
        "            input_ids = d[\"input_ids\"].to(device)\n",
        "            attention_mask = d[\"attention_mask\"].to(device)\n",
        "            token_type_ids = d[\"token_type_ids\"].to(device)\n",
        "            targets = d[\"targets\"].to(device).long()\n",
        "\n",
        "            outputs = model(\n",
        "                input_ids=input_ids,\n",
        "                attention_mask=attention_mask,\n",
        "                token_type_ids=token_type_ids\n",
        "            )\n",
        "\n",
        "            _, preds = torch.max(outputs, dim=1)\n",
        "            loss = loss_fn(outputs, targets)\n",
        "\n",
        "            correct_predictions += torch.sum(preds == targets)\n",
        "            losses.append(loss.item())\n",
        "\n",
        "            all_preds.extend(preds.cpu().numpy())\n",
        "            all_targets.extend(targets.cpu().numpy())\n",
        "\n",
        "    accuracy = correct_predictions.double() / n_examples\n",
        "    precision = precision_score(all_targets, all_preds, average='weighted')\n",
        "    recall = recall_score(all_targets, all_preds, average='weighted')\n",
        "    f1 = f1_score(all_targets, all_preds, average='weighted')\n",
        "\n",
        "    return accuracy, np.mean(losses), precision, recall, f1, all_targets, all_preds  # Return true & predicted labels for final confusion matrix\n",
        "\n",
        "# Training Loop\n",
        "from collections import defaultdict\n",
        "\n",
        "history = defaultdict(list)\n",
        "best_accuracy = 0\n",
        "\n",
        "# Class Labels (Update as needed)\n",
        "class_labels = [\"Class 0\", \"Class 1\"]  # Modify based on actual class names\n",
        "\n",
        "# Variables to Store Predictions for Final Confusion Matrix\n",
        "final_targets = []\n",
        "final_preds = []\n",
        "\n",
        "for epoch in range(EPOCHS):\n",
        "    print(f'Epoch {epoch + 1}/{EPOCHS}')\n",
        "    print('-' * 10)\n",
        "\n",
        "    train_acc, train_loss, train_precision, train_recall, train_f1 = train_epoch(\n",
        "        model,\n",
        "        train_data_loader,\n",
        "        loss_fn,\n",
        "        optimizer,\n",
        "        device,\n",
        "        scheduler,\n",
        "        len(df_train)\n",
        "    )\n",
        "\n",
        "    print(f'\\n--> Train loss {train_loss:.4f} | Accuracy {train_acc:.4f} | Precision {train_precision:.4f} | Recall {train_recall:.4f} | F1 {train_f1:.4f}')\n",
        "\n",
        "    val_acc, val_loss, val_precision, val_recall, val_f1, val_targets, val_preds = eval_model(\n",
        "        model,\n",
        "        val_data_loader,\n",
        "        loss_fn,\n",
        "        device,\n",
        "        len(df_val)\n",
        "    )\n",
        "\n",
        "    print(f'--> Val   loss {val_loss:.4f} | Accuracy {val_acc:.4f} | Precision {val_precision:.4f} | Recall {val_recall:.4f} | F1 {val_f1:.4f}')\n",
        "    print()\n",
        "\n",
        "    history['train_acc'].append(train_acc.cpu().numpy())\n",
        "    history['train_loss'].append(train_loss)\n",
        "    history['train_precision'].append(train_precision)\n",
        "    history['train_recall'].append(train_recall)\n",
        "    history['train_f1'].append(train_f1)\n",
        "\n",
        "    history['val_acc'].append(val_acc.cpu().numpy())\n",
        "    history['val_loss'].append(val_loss)\n",
        "    history['val_precision'].append(val_precision)\n",
        "    history['val_recall'].append(val_recall)\n",
        "    history['val_f1'].append(val_f1)\n",
        "\n",
        "    if val_acc > best_accuracy:\n",
        "        torch.save(model.state_dict(), 'muril_model_state.bin')\n",
        "        best_accuracy = val_acc\n",
        "\n",
        "    # Store Final Predictions for Confusion Matrix\n",
        "    final_targets = val_targets\n",
        "    final_preds = val_preds\n",
        "\n",
        "# **After All Epochs, Show Confusion Matrix**\n",
        "print(\"\\nFinal Confusion Matrix:\")\n",
        "plot_confusion_matrix(final_targets, final_preds, class_labels)\n"
      ],
      "metadata": {
        "colab": {
          "base_uri": "https://localhost:8080/",
          "height": 1000
        },
        "id": "7XJwE_fjavi2",
        "outputId": "fcce6a16-9987-46bf-b97e-2fb6486e9516"
      },
      "execution_count": null,
      "outputs": [
        {
          "output_type": "stream",
          "name": "stdout",
          "text": [
            "Epoch 1/5\n",
            "----------\n"
          ]
        },
        {
          "output_type": "stream",
          "name": "stderr",
          "text": [
            "100%|██████████| 901/901 [06:56<00:00,  2.16it/s]\n"
          ]
        },
        {
          "output_type": "stream",
          "name": "stdout",
          "text": [
            "\n",
            "--> Train loss 0.2107 | Accuracy 0.9563 | Precision 0.9507 | Recall 0.9563 | F1 0.9448\n"
          ]
        },
        {
          "output_type": "stream",
          "name": "stderr",
          "text": [
            "/usr/local/lib/python3.11/dist-packages/sklearn/metrics/_classification.py:1565: UndefinedMetricWarning: Precision is ill-defined and being set to 0.0 in labels with no predicted samples. Use `zero_division` parameter to control this behavior.\n",
            "  _warn_prf(average, modifier, f\"{metric.capitalize()} is\", len(result))\n"
          ]
        },
        {
          "output_type": "stream",
          "name": "stdout",
          "text": [
            "--> Val   loss 0.2731 | Accuracy 0.9320 | Precision 0.9316 | Recall 0.9320 | F1 0.9311\n",
            "\n",
            "Epoch 2/5\n",
            "----------\n"
          ]
        },
        {
          "output_type": "stream",
          "name": "stderr",
          "text": [
            "100%|██████████| 901/901 [07:00<00:00,  2.14it/s]\n",
            "/usr/local/lib/python3.11/dist-packages/sklearn/metrics/_classification.py:1565: UndefinedMetricWarning: Precision is ill-defined and being set to 0.0 in labels with no predicted samples. Use `zero_division` parameter to control this behavior.\n",
            "  _warn_prf(average, modifier, f\"{metric.capitalize()} is\", len(result))\n"
          ]
        },
        {
          "output_type": "stream",
          "name": "stdout",
          "text": [
            "\n",
            "--> Train loss 0.1857 | Accuracy 0.9604 | Precision 0.9414 | Recall 0.9604 | F1 0.9503\n"
          ]
        },
        {
          "output_type": "stream",
          "name": "stderr",
          "text": [
            "/usr/local/lib/python3.11/dist-packages/sklearn/metrics/_classification.py:1565: UndefinedMetricWarning: Precision is ill-defined and being set to 0.0 in labels with no predicted samples. Use `zero_division` parameter to control this behavior.\n",
            "  _warn_prf(average, modifier, f\"{metric.capitalize()} is\", len(result))\n"
          ]
        },
        {
          "output_type": "stream",
          "name": "stdout",
          "text": [
            "--> Val   loss 0.2641 | Accuracy 0.9425 | Precision 0.9333 | Recall 0.9425 | F1 0.9375\n",
            "\n",
            "Epoch 3/5\n",
            "----------\n"
          ]
        },
        {
          "output_type": "stream",
          "name": "stderr",
          "text": [
            "100%|██████████| 901/901 [07:00<00:00,  2.14it/s]\n",
            "/usr/local/lib/python3.11/dist-packages/sklearn/metrics/_classification.py:1565: UndefinedMetricWarning: Precision is ill-defined and being set to 0.0 in labels with no predicted samples. Use `zero_division` parameter to control this behavior.\n",
            "  _warn_prf(average, modifier, f\"{metric.capitalize()} is\", len(result))\n"
          ]
        },
        {
          "output_type": "stream",
          "name": "stdout",
          "text": [
            "\n",
            "--> Train loss 0.1624 | Accuracy 0.9638 | Precision 0.9496 | Recall 0.9638 | F1 0.9542\n"
          ]
        },
        {
          "output_type": "stream",
          "name": "stderr",
          "text": [
            "/usr/local/lib/python3.11/dist-packages/sklearn/metrics/_classification.py:1565: UndefinedMetricWarning: Precision is ill-defined and being set to 0.0 in labels with no predicted samples. Use `zero_division` parameter to control this behavior.\n",
            "  _warn_prf(average, modifier, f\"{metric.capitalize()} is\", len(result))\n"
          ]
        },
        {
          "output_type": "stream",
          "name": "stdout",
          "text": [
            "--> Val   loss 0.2745 | Accuracy 0.9380 | Precision 0.9329 | Recall 0.9380 | F1 0.9347\n",
            "\n",
            "Epoch 4/5\n",
            "----------\n"
          ]
        },
        {
          "output_type": "stream",
          "name": "stderr",
          "text": [
            "100%|██████████| 901/901 [06:59<00:00,  2.15it/s]\n",
            "/usr/local/lib/python3.11/dist-packages/sklearn/metrics/_classification.py:1565: UndefinedMetricWarning: Precision is ill-defined and being set to 0.0 in labels with no predicted samples. Use `zero_division` parameter to control this behavior.\n",
            "  _warn_prf(average, modifier, f\"{metric.capitalize()} is\", len(result))\n"
          ]
        },
        {
          "output_type": "stream",
          "name": "stdout",
          "text": [
            "\n",
            "--> Train loss 0.1465 | Accuracy 0.9657 | Precision 0.9494 | Recall 0.9657 | F1 0.9569\n"
          ]
        },
        {
          "output_type": "stream",
          "name": "stderr",
          "text": [
            "/usr/local/lib/python3.11/dist-packages/sklearn/metrics/_classification.py:1565: UndefinedMetricWarning: Precision is ill-defined and being set to 0.0 in labels with no predicted samples. Use `zero_division` parameter to control this behavior.\n",
            "  _warn_prf(average, modifier, f\"{metric.capitalize()} is\", len(result))\n"
          ]
        },
        {
          "output_type": "stream",
          "name": "stdout",
          "text": [
            "--> Val   loss 0.2739 | Accuracy 0.9450 | Precision 0.9355 | Recall 0.9450 | F1 0.9398\n",
            "\n",
            "Epoch 5/5\n",
            "----------\n"
          ]
        },
        {
          "output_type": "stream",
          "name": "stderr",
          "text": [
            "100%|██████████| 901/901 [06:59<00:00,  2.15it/s]\n",
            "/usr/local/lib/python3.11/dist-packages/sklearn/metrics/_classification.py:1565: UndefinedMetricWarning: Precision is ill-defined and being set to 0.0 in labels with no predicted samples. Use `zero_division` parameter to control this behavior.\n",
            "  _warn_prf(average, modifier, f\"{metric.capitalize()} is\", len(result))\n"
          ]
        },
        {
          "output_type": "stream",
          "name": "stdout",
          "text": [
            "\n",
            "--> Train loss 0.1430 | Accuracy 0.9666 | Precision 0.9596 | Recall 0.9666 | F1 0.9581\n",
            "--> Val   loss 0.2795 | Accuracy 0.9420 | Precision 0.9354 | Recall 0.9420 | F1 0.9381\n",
            "\n",
            "\n",
            "Final Confusion Matrix:\n"
          ]
        },
        {
          "output_type": "stream",
          "name": "stderr",
          "text": [
            "/usr/local/lib/python3.11/dist-packages/sklearn/metrics/_classification.py:1565: UndefinedMetricWarning: Precision is ill-defined and being set to 0.0 in labels with no predicted samples. Use `zero_division` parameter to control this behavior.\n",
            "  _warn_prf(average, modifier, f\"{metric.capitalize()} is\", len(result))\n"
          ]
        },
        {
          "output_type": "display_data",
          "data": {
            "text/plain": [
              "<Figure size 800x600 with 2 Axes>"
            ],
            "image/png": "[encoded data removed]"
          },
          "metadata": {}
        }
      ]
    }
  ]
}